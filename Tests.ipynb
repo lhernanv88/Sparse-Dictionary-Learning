{
 "cells": [
  {
   "cell_type": "markdown",
   "source": [
    "# Sparse Dictionary Learning Tests\n",
    "\n",
    "In this notebook we will be preforming tests to show the abilities of our sparse dictionary learning algorithm."
   ],
   "metadata": {
    "collapsed": false
   }
  },
  {
   "cell_type": "code",
   "execution_count": 45,
   "outputs": [],
   "source": [
    "import numpy as np\n",
    "import random\n",
    "import cv2\n",
    "from tqdm.notebook import tqdm\n",
    "import pandas as pd\n",
    "import matplotlib.pyplot as plt\n",
    "import pickle\n",
    "\n",
    "%run Classes.py"
   ],
   "metadata": {
    "collapsed": false
   }
  },
  {
   "cell_type": "markdown",
   "source": [
    "### Evaluation Criteria\n",
    "\n",
    "We will be using MSE and the Stochastic Partial Image Reconstruction to estimate error."
   ],
   "metadata": {
    "collapsed": false
   }
  },
  {
   "cell_type": "markdown",
   "source": [
    "## Task 1: Image Compression/Reconstruction\n",
    "\n",
    "This task is to take a single image, compress it (patch by patch) with sparse coding, and then reconstruct it. We will do this in two different ways: One way is by training our dictionary on a group of sample images, the other is by training using only the single test image. The purpose of the second method is to get a \"best case\" scenario of our algorithms preformance.\n",
    "\n",
    "\n",
    "***Method A: Same Image Training***\n",
    "Here we will train our dictionary on a single image, the same image that we will be testing on. The purpose of this is to get a \"best case\" scenario of our algorithms preformance.\n",
    "\n",
    "***Method B: Multiple Image Training***\n",
    "Here we will train our dictionary on a group of images, and then test it on an unseen test image.\n"
   ],
   "metadata": {
    "collapsed": false
   }
  },
  {
   "cell_type": "code",
   "execution_count": 6,
   "outputs": [],
   "source": [
    "learner = DictionaryLearner()"
   ],
   "metadata": {
    "collapsed": false
   }
  },
  {
   "cell_type": "code",
   "execution_count": 19,
   "outputs": [
    {
     "data": {
      "text/plain": "array([153.6, 204. ])"
     },
     "execution_count": 19,
     "metadata": {},
     "output_type": "execute_result"
    }
   ],
   "source": [
    "img = cv2.imread('Original Images/cheese_board.jpg')\n",
    "img.shape[:2] / np.array([20,20])"
   ],
   "metadata": {
    "collapsed": false
   }
  },
  {
   "cell_type": "code",
   "execution_count": 10,
   "outputs": [
    {
     "data": {
      "text/plain": "array([[[ 51,  50,  52],\n        [ 52,  51,  53],\n        [ 55,  54,  56],\n        ...,\n        [ 22,  28,  39],\n        [ 20,  26,  37],\n        [ 18,  24,  35]],\n\n       [[ 57,  56,  58],\n        [ 58,  57,  59],\n        [ 59,  58,  60],\n        ...,\n        [ 18,  24,  35],\n        [ 18,  24,  35],\n        [ 19,  25,  36]],\n\n       [[ 56,  55,  57],\n        [ 56,  55,  57],\n        [ 57,  56,  58],\n        ...,\n        [ 19,  25,  36],\n        [ 20,  26,  37],\n        [ 20,  26,  37]],\n\n       ...,\n\n       [[ 96, 108, 118],\n        [103, 115, 125],\n        [103, 115, 125],\n        ...,\n        [112, 110, 122],\n        [111, 110, 120],\n        [111, 110, 120]],\n\n       [[ 93, 105, 115],\n        [104, 116, 126],\n        [105, 117, 127],\n        ...,\n        [112, 110, 122],\n        [113, 109, 120],\n        [114, 110, 121]],\n\n       [[ 90, 102, 112],\n        [104, 116, 126],\n        [107, 119, 129],\n        ...,\n        [111, 109, 121],\n        [113, 109, 120],\n        [114, 110, 121]]], dtype=uint8)"
     },
     "execution_count": 10,
     "metadata": {},
     "output_type": "execute_result"
    }
   ],
   "source": [
    "# Load the image\n",
    "img = cv2.imread('dinner.jpg', cv2.IMREAD_COLOR)\n",
    "\n",
    "# Resize the image to 400x300 pixels\n",
    "img_resized = cv2.resize(img, (200, 150), interpolation=cv2.INTER_AREA)\n",
    "\n",
    "# Convert the resized image to grayscale\n",
    "img_gray = cv2.cvtColor(img_resized, cv2.COLOR_RGB2GRAY)\n",
    "\n",
    "# Save the grayscale image as 'small_gray_dinner.png'\n",
    "cv2.imwrite('small_gray_dinner.png', img_gray )"
   ],
   "metadata": {
    "collapsed": false
   }
  },
  {
   "cell_type": "code",
   "execution_count": 20,
   "outputs": [],
   "source": [
    "paths = ['cheese_board.jpg', 'chicken_n_beans.jpg', 'octopus.jpg', 'tea_eggs.jpg', 'persimmon_tomato_salad.jpg']"
   ],
   "metadata": {
    "collapsed": false
   }
  },
  {
   "cell_type": "code",
   "execution_count": 32,
   "outputs": [
    {
     "data": {
      "text/plain": "  0%|          | 0/10 [00:00<?, ?it/s]",
      "application/vnd.jupyter.widget-view+json": {
       "version_major": 2,
       "version_minor": 0,
       "model_id": "ed8ca709652148e08dd25929eec1c48e"
      }
     },
     "metadata": {},
     "output_type": "display_data"
    },
    {
     "data": {
      "text/plain": "  0%|          | 0/5519 [00:00<?, ?it/s]",
      "application/vnd.jupyter.widget-view+json": {
       "version_major": 2,
       "version_minor": 0,
       "model_id": "002067ce5c08420c8cc354c17297d98c"
      }
     },
     "metadata": {},
     "output_type": "display_data"
    },
    {
     "name": "stderr",
     "output_type": "stream",
     "text": [
      "C:\\Users\\raino\\GitHub\\Sparse-Dictionary-Learning\\Classes.py:554: RuntimeWarning: invalid value encountered in floor_divide\n",
      "  recon_img = recon_img // count\n"
     ]
    },
    {
     "data": {
      "text/plain": "  0%|          | 0/10 [00:00<?, ?it/s]",
      "application/vnd.jupyter.widget-view+json": {
       "version_major": 2,
       "version_minor": 0,
       "model_id": "27e06b03f7824762888ac0c258e1e384"
      }
     },
     "metadata": {},
     "output_type": "display_data"
    },
    {
     "data": {
      "text/plain": "  0%|          | 0/5519 [00:00<?, ?it/s]",
      "application/vnd.jupyter.widget-view+json": {
       "version_major": 2,
       "version_minor": 0,
       "model_id": "e2394d69ba1e4240a870de3b93368009"
      }
     },
     "metadata": {},
     "output_type": "display_data"
    },
    {
     "data": {
      "text/plain": "  0%|          | 0/10 [00:00<?, ?it/s]",
      "application/vnd.jupyter.widget-view+json": {
       "version_major": 2,
       "version_minor": 0,
       "model_id": "0d8a791bebc84c3ea8c1c9f4ef9dc001"
      }
     },
     "metadata": {},
     "output_type": "display_data"
    },
    {
     "data": {
      "text/plain": "  0%|          | 0/5519 [00:00<?, ?it/s]",
      "application/vnd.jupyter.widget-view+json": {
       "version_major": 2,
       "version_minor": 0,
       "model_id": "60f37f760b5d4764b2d0e4b3803b3a20"
      }
     },
     "metadata": {},
     "output_type": "display_data"
    },
    {
     "data": {
      "text/plain": "  0%|          | 0/10 [00:00<?, ?it/s]",
      "application/vnd.jupyter.widget-view+json": {
       "version_major": 2,
       "version_minor": 0,
       "model_id": "5b493921d0b942ad9f5d6fdcc3ae734e"
      }
     },
     "metadata": {},
     "output_type": "display_data"
    },
    {
     "data": {
      "text/plain": "  0%|          | 0/5519 [00:00<?, ?it/s]",
      "application/vnd.jupyter.widget-view+json": {
       "version_major": 2,
       "version_minor": 0,
       "model_id": "bf55cb9c58294b2b8b0f90b0661a750b"
      }
     },
     "metadata": {},
     "output_type": "display_data"
    },
    {
     "data": {
      "text/plain": "  0%|          | 0/10 [00:00<?, ?it/s]",
      "application/vnd.jupyter.widget-view+json": {
       "version_major": 2,
       "version_minor": 0,
       "model_id": "029637ef8633486097483b3b2abb6138"
      }
     },
     "metadata": {},
     "output_type": "display_data"
    },
    {
     "data": {
      "text/plain": "  0%|          | 0/5519 [00:00<?, ?it/s]",
      "application/vnd.jupyter.widget-view+json": {
       "version_major": 2,
       "version_minor": 0,
       "model_id": "5be5d8bd9f48474881b9ba426a7a5a24"
      }
     },
     "metadata": {},
     "output_type": "display_data"
    }
   ],
   "source": [
    "paths = ['Compressed Images/cheese_board.jpg']\n",
    "new_path = 'Reconstructed Images/cheese_boardL'\n",
    "N = 512\n",
    "K = 256\n",
    "I = 10\n",
    "percent= .2\n",
    "min_count = 1\n",
    "patch_shape = np.array([8,8])\n",
    "\n",
    "sam = Sampler(paths = paths, patch_shape = patch_shape, num_samples = N)\n",
    "\n",
    "dictionaries = []\n",
    "Ls = [1, 2, 4, 8, 16]\n",
    "for L in Ls:\n",
    "    learner = DictionaryLearner(L=L, K=K, sampler=sam, algo = 'OMP')\n",
    "    D = learner.sparse_dictionary_learning(iters = I, output = True)\n",
    "    (recon, error) =  learner.SPIR(path = paths[0], percent=percent, min_count=min_count)\n",
    "    dictionaries.append((L, D, error))\n",
    "    cv2.imwrite(new_path + str(L) + '.jpg', recon)"
   ],
   "metadata": {
    "collapsed": false
   }
  },
  {
   "cell_type": "markdown",
   "source": [],
   "metadata": {
    "collapsed": false
   }
  },
  {
   "cell_type": "code",
   "execution_count": 35,
   "outputs": [],
   "source": [
    "\n",
    "with open('Graphs/cheese_board_dictionaries.pkl', 'wb') as f:\n",
    "    pickle.dump(dictionaries, f)\n"
   ],
   "metadata": {
    "collapsed": false
   }
  },
  {
   "cell_type": "code",
   "execution_count": 36,
   "outputs": [
    {
     "data": {
      "text/plain": "<Figure size 640x480 with 1 Axes>",
      "image/png": "[encoded data removed]"
     },
     "metadata": {},
     "output_type": "display_data"
    }
   ],
   "source": [
    "xs = Ls\n",
    "ys = [ error for L, dic, error in dictionaries]\n",
    "\n",
    "\n",
    "plt.plot(xs, ys, linestyle='--', marker='o', color='blue', label = 'Cheese Board')\n",
    "plt.xlabel('Number of Atoms')\n",
    "plt.ylabel('Error Est.')\n",
    "plt.title('Error for different number of Atoms')\n",
    "plt.legend()\n",
    "plt.savefig('Graphs/Error_Est_for_L.png')\n",
    "plt.show()\n"
   ],
   "metadata": {
    "collapsed": false
   }
  },
  {
   "cell_type": "code",
   "execution_count": 37,
   "outputs": [
    {
     "data": {
      "text/plain": "  0%|          | 0/1 [00:00<?, ?it/s]",
      "application/vnd.jupyter.widget-view+json": {
       "version_major": 2,
       "version_minor": 0,
       "model_id": "4023d5f3b74f4fe3baa923245c04994d"
      }
     },
     "metadata": {},
     "output_type": "display_data"
    },
    {
     "data": {
      "text/plain": "  0%|          | 0/5519 [00:00<?, ?it/s]",
      "application/vnd.jupyter.widget-view+json": {
       "version_major": 2,
       "version_minor": 0,
       "model_id": "80cb9cdb7b994d10ba41b0ea47dbe460"
      }
     },
     "metadata": {},
     "output_type": "display_data"
    },
    {
     "name": "stderr",
     "output_type": "stream",
     "text": [
      "C:\\Users\\raino\\GitHub\\Sparse-Dictionary-Learning\\Classes.py:554: RuntimeWarning: invalid value encountered in floor_divide\n",
      "  recon_img = recon_img // count\n"
     ]
    },
    {
     "data": {
      "text/plain": "  0%|          | 0/1 [00:00<?, ?it/s]",
      "application/vnd.jupyter.widget-view+json": {
       "version_major": 2,
       "version_minor": 0,
       "model_id": "1628bf4ed5fc4e3a97239935b573819c"
      }
     },
     "metadata": {},
     "output_type": "display_data"
    },
    {
     "data": {
      "text/plain": "  0%|          | 0/5519 [00:00<?, ?it/s]",
      "application/vnd.jupyter.widget-view+json": {
       "version_major": 2,
       "version_minor": 0,
       "model_id": "d583d4e9e231461f84f60e01a5635d5f"
      }
     },
     "metadata": {},
     "output_type": "display_data"
    },
    {
     "data": {
      "text/plain": "  0%|          | 0/1 [00:00<?, ?it/s]",
      "application/vnd.jupyter.widget-view+json": {
       "version_major": 2,
       "version_minor": 0,
       "model_id": "3e93468ff9414a4cbab0aefded19a511"
      }
     },
     "metadata": {},
     "output_type": "display_data"
    },
    {
     "data": {
      "text/plain": "  0%|          | 0/5519 [00:00<?, ?it/s]",
      "application/vnd.jupyter.widget-view+json": {
       "version_major": 2,
       "version_minor": 0,
       "model_id": "c5615cc594d8416db4952748a7577dc5"
      }
     },
     "metadata": {},
     "output_type": "display_data"
    }
   ],
   "source": [
    "paths = ['Compressed Images/chicken_n_beans.jpg']\n",
    "new_path = 'Reconstructed Images/chicken_n_beansL'\n",
    "N = 256\n",
    "K = 128\n",
    "I = 1\n",
    "percent= .2\n",
    "min_count = 1\n",
    "patch_shape = np.array([8,8])\n",
    "\n",
    "sam = Sampler(paths = paths, patch_shape = patch_shape, num_samples = N)\n",
    "\n",
    "dictionaries = []\n",
    "Ls = [5,10,20] # Depends on what I see, but probably [2, 8, 10, 16]? [1, 2, 4, 8, 16]\n",
    "for L in Ls:\n",
    "    learner = DictionaryLearner(L=L, K=K, sampler=sam, algo = 'OMP')\n",
    "    D = learner.sparse_dictionary_learning(iters = I, output = True)\n",
    "    (recon, error) =  learner.SPIR(path = paths[0], percent=percent, min_count=min_count)\n",
    "    dictionaries.append((L, D, error))\n",
    "    cv2.imwrite(new_path + str(L) + '.jpg', recon)\n",
    "\n",
    "with open('Graphs/chicken_n_beans.pkl', 'wb') as f:\n",
    "    pickle.dump(dictionaries, f)"
   ],
   "metadata": {
    "collapsed": false
   }
  },
  {
   "cell_type": "code",
   "execution_count": 38,
   "outputs": [
    {
     "data": {
      "text/plain": "<Figure size 640x480 with 1 Axes>",
      "image/png": "[encoded data removed]"
     },
     "metadata": {},
     "output_type": "display_data"
    }
   ],
   "source": [
    "xs2 = Ls\n",
    "ys2 = [ error for L, dic, error in dictionaries]\n",
    "\n",
    "\n",
    "plt.plot(xs, ys, linestyle='--', marker='o', color='blue', label = 'Cheese Board')\n",
    "plt.plot(xs2, ys2, linestyle='--', marker='s', color='green', label = \"Chicken 'n Beans\")\n",
    "plt.xlabel('Number of Atoms')\n",
    "plt.ylabel('Error Est.')\n",
    "plt.title('Error for different number of Atoms')\n",
    "plt.legend()\n",
    "plt.savefig('Graphs/Error_Est_for_L.png')\n",
    "plt.show()"
   ],
   "metadata": {
    "collapsed": false
   }
  },
  {
   "cell_type": "code",
   "execution_count": 41,
   "outputs": [
    {
     "data": {
      "text/plain": "  0%|          | 0/5 [00:00<?, ?it/s]",
      "application/vnd.jupyter.widget-view+json": {
       "version_major": 2,
       "version_minor": 0,
       "model_id": "f84f1d20ddfe4a679f552b6ec3156b70"
      }
     },
     "metadata": {},
     "output_type": "display_data"
    },
    {
     "data": {
      "text/plain": "  0%|          | 0/5519 [00:00<?, ?it/s]",
      "application/vnd.jupyter.widget-view+json": {
       "version_major": 2,
       "version_minor": 0,
       "model_id": "2e36003f21f64b0c93ba08bf4ce35c4b"
      }
     },
     "metadata": {},
     "output_type": "display_data"
    },
    {
     "name": "stderr",
     "output_type": "stream",
     "text": [
      "C:\\Users\\raino\\GitHub\\Sparse-Dictionary-Learning\\Classes.py:554: RuntimeWarning: invalid value encountered in floor_divide\n",
      "  recon_img = recon_img // count\n"
     ]
    },
    {
     "data": {
      "text/plain": "  0%|          | 0/5 [00:00<?, ?it/s]",
      "application/vnd.jupyter.widget-view+json": {
       "version_major": 2,
       "version_minor": 0,
       "model_id": "6b30123021c14cd49ce3eefc21ed927c"
      }
     },
     "metadata": {},
     "output_type": "display_data"
    },
    {
     "data": {
      "text/plain": "  0%|          | 0/5519 [00:00<?, ?it/s]",
      "application/vnd.jupyter.widget-view+json": {
       "version_major": 2,
       "version_minor": 0,
       "model_id": "ef136c45ebd5455492f98a974b50cd5e"
      }
     },
     "metadata": {},
     "output_type": "display_data"
    },
    {
     "data": {
      "text/plain": "  0%|          | 0/5 [00:00<?, ?it/s]",
      "application/vnd.jupyter.widget-view+json": {
       "version_major": 2,
       "version_minor": 0,
       "model_id": "cd7b96d3758e497993c72b29584d2130"
      }
     },
     "metadata": {},
     "output_type": "display_data"
    },
    {
     "data": {
      "text/plain": "  0%|          | 0/5519 [00:00<?, ?it/s]",
      "application/vnd.jupyter.widget-view+json": {
       "version_major": 2,
       "version_minor": 0,
       "model_id": "c44661f72087455abc83ed0c9412da0c"
      }
     },
     "metadata": {},
     "output_type": "display_data"
    }
   ],
   "source": [
    "paths = ['Compressed Images/persimmon_tomato_salad.jpg']\n",
    "new_path = 'Reconstructed Images/persimmon_tomato_saladL'\n",
    "N = 512\n",
    "K = 256\n",
    "I = 5\n",
    "percent= .2\n",
    "min_count = 1\n",
    "patch_shape = np.array([8,8])\n",
    "\n",
    "sam = Sampler(paths = paths, patch_shape = patch_shape, num_samples = N)\n",
    "\n",
    "dictionaries = []\n",
    "Ls = [5,10,16] # Depends on what I see, but probably [2, 8, 10, 16]? [1, 2, 4, 8, 16]\n",
    "for L in Ls:\n",
    "    learner = DictionaryLearner(L=L, K=K, sampler=sam, algo = 'OMP')\n",
    "    D = learner.sparse_dictionary_learning(iters = I, output = True)\n",
    "    (recon, error) =  learner.SPIR(path = paths[0], percent=percent, min_count=min_count)\n",
    "    dictionaries.append((L, D, error))\n",
    "    cv2.imwrite(new_path + str(L) + '.jpg', recon)\n",
    "\n",
    "with open('Graphs/persimmon_tomato_salad.pkl', 'wb') as f:\n",
    "    pickle.dump(dictionaries, f)"
   ],
   "metadata": {
    "collapsed": false
   }
  },
  {
   "cell_type": "code",
   "execution_count": 42,
   "outputs": [
    {
     "data": {
      "text/plain": "<Figure size 640x480 with 1 Axes>",
      "image/png": "[encoded data removed]"
     },
     "metadata": {},
     "output_type": "display_data"
    }
   ],
   "source": [
    "xs3 = Ls\n",
    "ys3 = [ error for L, dic, error in dictionaries]\n",
    "\n",
    "\n",
    "plt.plot(xs, ys, linestyle='--', marker='o', color='blue', label = 'Cheese Board')\n",
    "plt.plot(xs2, ys2, linestyle='--', marker='s', color='green', label = \"Chicken 'n Beans\")\n",
    "plt.plot(xs3, ys3, linestyle='--', marker='s', color='red', label = \"Tomato Salad\")\n",
    "plt.xlabel('Number of Atoms')\n",
    "plt.ylabel('Error Est.')\n",
    "plt.title('Error for different number of Atoms')\n",
    "plt.legend()\n",
    "plt.savefig('Graphs/Error_Est_for_L.png')\n",
    "plt.show()"
   ],
   "metadata": {
    "collapsed": false
   }
  },
  {
   "cell_type": "markdown",
   "source": [
    "### Results\n",
    "\n",
    "\n",
    "#### Cheese Board\n",
    "As a reminder, the parameters for this one were: N = 512, K = 256, I = 10\n",
    "\n",
    "| L = 1, Error = 14.21                                                                          | L = 2, Error = 8.45                                                                           | L = 4, Error = 11.58                                                                          |\n",
    "|-----------------------------------------------------------------------------------------------|-----------------------------------------------------------------------------------------------|-----------------------------------------------------------------------------------------------|\n",
    "| <img alt=\"Caption 1\" height=\"300\" src=\"Reconstructed Images/cheese_boardL1.jpg\" width=\"400\"/> | <img alt=\"Caption 2\" height=\"300\" src=\"Reconstructed Images/cheese_boardL2.jpg\" width=\"400\"/> | <img alt=\"Caption 2\" height=\"300\" src=\"Reconstructed Images/cheese_boardL4.jpg\" width=\"400\"/> |\n",
    "\n",
    "| L = 8, Error = 5.56                                                                           | L = 16, Error = 2.92                                                                           | Original                                                                                 |\n",
    "|-----------------------------------------------------------------------------------------------|------------------------------------------------------------------------------------------------|------------------------------------------------------------------------------------------|\n",
    "| <img alt=\"Caption 1\" height=\"300\" src=\"Reconstructed Images/cheese_boardL8.jpg\" width=\"400\"/> | <img alt=\"Caption 2\" height=\"300\" src=\"Reconstructed Images/cheese_boardL16.jpg\" width=\"400\"/> | <img alt=\"Caption 2\" height=\"300\" src=\"Compressed Images/cheese_board.jpg\" width=\"400\"/> |\n",
    "\n",
    "#### Chicken 'n Beans\n",
    "The parameters for this one were: N = 256, K = 128, I = 1\n",
    "\n",
    "| L = 5, Error = 7.90                                                                              | L = 10, Error = 5.49                                                                              | L = 20, Error = 2.89                                                                              |Original                                                                                 |\n",
    "|--------------------------------------------------------------------------------------------------|---------------------------------------------------------------------------------------------------|---------------------------------------------------------------------------------------------------|----|\n",
    "| <img alt=\"Caption 1\" height=\"300\" src=\"Reconstructed Images/chicken_n_beansL5.jpg\" width=\"400\"/> | <img alt=\"Caption 2\" height=\"300\" src=\"Reconstructed Images/chicken_n_beansL10.jpg\" width=\"400\"/> | <img alt=\"Caption 2\" height=\"300\" src=\"Reconstructed Images/chicken_n_beansL20.jpg\" width=\"400\"/> |<img alt=\"Caption 2\" height=\"300\" src=\"Compressed Images/chicken_n_beans.jpg\" width=\"400\"/> |\n",
    "\n",
    "#### Tomato Salad\n",
    "The parameters for this one were: N = 512, K = 256, I = 5\n",
    "\n",
    "| L = 5, Error =                                                                                          | L = 10, Error =                                                                                      | L = 16, Error =                                                                                          |Original                                                                                 |\n",
    "|---------------------------------------------------------------------------------------------------------|------------------------------------------------------------------------------------------------------|----------------------------------------------------------------------------------------------------------|----|\n",
    "| <img alt=\"Caption 1\" height=\"300\" src=\"Reconstructed Images/persimmon_tomato_saladL5.jpg\" width=\"400\"/> | <img alt=\"Caption 2\" height=\"300\" src=\"Reconstructed Images/persimmon_tomato_saladL10.jpg\" width=\"400\"/> | <img alt=\"Caption 2\" height=\"300\" src=\"Reconstructed Images/persimmon_tomato_saladL16.jpg\" width=\"400\"/> |<img alt=\"Caption 2\" height=\"300\" src=\"Compressed Images/persimmon_tomato_salad.jpg\" width=\"400\"/> |"
   ],
   "metadata": {
    "collapsed": false
   }
  },
  {
   "cell_type": "code",
   "execution_count": null,
   "outputs": [],
   "source": [],
   "metadata": {
    "collapsed": false
   }
  },
  {
   "cell_type": "markdown",
   "source": [
    "### Method B\n",
    "\n",
    "Unseen data"
   ],
   "metadata": {
    "collapsed": false
   }
  },
  {
   "cell_type": "code",
   "execution_count": 46,
   "outputs": [
    {
     "data": {
      "text/plain": "  0%|          | 0/10 [00:00<?, ?it/s]",
      "application/vnd.jupyter.widget-view+json": {
       "version_major": 2,
       "version_minor": 0,
       "model_id": "dda9738c0d4a4c0099cecb3ebcdeeda1"
      }
     },
     "metadata": {},
     "output_type": "display_data"
    },
    {
     "data": {
      "text/plain": "  0%|          | 0/5519 [00:00<?, ?it/s]",
      "application/vnd.jupyter.widget-view+json": {
       "version_major": 2,
       "version_minor": 0,
       "model_id": "50e5a64695bb4950ba01c3cf307b362b"
      }
     },
     "metadata": {},
     "output_type": "display_data"
    },
    {
     "name": "stderr",
     "output_type": "stream",
     "text": [
      "C:\\Users\\raino\\GitHub\\Sparse-Dictionary-Learning\\Classes.py:554: RuntimeWarning: invalid value encountered in floor_divide\n",
      "  recon_img = recon_img // count\n"
     ]
    },
    {
     "data": {
      "text/plain": "  0%|          | 0/10 [00:00<?, ?it/s]",
      "application/vnd.jupyter.widget-view+json": {
       "version_major": 2,
       "version_minor": 0,
       "model_id": "bd36415a0791438e9749ff4e7900afbc"
      }
     },
     "metadata": {},
     "output_type": "display_data"
    },
    {
     "data": {
      "text/plain": "  0%|          | 0/5519 [00:00<?, ?it/s]",
      "application/vnd.jupyter.widget-view+json": {
       "version_major": 2,
       "version_minor": 0,
       "model_id": "a036538b91df40d187b8facacd890c6c"
      }
     },
     "metadata": {},
     "output_type": "display_data"
    },
    {
     "data": {
      "text/plain": "  0%|          | 0/10 [00:00<?, ?it/s]",
      "application/vnd.jupyter.widget-view+json": {
       "version_major": 2,
       "version_minor": 0,
       "model_id": "6d21483acc274cb38a405126c778b268"
      }
     },
     "metadata": {},
     "output_type": "display_data"
    },
    {
     "data": {
      "text/plain": "  0%|          | 0/5519 [00:00<?, ?it/s]",
      "application/vnd.jupyter.widget-view+json": {
       "version_major": 2,
       "version_minor": 0,
       "model_id": "08019a0c38e34f62898d89720ccb32a6"
      }
     },
     "metadata": {},
     "output_type": "display_data"
    },
    {
     "data": {
      "text/plain": "  0%|          | 0/10 [00:00<?, ?it/s]",
      "application/vnd.jupyter.widget-view+json": {
       "version_major": 2,
       "version_minor": 0,
       "model_id": "06c65a0267f343e4806cc4b179c990b5"
      }
     },
     "metadata": {},
     "output_type": "display_data"
    },
    {
     "data": {
      "text/plain": "  0%|          | 0/5519 [00:00<?, ?it/s]",
      "application/vnd.jupyter.widget-view+json": {
       "version_major": 2,
       "version_minor": 0,
       "model_id": "17f8f32d54ba405981f447d93deac8f0"
      }
     },
     "metadata": {},
     "output_type": "display_data"
    },
    {
     "data": {
      "text/plain": "  0%|          | 0/10 [00:00<?, ?it/s]",
      "application/vnd.jupyter.widget-view+json": {
       "version_major": 2,
       "version_minor": 0,
       "model_id": "381f97bc80c24f25ad638347b67e1aeb"
      }
     },
     "metadata": {},
     "output_type": "display_data"
    },
    {
     "data": {
      "text/plain": "  0%|          | 0/5519 [00:00<?, ?it/s]",
      "application/vnd.jupyter.widget-view+json": {
       "version_major": 2,
       "version_minor": 0,
       "model_id": "dc0b78c61eaa42208c49b4487e133d29"
      }
     },
     "metadata": {},
     "output_type": "display_data"
    },
    {
     "data": {
      "text/plain": "  0%|          | 0/10 [00:00<?, ?it/s]",
      "application/vnd.jupyter.widget-view+json": {
       "version_major": 2,
       "version_minor": 0,
       "model_id": "8087f03ce5d8495d9c4426c6e8e9e920"
      }
     },
     "metadata": {},
     "output_type": "display_data"
    },
    {
     "data": {
      "text/plain": "  0%|          | 0/5519 [00:00<?, ?it/s]",
      "application/vnd.jupyter.widget-view+json": {
       "version_major": 2,
       "version_minor": 0,
       "model_id": "98e69417b28b4d80b9425276259de768"
      }
     },
     "metadata": {},
     "output_type": "display_data"
    }
   ],
   "source": [
    "paths = ['Compressed Images/cheese_board.jpg', 'Compressed Images/chicken_n_beans.jpg', 'Compressed Images/persimmon_tomato_salad.jpg', 'Compressed Images/tea_eggs.jpg']\n",
    "new_path = 'Reconstructed Images/octopus'\n",
    "path = 'Compressed Images/octopus.jpg'\n",
    "\n",
    "K = 128\n",
    "I = 10\n",
    "percent= .2\n",
    "min_count = 1\n",
    "patch_shape = np.array([8,8])\n",
    "\n",
    "#Ns = [186, 256, 512, 1042]\n",
    "Ns = [512, 1842]\n",
    "octopus_errors = {}\n",
    "for N in Ns:\n",
    "    octopus_errors[N] = []\n",
    "    sam = Sampler(paths = paths, patch_shape = patch_shape, num_samples = N)\n",
    "\n",
    "    dictionaries = []\n",
    "    #Ls = [1, 2, 4, 8, 16]\n",
    "    Ls = [2,4,8]\n",
    "    for L in Ls:\n",
    "        learner = DictionaryLearner(L=L, K=K, sampler=sam, algo = 'OMP')\n",
    "        D = learner.sparse_dictionary_learning(iters = I, output = True)\n",
    "        (recon, error) =  learner.SPIR(path = path, percent=percent, min_count=min_count)\n",
    "        dictionaries.append((L, N, D, error))\n",
    "        correct_path = new_path + 'N' + str(N) + 'L' + str(L) + '.jpg'\n",
    "        cv2.imwrite(correct_path, recon)\n",
    "\n",
    "        octopus_errors[N].append(error)\n",
    "\n",
    "    with open('Graphs/octopusN' + str(N) + '.pkl', 'wb') as f:\n",
    "        pickle.dump(dictionaries, f)\n",
    "\n"
   ],
   "metadata": {
    "collapsed": false
   }
  },
  {
   "cell_type": "code",
   "execution_count": 72,
   "outputs": [
    {
     "data": {
      "text/plain": "<Figure size 640x480 with 1 Axes>",
      "image/png": "[encoded data removed]"
     },
     "metadata": {},
     "output_type": "display_data"
    }
   ],
   "source": [
    "xs186 = [1,2,4,8,16]\n",
    "ys186 = octopus_errors[186]\n",
    "xs256 = [1,2]\n",
    "ys256 = octopus_errors[256]\n",
    "xs512 = [2,4,8]\n",
    "ys512 = octopus_errors[512]\n",
    "xs1842 = [2,4,8]\n",
    "ys1842 = octopus_errors[1842]\n",
    "\n",
    "plt.plot(xs186, ys186, linestyle='-', marker='s', color='blue', label = 'N = 186')\n",
    "plt.plot(xs256, ys256, linestyle='--', marker='^', color='green', label = 'N = 256')\n",
    "#plt.plot(xs512, ys512, linestyle=':', marker='d', color='red', label = 'N = 512')\n",
    "#plt.plot(xs1842, ys1842, linestyle='-.', marker='o', color='purple', label = 'N = 1842')\n",
    "\n",
    "plt.xlabel('Number of Atoms')\n",
    "plt.ylabel('Error Est.')\n",
    "plt.title('Error for different numbers of atoms')\n",
    "plt.legend()\n",
    "plt.savefig('Graphs/Octopus_Error_Est_small_N.png')\n",
    "plt.show()\n"
   ],
   "metadata": {
    "collapsed": false
   }
  },
  {
   "cell_type": "code",
   "execution_count": 86,
   "outputs": [
    {
     "data": {
      "text/plain": "<Figure size 640x480 with 1 Axes>",
      "image/png": "[encoded data removed]"
     },
     "metadata": {},
     "output_type": "display_data"
    }
   ],
   "source": [
    "xs186 = [1,2,4,8,16]\n",
    "#ys186 = octopus_errors[186]\n",
    "xs256 = [1,2]\n",
    "ys256 = octopus_errors[256]\n",
    "xs512 = [2,4,8]\n",
    "ys512 = octopus_errors[512]\n",
    "xs1842 = [2,4,8]\n",
    "ys1842 = octopus_errors[1842]\n",
    "\n",
    "plt.plot(xs186, ys186, linestyle='-', marker='s', color='blue', label = 'N = 186')\n",
    "#plt.plot(xs256, ys256, linestyle='--', marker='^', color='green', label = 'N = 256')\n",
    "plt.plot(xs512, ys512, linestyle=':', marker='d', color='red', label = 'N = 512')\n",
    "plt.plot(xs1842, ys1842, linestyle='-.', marker='o', color='purple', label = 'N = 1842')\n",
    "\n",
    "plt.xlabel('Number of Atoms')\n",
    "plt.ylabel('Error Est.')\n",
    "plt.title('Error for different numbers of atoms')\n",
    "plt.legend()\n",
    "plt.savefig('Graphs/Octopus_Error_Est.png')\n",
    "plt.show()"
   ],
   "metadata": {
    "collapsed": false
   }
  },
  {
   "cell_type": "markdown",
   "source": [
    "### Results\n",
    "\n",
    "<img alt=\"Caption 1\" height=\"600\" src=\"Graphs/Octopus_Error_Est.png\" width=\"800\"/>\n"
   ],
   "metadata": {
    "collapsed": false
   }
  },
  {
   "cell_type": "code",
   "execution_count": 63,
   "outputs": [
    {
     "data": {
      "text/plain": "{512: [13.242186606184813, 9.789715176606133, 6.906319955139147],\n 1842: [12.576150723750777, 9.640872379578324, 6.903842410450008],\n 186: [164.16533440544174,\n  163.04435253017567,\n  162.0065687403697,\n  157.18729682359347,\n  142.1749915411592],\n 256: [163.3992867001085, 163.00598316958377]}"
     },
     "execution_count": 63,
     "metadata": {},
     "output_type": "execute_result"
    }
   ],
   "source": [
    "octopus_errors"
   ],
   "metadata": {
    "collapsed": false
   }
  },
  {
   "cell_type": "code",
   "execution_count": 77,
   "outputs": [
    {
     "name": "stdout",
     "output_type": "stream",
     "text": [
      "163.04435253017567\n",
      "163.00598316958377\n",
      "161.69835487765874\n",
      "161.80806974879397\n"
     ]
    }
   ],
   "source": [
    "L = 2\n",
    "img_orig = load_image('Compressed Images/octopus.jpg')\n",
    "img_orig_flat = img_orig.copy().flatten()\n",
    "#octopus_errors[N] = []\n",
    "for N in [186, 256, 512, 1842]:\n",
    "    img = load_image('Reconstructed Images/octopusN' + str(N) + 'L' + str(L) +'.jpg')\n",
    "    img_flat = img.flatten()\n",
    "    temp_indices = np.where(img_flat>0)[0]\n",
    "    M = len(temp_indices)\n",
    "\n",
    "    error = np.linalg.norm(img_orig_flat[temp_indices] - img_flat[temp_indices])/np.sqrt(M)\n",
    "    #octopus_errors[N].append(error)\n",
    "    print(error)\n"
   ],
   "metadata": {
    "collapsed": false
   }
  },
  {
   "cell_type": "code",
   "execution_count": 80,
   "outputs": [
    {
     "data": {
      "text/plain": "29913"
     },
     "execution_count": 80,
     "metadata": {},
     "output_type": "execute_result"
    }
   ],
   "source": [
    "M"
   ],
   "metadata": {
    "collapsed": false
   }
  },
  {
   "cell_type": "code",
   "execution_count": 51,
   "outputs": [
    {
     "data": {
      "text/plain": "array([[ 64,  63,  61, ...,  54,  56,  49],\n       [ 54,  57,  59, ...,  44,  46,  59],\n       [ 51,  57,  63, ..., 130, 122,  99],\n       ...,\n       [ 15,  15,  15, ...,  81,  83,  82],\n       [ 14,  14,  13, ...,  85,  85,  88],\n       [ 14,  13,  12, ...,  85,  84,  89]], dtype=uint8)"
     },
     "execution_count": 51,
     "metadata": {},
     "output_type": "execute_result"
    }
   ],
   "source": [
    "    temp_recon = recon_img.copy().flatten()\n",
    "temp_count = count.copy().flatten()\n",
    "temp_img = img.copy().flatten()\n",
    "temp_indices = np.where(temp_count>min_count)[0]\n",
    "M = len(temp_indices)\n",
    "error = np.linalg.norm(temp_img[temp_indices] -  (temp_recon[temp_indices]/temp_count[temp_indices]))/np.sqrt(M)\n",
    "\n",
    "recon_img = recon_img // count\n",
    "recon_img = np.clip(recon_img, 0, 255).astype(np.uint8)"
   ],
   "metadata": {
    "collapsed": false
   }
  },
  {
   "cell_type": "code",
   "execution_count": 81,
   "outputs": [
    {
     "data": {
      "text/plain": "[(1,\n  186,\n  array([[-3.18506563e-02, -1.27343998e-01,  1.85000000e+02, ...,\n           3.00000000e+01,  8.55218349e-02, -1.29176059e-01],\n         [-4.30920878e-02, -1.27770510e-01,  1.87000000e+02, ...,\n           4.40000000e+01,  8.53436910e-02, -1.39900575e-01],\n         [-6.97904379e-02, -1.28144119e-01,  1.94000000e+02, ...,\n           7.00000000e+01,  8.78572005e-02, -1.38904281e-01],\n         ...,\n         [-1.79465140e-01, -1.21024486e-01,  8.80000000e+01, ...,\n           1.74000000e+02,  1.22651725e-01, -1.09193237e-01],\n         [-1.87236146e-01, -1.20723804e-01,  9.70000000e+01, ...,\n           1.75000000e+02,  1.23680926e-01, -1.12395724e-01],\n         [-1.86512259e-01, -1.20732782e-01,  5.80000000e+01, ...,\n           1.73000000e+02,  1.30885334e-01, -1.10705526e-01]]),\n  16.723953500952994),\n (2,\n  186,\n  array([[ 2.00164427e-01,  1.40000000e+02, -1.36580751e-01, ...,\n           2.20000000e+01, -1.24615965e-01,  1.91658247e-01],\n         [ 9.39372588e-02,  1.20000000e+02, -1.00240612e-01, ...,\n           3.60000000e+01, -1.26718986e-01,  1.41807335e-01],\n         [-4.88142769e-02,  7.50000000e+01, -1.45966090e-01, ...,\n           4.10000000e+01, -1.24708510e-01,  1.36879975e-01],\n         ...,\n         [ 1.03701505e-02,  8.40000000e+01, -1.39979501e-01, ...,\n           8.60000000e+01, -1.23702919e-01,  4.75746061e-02],\n         [ 2.97287762e-02,  6.90000000e+01, -1.43886430e-01, ...,\n           8.60000000e+01, -1.23762273e-01,  4.01551442e-02],\n         [ 4.09129179e-02,  1.07000000e+02, -1.45633944e-01, ...,\n           8.30000000e+01, -1.25184929e-01,  9.31265036e-02]]),\n  13.626814201391417),\n (4,\n  186,\n  array([[ 2.30000000e+01,  8.70000000e+01, -1.11127762e-01, ...,\n          -1.43356289e-01, -4.41076599e-02, -1.88951659e-01],\n         [ 2.40000000e+01,  1.11000000e+02, -6.19358208e-02, ...,\n          -8.17209491e-02, -7.10673888e-02, -1.30702829e-01],\n         [ 2.40000000e+01,  1.18000000e+02,  3.14879043e-02, ...,\n          -1.03397536e-01,  1.28685525e-02, -6.71625120e-02],\n         ...,\n         [ 5.50000000e+01,  1.33000000e+02,  2.35891479e-01, ...,\n          -1.78148188e-01, -2.87789768e-02, -1.39972895e-01],\n         [ 1.46000000e+02,  1.15000000e+02,  1.10812781e-01, ...,\n          -4.69642152e-02, -1.13977370e-01, -1.94912027e-01],\n         [ 1.35000000e+02,  9.40000000e+01,  6.37368459e-02, ...,\n           2.72894210e-02, -1.45532373e-01, -1.81581402e-01]]),\n  10.295954936777909),\n (8,\n  186,\n  array([[ 0.10260162, -0.17241655, -0.04248897, ..., -0.03184119,\n          -0.12585923,  0.00878985],\n         [-0.09457958, -0.11774314, -0.02827405, ..., -0.02466979,\n          -0.14060429, -0.14278257],\n         [ 0.01565502, -0.13222985,  0.06258698, ..., -0.01945892,\n          -0.14796895, -0.12761785],\n         ...,\n         [-0.03462943, -0.03632986,  0.12640617, ..., -0.14076125,\n          -0.06745197, -0.18340987],\n         [ 0.04597312, -0.0334562 ,  0.02297147, ..., -0.14640949,\n          -0.12696251, -0.22813565],\n         [ 0.20754814,  0.16670162, -0.27170907, ..., -0.14342804,\n          -0.15712387, -0.15574873]]),\n  7.139808136956386),\n (16,\n  186,\n  array([[ 0.1318019 , -0.14297532,  0.01903333, ..., -0.13465772,\n          -0.08950855, -0.12590822],\n         [ 0.02208802, -0.13743082, -0.04009283, ..., -0.1308869 ,\n          -0.11011294, -0.12436156],\n         [ 0.07363791, -0.13499771,  0.15007235, ..., -0.09598084,\n          -0.11983217, -0.12456477],\n         ...,\n         [-0.06856396, -0.12114784,  0.14808962, ..., -0.0571317 ,\n          -0.12532872, -0.12467985],\n         [-0.02714136, -0.12311907,  0.19272045, ..., -0.14094708,\n          -0.13748162, -0.12318583],\n         [ 0.56796061, -0.14698699,  0.16004321, ..., -0.11563702,\n          -0.171619  , -0.12352175]]),\n  3.905887134705801)]"
     },
     "execution_count": 81,
     "metadata": {},
     "output_type": "execute_result"
    }
   ],
   "source": [
    "with open('Graphs/octopusN186.pkl', 'rb') as f:\n",
    "    x = pickle.load(f)\n",
    "ys186 = [error for L, N, D, error in x]\n"
   ],
   "metadata": {
    "collapsed": false
   }
  },
  {
   "cell_type": "code",
   "execution_count": 84,
   "outputs": [],
   "source": [
    "ys186 = [error for L, N, D, error in x]"
   ],
   "metadata": {
    "collapsed": false
   }
  },
  {
   "cell_type": "code",
   "execution_count": 93,
   "outputs": [],
   "source": [
    "stuff = {}"
   ],
   "metadata": {
    "collapsed": false
   }
  },
  {
   "cell_type": "code",
   "execution_count": null,
   "outputs": [],
   "source": [
    "attempt = 3\n",
    "\n",
    "paths = ['Compressed Images/cheese_board.jpg', 'Compressed Images/chicken_n_beans.jpg', 'Compressed Images/persimmon_tomato_salad.jpg', 'Compressed Images/octopus.jpg']\n",
    "new_path = 'Reconstructed Images/tea_eggs'\n",
    "path = 'Compressed Images/tea_eggs.jpg'\n",
    "\n",
    "N = 300\n",
    "K = 100\n",
    "I = 5\n",
    "L = 4\n",
    "P=8\n",
    "\n",
    "percent= .2\n",
    "min_count = 1\n",
    "patch_shape = np.array([8,8])\n",
    "\n",
    "\n",
    "\n",
    "def test_process(N=300, K = 100, I = 5, L = 4, P = 8):\n",
    "    patch_shape = np.array([P, P])\n",
    "\n",
    "    sam = Sampler(paths = paths, patch_shape = patch_shape, num_samples = N)\n",
    "    learner = DictionaryLearner(L=L, K=K, sampler=sam, algo = 'OMP')\n",
    "\n",
    "    D = learner.sparse_dictionary_learning(iters = I, output = True)\n",
    "    stuff[(N,K,I,L,P)] = [D]\n",
    "\n",
    "    (recon, error) =  learner.SPIR(path = path, percent=percent, min_count=min_count)\n",
    "    stuff[(N,K,I,L,P)].append(error)\n",
    "\n",
    "    correct_path = new_path + 'N' + str(N) + 'K' + str(K) + 'I' + str(I) + 'L' + str(L) + 'P' + str(P) + '.jpg'\n",
    "    cv2.imwrite(correct_path, recon)\n",
    "\n",
    "    with open('Graphs/tea_eggs_data_attempt' + str(attempt) + '.pkl', 'wb') as f:\n",
    "        pickle.dump(stuff, f)\n",
    "    stuff[(N,K,I,L,P)] = [D]\n"
   ],
   "metadata": {
    "collapsed": false,
    "pycharm": {
     "is_executing": true
    }
   }
  },
  {
   "cell_type": "code",
   "execution_count": null,
   "outputs": [
    {
     "data": {
      "text/plain": "0it [00:00, ?it/s]",
      "application/vnd.jupyter.widget-view+json": {
       "version_major": 2,
       "version_minor": 0,
       "model_id": "14f958dd423945bf8bd9ef36261d053f"
      }
     },
     "metadata": {},
     "output_type": "display_data"
    },
    {
     "data": {
      "text/plain": "  0%|          | 0/5519 [00:00<?, ?it/s]",
      "application/vnd.jupyter.widget-view+json": {
       "version_major": 2,
       "version_minor": 0,
       "model_id": "182f792559eb4227a9b84b486eba1934"
      }
     },
     "metadata": {},
     "output_type": "display_data"
    },
    {
     "name": "stderr",
     "output_type": "stream",
     "text": [
      "C:\\Users\\raino\\GitHub\\Sparse-Dictionary-Learning\\Classes.py:554: RuntimeWarning: invalid value encountered in floor_divide\n",
      "  recon_img = recon_img // count\n"
     ]
    },
    {
     "data": {
      "text/plain": "  0%|          | 0/1 [00:00<?, ?it/s]",
      "application/vnd.jupyter.widget-view+json": {
       "version_major": 2,
       "version_minor": 0,
       "model_id": "160a454887384ff9a11827df007771e1"
      }
     },
     "metadata": {},
     "output_type": "display_data"
    },
    {
     "data": {
      "text/plain": "  0%|          | 0/5519 [00:00<?, ?it/s]",
      "application/vnd.jupyter.widget-view+json": {
       "version_major": 2,
       "version_minor": 0,
       "model_id": "7d33e5caa2ad45a6b749793778c8a723"
      }
     },
     "metadata": {},
     "output_type": "display_data"
    },
    {
     "data": {
      "text/plain": "  0%|          | 0/2 [00:00<?, ?it/s]",
      "application/vnd.jupyter.widget-view+json": {
       "version_major": 2,
       "version_minor": 0,
       "model_id": "3c92a9ab373744f3a52b92f360b2ced5"
      }
     },
     "metadata": {},
     "output_type": "display_data"
    },
    {
     "data": {
      "text/plain": "  0%|          | 0/5519 [00:00<?, ?it/s]",
      "application/vnd.jupyter.widget-view+json": {
       "version_major": 2,
       "version_minor": 0,
       "model_id": "bd50f600128d49d1b2d7ce250a6a2f93"
      }
     },
     "metadata": {},
     "output_type": "display_data"
    },
    {
     "data": {
      "text/plain": "  0%|          | 0/5 [00:00<?, ?it/s]",
      "application/vnd.jupyter.widget-view+json": {
       "version_major": 2,
       "version_minor": 0,
       "model_id": "beee6878d6634564b31d7c65c654f8c8"
      }
     },
     "metadata": {},
     "output_type": "display_data"
    },
    {
     "data": {
      "text/plain": "  0%|          | 0/5519 [00:00<?, ?it/s]",
      "application/vnd.jupyter.widget-view+json": {
       "version_major": 2,
       "version_minor": 0,
       "model_id": "7260f30200404679829eb445fa7535a5"
      }
     },
     "metadata": {},
     "output_type": "display_data"
    },
    {
     "data": {
      "text/plain": "  0%|          | 0/10 [00:00<?, ?it/s]",
      "application/vnd.jupyter.widget-view+json": {
       "version_major": 2,
       "version_minor": 0,
       "model_id": "13666df4ce834162bd8124cb8476e505"
      }
     },
     "metadata": {},
     "output_type": "display_data"
    },
    {
     "data": {
      "text/plain": "  0%|          | 0/5519 [00:00<?, ?it/s]",
      "application/vnd.jupyter.widget-view+json": {
       "version_major": 2,
       "version_minor": 0,
       "model_id": "bcdb085666cc4e7c9f8301948d63db96"
      }
     },
     "metadata": {},
     "output_type": "display_data"
    },
    {
     "data": {
      "text/plain": "  0%|          | 0/20 [00:00<?, ?it/s]",
      "application/vnd.jupyter.widget-view+json": {
       "version_major": 2,
       "version_minor": 0,
       "model_id": "8abd33c0c3bf4e2c9140b1257142f801"
      }
     },
     "metadata": {},
     "output_type": "display_data"
    }
   ],
   "source": [
    "for I in [0,1,2,5,10,20]:\n",
    "    test_process(I=I)\n",
    "\n",
    "for K in [65, 100, 200, 299]:\n",
    "    test_process(K=K)\n",
    "\n",
    "for P in [4,6, 8, 10, 12]:\n",
    "    test_process(P=P)"
   ],
   "metadata": {
    "collapsed": false,
    "pycharm": {
     "is_executing": true
    }
   }
  },
  {
   "cell_type": "code",
   "execution_count": 100,
   "outputs": [
    {
     "data": {
      "text/plain": "{(66,\n  65,\n  0,\n  1,\n  8): [array([[0.15663014, 0.10891326, 0.06782937, ..., 0.13906705, 0.12377225,\n          0.19277678],\n         [0.16433326, 0.09171643, 0.06156819, ..., 0.13414432, 0.12302663,\n          0.1981317 ],\n         [0.15021087, 0.11894475, 0.07409054, ..., 0.13168296, 0.12302663,\n          0.19679297],\n         ...,\n         [0.12068224, 0.2565194 , 0.18679164, ..., 0.11199205, 0.12451787,\n          0.00803237],\n         [0.11811453, 0.26941702, 0.18679164, ..., 0.11445341, 0.12377225,\n          0.00937109],\n         [0.11554683, 0.26655088, 0.18574811, ..., 0.11445341, 0.12377225,\n          0.01070982]])],\n (66,\n  65,\n  1,\n  1,\n  8): [array([[-9.89676877e-02,  1.10000000e+01,  1.67000000e+02, ...,\n           1.54000000e+02,  1.12000000e+02,  1.99946480e-02],\n         [-1.01484115e-01,  1.60000000e+01,  1.88000000e+02, ...,\n           1.54000000e+02,  1.06000000e+02,  2.66595306e-02],\n         [-1.04387267e-01,  1.60000000e+01,  1.47000000e+02, ...,\n           1.56000000e+02,  1.08000000e+02,  3.16581926e-02],\n         ...,\n         [-9.65591372e-02,  8.40000000e+01,  1.51000000e+02, ...,\n           1.57000000e+02,  1.30000000e+02,  1.29132102e-01],\n         [-9.98279816e-02,  7.90000000e+01,  1.56000000e+02, ...,\n           1.56000000e+02,  1.36000000e+02,  8.41441436e-02],\n         [-1.34473799e-01,  6.80000000e+01,  1.59000000e+02, ...,\n           1.56000000e+02,  1.36000000e+02,  4.41548476e-02]]), 8.83118767074847]}"
     },
     "execution_count": 100,
     "metadata": {},
     "output_type": "execute_result"
    }
   ],
   "source": [
    "with open('Graphs/tea_eggs_data_attempt' + str(1) + '.pkl', 'rb') as f:\n",
    "    x = pickle.load(f)\n",
    "x.k"
   ],
   "metadata": {
    "collapsed": false
   }
  },
  {
   "cell_type": "code",
   "execution_count": 102,
   "outputs": [
    {
     "data": {
      "text/plain": "[array([[-9.89676877e-02,  1.10000000e+01,  1.67000000e+02, ...,\n          1.54000000e+02,  1.12000000e+02,  1.99946480e-02],\n        [-1.01484115e-01,  1.60000000e+01,  1.88000000e+02, ...,\n          1.54000000e+02,  1.06000000e+02,  2.66595306e-02],\n        [-1.04387267e-01,  1.60000000e+01,  1.47000000e+02, ...,\n          1.56000000e+02,  1.08000000e+02,  3.16581926e-02],\n        ...,\n        [-9.65591372e-02,  8.40000000e+01,  1.51000000e+02, ...,\n          1.57000000e+02,  1.30000000e+02,  1.29132102e-01],\n        [-9.98279816e-02,  7.90000000e+01,  1.56000000e+02, ...,\n          1.56000000e+02,  1.36000000e+02,  8.41441436e-02],\n        [-1.34473799e-01,  6.80000000e+01,  1.59000000e+02, ...,\n          1.56000000e+02,  1.36000000e+02,  4.41548476e-02]]),\n 8.83118767074847]"
     },
     "execution_count": 102,
     "metadata": {},
     "output_type": "execute_result"
    }
   ],
   "source": [
    "x[(66,65, 1, 1, 8)]"
   ],
   "metadata": {
    "collapsed": false
   }
  },
  {
   "cell_type": "code",
   "execution_count": null,
   "outputs": [],
   "source": [
    "\n",
    "\n",
    "#Ns = [186, 256, 512, 1042]\n",
    "Ns = [512, 1842]\n",
    "octopus_errors = {}\n",
    "for N in Ns:\n",
    "    octopus_errors[N] = []\n",
    "    sam = Sampler(paths = paths, patch_shape = patch_shape, num_samples = N)\n",
    "\n",
    "    dictionaries = []\n",
    "    #Ls = [1, 2, 4, 8, 16]\n",
    "    Ls = [2,4,8]\n",
    "    for L in Ls:\n",
    "        learner = DictionaryLearner(L=L, K=K, sampler=sam, algo = 'OMP')\n",
    "        D = learner.sparse_dictionary_learning(iters = I, output = True)\n",
    "        (recon, error) =  learner.SPIR(path = path, percent=percent, min_count=min_count)\n",
    "        dictionaries.append((L, N, D, error))\n",
    "        correct_path = new_path + 'N' + str(N) + 'L' + str(L) + '.jpg'\n",
    "        cv2.imwrite(correct_path, recon)\n",
    "\n",
    "        octopus_errors[N].append(error)\n",
    "\n",
    "    with open('Graphs/octopusN' + str(N) + '.pkl', 'wb') as f:\n",
    "        pickle.dump(dictionaries, f)\n"
   ],
   "metadata": {
    "collapsed": false
   }
  },
  {
   "cell_type": "code",
   "execution_count": 87,
   "outputs": [],
   "source": [
    "dic = {}\n"
   ],
   "metadata": {
    "collapsed": false
   }
  },
  {
   "cell_type": "code",
   "execution_count": 88,
   "outputs": [],
   "source": [
    "dic[(1,2,4)] = []"
   ],
   "metadata": {
    "collapsed": false
   }
  },
  {
   "cell_type": "code",
   "execution_count": 89,
   "outputs": [
    {
     "data": {
      "text/plain": "{(1, 2, 4): []}"
     },
     "execution_count": 89,
     "metadata": {},
     "output_type": "execute_result"
    }
   ],
   "source": [
    "dic"
   ],
   "metadata": {
    "collapsed": false
   }
  },
  {
   "cell_type": "code",
   "execution_count": null,
   "outputs": [],
   "source": [],
   "metadata": {
    "collapsed": false
   }
  }
 ],
 "metadata": {
  "kernelspec": {
   "display_name": "Python 3",
   "language": "python",
   "name": "python3"
  },
  "language_info": {
   "codemirror_mode": {
    "name": "ipython",
    "version": 2
   },
   "file_extension": ".py",
   "mimetype": "text/x-python",
   "name": "python",
   "nbconvert_exporter": "python",
   "pygments_lexer": "ipython2",
   "version": "2.7.6"
  }
 },
 "nbformat": 4,
 "nbformat_minor": 0
}
