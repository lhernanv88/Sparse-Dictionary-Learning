{
 "cells": [
  {
   "cell_type": "markdown",
   "source": [
    "# Sparse Dictionary Learning Tests\n",
    "\n",
    "In this notebook we will be preforming tests to show the abilities of our sparse dictionary learning algorithm."
   ],
   "metadata": {
    "collapsed": false
   }
  },
  {
   "cell_type": "code",
   "execution_count": 34,
   "outputs": [],
   "source": [
    "import numpy as np\n",
    "import random\n",
    "import cv2\n",
    "from tqdm.notebook import tqdm\n",
    "import pandas as pd\n",
    "import matplotlib.pyplot as plt\n",
    "import pickle\n",
    "\n",
    "%run Classes.py"
   ],
   "metadata": {
    "collapsed": false
   }
  },
  {
   "cell_type": "markdown",
   "source": [
    "### Evaluation Criteria\n",
    "\n",
    "We will be using MSE and the Stochastic Partial Image Reconstruction to estimate error."
   ],
   "metadata": {
    "collapsed": false
   }
  },
  {
   "cell_type": "markdown",
   "source": [
    "## Task 1: Image Compression/Reconstruction\n",
    "\n",
    "This task is to take a single image, compress it (patch by patch) with sparse coding, and then reconstruct it. We will do this in two different ways: One way is by training our dictionary on a group of sample images, the other is by training using only the single test image. The purpose of the second method is to get a \"best case\" scenario of our algorithms preformance.\n",
    "\n",
    "\n",
    "***Method A: Same Image Training***\n",
    "Here we will train our dictionary on a single image, the same image that we will be testing on. The purpose of this is to get a \"best case\" scenario of our algorithms preformance.\n",
    "\n",
    "***Method B: Multiple Image Training***\n",
    "Here we will train our dictionary on a group of images, and then test it on an unseen test image.\n"
   ],
   "metadata": {
    "collapsed": false
   }
  },
  {
   "cell_type": "code",
   "execution_count": 6,
   "outputs": [],
   "source": [
    "learner = DictionaryLearner()"
   ],
   "metadata": {
    "collapsed": false
   }
  },
  {
   "cell_type": "code",
   "execution_count": 19,
   "outputs": [
    {
     "data": {
      "text/plain": "array([153.6, 204. ])"
     },
     "execution_count": 19,
     "metadata": {},
     "output_type": "execute_result"
    }
   ],
   "source": [
    "img = cv2.imread('Original Images/cheese_board.jpg')\n",
    "img.shape[:2] / np.array([20,20])"
   ],
   "metadata": {
    "collapsed": false
   }
  },
  {
   "cell_type": "code",
   "execution_count": 10,
   "outputs": [
    {
     "data": {
      "text/plain": "array([[[ 51,  50,  52],\n        [ 52,  51,  53],\n        [ 55,  54,  56],\n        ...,\n        [ 22,  28,  39],\n        [ 20,  26,  37],\n        [ 18,  24,  35]],\n\n       [[ 57,  56,  58],\n        [ 58,  57,  59],\n        [ 59,  58,  60],\n        ...,\n        [ 18,  24,  35],\n        [ 18,  24,  35],\n        [ 19,  25,  36]],\n\n       [[ 56,  55,  57],\n        [ 56,  55,  57],\n        [ 57,  56,  58],\n        ...,\n        [ 19,  25,  36],\n        [ 20,  26,  37],\n        [ 20,  26,  37]],\n\n       ...,\n\n       [[ 96, 108, 118],\n        [103, 115, 125],\n        [103, 115, 125],\n        ...,\n        [112, 110, 122],\n        [111, 110, 120],\n        [111, 110, 120]],\n\n       [[ 93, 105, 115],\n        [104, 116, 126],\n        [105, 117, 127],\n        ...,\n        [112, 110, 122],\n        [113, 109, 120],\n        [114, 110, 121]],\n\n       [[ 90, 102, 112],\n        [104, 116, 126],\n        [107, 119, 129],\n        ...,\n        [111, 109, 121],\n        [113, 109, 120],\n        [114, 110, 121]]], dtype=uint8)"
     },
     "execution_count": 10,
     "metadata": {},
     "output_type": "execute_result"
    }
   ],
   "source": [
    "# Load the image\n",
    "img = cv2.imread('dinner.jpg', cv2.IMREAD_COLOR)\n",
    "\n",
    "# Resize the image to 400x300 pixels\n",
    "img_resized = cv2.resize(img, (200, 150), interpolation=cv2.INTER_AREA)\n",
    "\n",
    "# Convert the resized image to grayscale\n",
    "img_gray = cv2.cvtColor(img_resized, cv2.COLOR_RGB2GRAY)\n",
    "\n",
    "# Save the grayscale image as 'small_gray_dinner.png'\n",
    "cv2.imwrite('small_gray_dinner.png', img_gray )"
   ],
   "metadata": {
    "collapsed": false
   }
  },
  {
   "cell_type": "code",
   "execution_count": 20,
   "outputs": [],
   "source": [
    "paths = ['cheese_board.jpg', 'chicken_n_beans.jpg', 'octopus.jpg', 'tea_eggs.jpg', 'persimmon_tomato_salad.jpg']"
   ],
   "metadata": {
    "collapsed": false
   }
  },
  {
   "cell_type": "code",
   "execution_count": 32,
   "outputs": [
    {
     "data": {
      "text/plain": "  0%|          | 0/10 [00:00<?, ?it/s]",
      "application/vnd.jupyter.widget-view+json": {
       "version_major": 2,
       "version_minor": 0,
       "model_id": "ed8ca709652148e08dd25929eec1c48e"
      }
     },
     "metadata": {},
     "output_type": "display_data"
    },
    {
     "data": {
      "text/plain": "  0%|          | 0/5519 [00:00<?, ?it/s]",
      "application/vnd.jupyter.widget-view+json": {
       "version_major": 2,
       "version_minor": 0,
       "model_id": "002067ce5c08420c8cc354c17297d98c"
      }
     },
     "metadata": {},
     "output_type": "display_data"
    },
    {
     "name": "stderr",
     "output_type": "stream",
     "text": [
      "C:\\Users\\raino\\GitHub\\Sparse-Dictionary-Learning\\Classes.py:554: RuntimeWarning: invalid value encountered in floor_divide\n",
      "  recon_img = recon_img // count\n"
     ]
    },
    {
     "data": {
      "text/plain": "  0%|          | 0/10 [00:00<?, ?it/s]",
      "application/vnd.jupyter.widget-view+json": {
       "version_major": 2,
       "version_minor": 0,
       "model_id": "27e06b03f7824762888ac0c258e1e384"
      }
     },
     "metadata": {},
     "output_type": "display_data"
    },
    {
     "data": {
      "text/plain": "  0%|          | 0/5519 [00:00<?, ?it/s]",
      "application/vnd.jupyter.widget-view+json": {
       "version_major": 2,
       "version_minor": 0,
       "model_id": "e2394d69ba1e4240a870de3b93368009"
      }
     },
     "metadata": {},
     "output_type": "display_data"
    },
    {
     "data": {
      "text/plain": "  0%|          | 0/10 [00:00<?, ?it/s]",
      "application/vnd.jupyter.widget-view+json": {
       "version_major": 2,
       "version_minor": 0,
       "model_id": "0d8a791bebc84c3ea8c1c9f4ef9dc001"
      }
     },
     "metadata": {},
     "output_type": "display_data"
    },
    {
     "data": {
      "text/plain": "  0%|          | 0/5519 [00:00<?, ?it/s]",
      "application/vnd.jupyter.widget-view+json": {
       "version_major": 2,
       "version_minor": 0,
       "model_id": "60f37f760b5d4764b2d0e4b3803b3a20"
      }
     },
     "metadata": {},
     "output_type": "display_data"
    },
    {
     "data": {
      "text/plain": "  0%|          | 0/10 [00:00<?, ?it/s]",
      "application/vnd.jupyter.widget-view+json": {
       "version_major": 2,
       "version_minor": 0,
       "model_id": "5b493921d0b942ad9f5d6fdcc3ae734e"
      }
     },
     "metadata": {},
     "output_type": "display_data"
    },
    {
     "data": {
      "text/plain": "  0%|          | 0/5519 [00:00<?, ?it/s]",
      "application/vnd.jupyter.widget-view+json": {
       "version_major": 2,
       "version_minor": 0,
       "model_id": "bf55cb9c58294b2b8b0f90b0661a750b"
      }
     },
     "metadata": {},
     "output_type": "display_data"
    },
    {
     "data": {
      "text/plain": "  0%|          | 0/10 [00:00<?, ?it/s]",
      "application/vnd.jupyter.widget-view+json": {
       "version_major": 2,
       "version_minor": 0,
       "model_id": "029637ef8633486097483b3b2abb6138"
      }
     },
     "metadata": {},
     "output_type": "display_data"
    },
    {
     "data": {
      "text/plain": "  0%|          | 0/5519 [00:00<?, ?it/s]",
      "application/vnd.jupyter.widget-view+json": {
       "version_major": 2,
       "version_minor": 0,
       "model_id": "5be5d8bd9f48474881b9ba426a7a5a24"
      }
     },
     "metadata": {},
     "output_type": "display_data"
    }
   ],
   "source": [
    "paths = ['Compressed Images/cheese_board.jpg']\n",
    "new_path = 'Reconstructed Images/cheese_boardL'\n",
    "N = 512\n",
    "K = 256\n",
    "I = 10\n",
    "percent= .2\n",
    "min_count = 1\n",
    "patch_shape = np.array([8,8])\n",
    "\n",
    "sam = Sampler(paths = paths, patch_shape = patch_shape, num_samples = N)\n",
    "\n",
    "dictionaries = []\n",
    "Ls = [1, 2, 4, 8, 16]\n",
    "for L in Ls:\n",
    "    learner = DictionaryLearner(L=L, K=K, sampler=sam, algo = 'OMP')\n",
    "    D = learner.sparse_dictionary_learning(iters = I, output = True)\n",
    "    (recon, error) =  learner.SPIR(path = paths[0], percent=percent, min_count=min_count)\n",
    "    dictionaries.append((L, D, error))\n",
    "    cv2.imwrite(new_path + str(L) + '.jpg', recon)"
   ],
   "metadata": {
    "collapsed": false
   }
  },
  {
   "cell_type": "markdown",
   "source": [],
   "metadata": {
    "collapsed": false
   }
  },
  {
   "cell_type": "code",
   "execution_count": 35,
   "outputs": [],
   "source": [
    "\n",
    "with open('Graphs/cheese_board_dictionaries.pkl', 'wb') as f:\n",
    "    pickle.dump(dictionaries, f)\n"
   ],
   "metadata": {
    "collapsed": false
   }
  },
  {
   "cell_type": "code",
   "execution_count": 31,
   "outputs": [
    {
     "data": {
      "text/plain": "<Figure size 640x480 with 1 Axes>",
      "image/png": "[encoded data removed]"
     },
     "metadata": {},
     "output_type": "display_data"
    }
   ],
   "source": [
    "xs = Ls\n",
    "ys = [ error for L, dic, error in dictionaries]\n",
    "\n",
    "\n",
    "plt.plot(xs, ys, linestyle='--', marker='o', color='blue', label = 'Cheese Board')\n",
    "plt.xlabel('Number of Atoms')\n",
    "plt.ylabel('Error Est.')\n",
    "plt.title('Error for different number of Atoms')\n",
    "plt.legend()\n",
    "plt.savefig('Graphs/Error_Est_for_L.png')\n",
    "plt.show()\n"
   ],
   "metadata": {
    "collapsed": false
   }
  },
  {
   "cell_type": "code",
   "execution_count": null,
   "outputs": [],
   "source": [
    "paths = ['Compressed Images/chicken_n_beans.jpg']\n",
    "new_path = 'Reconstructed Images/chicken_n_beansL'\n",
    "N = 512\n",
    "K = 256\n",
    "I = 1\n",
    "percent= .2\n",
    "min_count = 1\n",
    "patch_shape = np.array([8,8])\n",
    "\n",
    "sam = Sampler(paths = paths, patch_shape = patch_shape, num_samples = N)\n",
    "\n",
    "dictionaries = []\n",
    "Ls = # Depends on what I see, but probably [2, 8, 10, 16]? [1, 2, 4, 8, 16]\n",
    "for L in Ls:\n",
    "    learner = DictionaryLearner(L=L, K=K, sampler=sam, algo = 'OMP')\n",
    "    D = learner.sparse_dictionary_learning(iters = I, output = True)\n",
    "    (recon, error) =  learner.SPIR(path = paths[0], percent=percent, min_count=min_count)\n",
    "    dictionaries.append((L, D, error))\n",
    "    cv2.imwrite(new_path + str(L) + '.jpg', recon)\n",
    "\n",
    "with open('Graphs/chicken_n_beans.pkl', 'wb') as f:\n",
    "    pickle.dump(dictionaries, f)"
   ],
   "metadata": {
    "collapsed": false
   }
  }
 ],
 "metadata": {
  "kernelspec": {
   "display_name": "Python 3",
   "language": "python",
   "name": "python3"
  },
  "language_info": {
   "codemirror_mode": {
    "name": "ipython",
    "version": 2
   },
   "file_extension": ".py",
   "mimetype": "text/x-python",
   "name": "python",
   "nbconvert_exporter": "python",
   "pygments_lexer": "ipython2",
   "version": "2.7.6"
  }
 },
 "nbformat": 4,
 "nbformat_minor": 0
}
