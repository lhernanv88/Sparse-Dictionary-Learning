{
 "cells": [
  {
   "cell_type": "markdown",
   "source": [],
   "metadata": {
    "collapsed": false
   }
  },
  {
   "cell_type": "markdown",
   "source": [
    "Thursday To-Do List:\n",
    "~~~1. Get more pictures for testing~~~\n",
    "~~~2. Figure out the proper evaluation metrics (signal/noise, etc...)~~~\n",
    "~~~3. Make a seperate method for evaluation~~~\n",
    "4. Do statistical tests to prove SPIR is accurate\n",
    "5. Make a method/function for testing and graphing results and saving images\n",
    "6. Make a default list of parameters, make the parameters option optional, make it easier to change\n",
    "7. Show that/if replacing unused atoms gives better results\n",
    "8. Run tests on other toggles in the algorithm\n",
    "9. Test you crazy idea about rescaling the sparse reps to acount for stuff in the demosaicing process"
   ],
   "metadata": {
    "collapsed": false
   }
  },
  {
   "cell_type": "markdown",
   "source": [
    "## Evaluation Metrics\n",
    "\n",
    "The simplest and most intuitive evalutation metric is the Mean Square Error ($MSE$)\n",
    "$$MSE = \\frac{1}{d}|| y - x ||_2^2$$\n",
    "between a signal $y$ and its approximation $x$.\n",
    "However a standard in the industry is to use Peak Signal to Noise Ratio ($PSNR$)\n",
    "$$ PSNR = 10 \\log_{10}\\Big( \\frac{ ||y||_\\infty^2}{ \\frac{1}{d}||y - x ||_2^2}\\Big) $$\n",
    "which since the majority of signals will have $||y||_\\infty \\approx 255$, the $PSNR$ has a logrithmic relation to the $MSE$, and therefore contain an identical amount of information.\n",
    "\n",
    "Another standard evaluation metric is the Structural Similarity Index Measure ($SSIM$),\n",
    "$$ SSIM(y, x) = l(y, x) c(y, x) s(y,x), $$\n",
    "which is the product of three distortion measurements. This takes values in $[-1,1]$ where higher is better. Note that this value is in practice never negative, ast that would require special engineering, so we consider it as a value in $[0,1]$.\n",
    "Luminance Distortion\n",
    "$$ l(y,x) = \\frac{2 \\mu_y \\mu_x + C_l}{\\mu_y^2 + \\mu_x^2 + C_l} $$\n",
    "Contrast Distortion\n",
    "$$ c(y,x) = \\frac{2 \\sigma_y \\sigma_x + C_c}{\\sigma_Y ^2 + \\sigma_x^2 + C_c} $$\n",
    "Structural Comparison\n",
    "$$ s(y,x) = \\frac{ \\sigma_{yx} ++ C_s}{ \\sigma_Y \\sigma_x + C_s} $$\n",
    "where\n",
    "$$\\mu_x = \\frac{1}{d} \\sum x^{(i)} $$\n",
    "$$\\sigma_x^2 = \\frac{1}{d} \\sum(x^{(i)} - \\mu_x)^2 $$\n",
    "$$\\sigma_{xy} = \\frac{1}{d} \\sum (x^{(i)} - \\mu_x)(y^{(i)} - \\mu_y) $$\n",
    "\n",
    "These metrics give an idea of what area an image reconstruction is doing better or worse on.\n",
    "\n",
    "We will measure all of these qnatities, plus run-time (as a proxy for \"compute\") and gain (the improvement of these metrics). We will typically only display the $PSNR$, however when a more indepth analysis is called for, we will display the rest.\n",
    "\n",
    "*A comparison of these metrics is found in here https://ietresearch.onlinelibrary.wiley.com/doi/epdf/10.1049/iet-ipr.2012.0489"
   ],
   "metadata": {
    "collapsed": false
   }
  },
  {
   "cell_type": "code",
   "execution_count": 38,
   "outputs": [],
   "source": [
    "import numpy as np\n",
    "import random\n",
    "import cv2\n",
    "from tqdm.notebook import tqdm\n",
    "import pandas as pd\n",
    "import matplotlib.pyplot as plt\n",
    "import pickle\n",
    "import time\n",
    "\n",
    "%run Classes.py"
   ],
   "metadata": {
    "collapsed": false
   }
  },
  {
   "cell_type": "code",
   "execution_count": 27,
   "outputs": [],
   "source": [
    "paths = ['Compressed Images/cheese_board.jpg', 'Compressed Images/chicken_n_beans.jpg', 'Compressed Images/persimmon_tomato_salad.jpg', 'Compressed Images/octopus.jpg']\n",
    "new_path = 'Reconstructed Images/tea_eggs'\n",
    "path_orig = 'Compressed Images/tea_eggs.jpg'\n",
    "path_corrupted = 'Compressed Images/tea_eggs_corrupted.jpg'\n",
    "\n",
    "sam = Sampler(paths = paths, patch_shape = np.array([8,8]), num_samples = 500)\n",
    "sam.add_filter('noise', std = 100)\n",
    "learner = DictionaryLearner(L=2, K=200, sampler=sam, algo = 'OMP')\n",
    "learner.update_step(use_orig=True)\n",
    "\n",
    "img_orig = load_image(path_orig)\n",
    "img_corrupt = sam.filter(img_orig)\n",
    "\n",
    "cv2.imwrite(path_corrupted, img_corrupt)\n",
    "\n",
    "cv2.imshow(\"Original Image\", img_orig)\n",
    "cv2.imshow(\"Corrupted Image\", img_corrupt)\n",
    "cv2.moveWindow(\"Corrupted Image\", img_orig.shape[1], 0)\n",
    "\n",
    "cv2.waitKey(0)\n",
    "cv2.destroyAllWindows()"
   ],
   "metadata": {
    "collapsed": false
   }
  },
  {
   "cell_type": "markdown",
   "source": [],
   "metadata": {
    "collapsed": false
   }
  },
  {
   "cell_type": "code",
   "execution_count": 28,
   "outputs": [
    {
     "data": {
      "text/plain": "  0%|          | 0/1 [00:00<?, ?it/s]",
      "application/vnd.jupyter.widget-view+json": {
       "version_major": 2,
       "version_minor": 0,
       "model_id": "f7b8578e5e9e4c5988f7d50e411d7400"
      }
     },
     "metadata": {},
     "output_type": "display_data"
    },
    {
     "name": "stdout",
     "output_type": "stream",
     "text": [
      "Dictionary Complete\n"
     ]
    }
   ],
   "source": [
    "D = learner.sparse_dictionary_learning(iters=1, output=True)\n",
    "print(\"Dictionary Complete\")"
   ],
   "metadata": {
    "collapsed": false
   }
  },
  {
   "cell_type": "code",
   "execution_count": 29,
   "outputs": [
    {
     "data": {
      "text/plain": "  0%|          | 0/27599 [00:00<?, ?it/s]",
      "application/vnd.jupyter.widget-view+json": {
       "version_major": 2,
       "version_minor": 0,
       "model_id": "65b0f3ebea2a4e3ba8f60b25d9e775b9"
      }
     },
     "metadata": {},
     "output_type": "display_data"
    },
    {
     "data": {
      "text/plain": "                  MSE       RMSE       PSNR      SSIM  Luminance Dist.  \\\n0.003623  4261.993386  65.283944  11.834676  0.390029         0.999997   \n0.007247  3938.571735  62.758041  12.177416  0.438738         0.999993   \n0.010870  3906.970625  62.505765  12.212402  0.430081         0.999999   \n0.014493  3898.376091  62.436977  12.221966  0.417978         0.999994   \n0.018117  3804.862685  61.683569  12.327414  0.417936         0.999996   \n...               ...        ...        ...       ...              ...   \n0.981920  3552.379139  59.601838  12.625610  0.418034         0.999999   \n0.985543  3552.415837  59.602146  12.625566  0.418023         0.999999   \n0.989166  3552.449119  59.602425  12.625525  0.418018         0.999999   \n0.992790  3552.620576  59.603864  12.625315  0.417976         0.999999   \n0.996413  3552.559411  59.603351  12.625390  0.417990         0.999999   \n\n          Contrast Dist.  Structural Comp.  \n0.003623        0.687215          0.567553  \n0.007247        0.735802          0.596276  \n0.010870        0.729262          0.589749  \n0.014493        0.718134          0.582037  \n0.018117        0.711563          0.587352  \n...                  ...               ...  \n0.981920        0.602858          0.693420  \n0.985543        0.602838          0.693425  \n0.989166        0.602838          0.693416  \n0.992790        0.602781          0.693412  \n0.996413        0.602799          0.693416  \n\n[275 rows x 7 columns]",
      "text/html": "<div>\n<style scoped>\n    .dataframe tbody tr th:only-of-type {\n        vertical-align: middle;\n    }\n\n    .dataframe tbody tr th {\n        vertical-align: top;\n    }\n\n    .dataframe thead th {\n        text-align: right;\n    }\n</style>\n<table border=\"1\" class=\"dataframe\">\n  <thead>\n    <tr style=\"text-align: right;\">\n      <th></th>\n      <th>MSE</th>\n      <th>RMSE</th>\n      <th>PSNR</th>\n      <th>SSIM</th>\n      <th>Luminance Dist.</th>\n      <th>Contrast Dist.</th>\n      <th>Structural Comp.</th>\n    </tr>\n  </thead>\n  <tbody>\n    <tr>\n      <th>0.003623</th>\n      <td>4261.993386</td>\n      <td>65.283944</td>\n      <td>11.834676</td>\n      <td>0.390029</td>\n      <td>0.999997</td>\n      <td>0.687215</td>\n      <td>0.567553</td>\n    </tr>\n    <tr>\n      <th>0.007247</th>\n      <td>3938.571735</td>\n      <td>62.758041</td>\n      <td>12.177416</td>\n      <td>0.438738</td>\n      <td>0.999993</td>\n      <td>0.735802</td>\n      <td>0.596276</td>\n    </tr>\n    <tr>\n      <th>0.010870</th>\n      <td>3906.970625</td>\n      <td>62.505765</td>\n      <td>12.212402</td>\n      <td>0.430081</td>\n      <td>0.999999</td>\n      <td>0.729262</td>\n      <td>0.589749</td>\n    </tr>\n    <tr>\n      <th>0.014493</th>\n      <td>3898.376091</td>\n      <td>62.436977</td>\n      <td>12.221966</td>\n      <td>0.417978</td>\n      <td>0.999994</td>\n      <td>0.718134</td>\n      <td>0.582037</td>\n    </tr>\n    <tr>\n      <th>0.018117</th>\n      <td>3804.862685</td>\n      <td>61.683569</td>\n      <td>12.327414</td>\n      <td>0.417936</td>\n      <td>0.999996</td>\n      <td>0.711563</td>\n      <td>0.587352</td>\n    </tr>\n    <tr>\n      <th>...</th>\n      <td>...</td>\n      <td>...</td>\n      <td>...</td>\n      <td>...</td>\n      <td>...</td>\n      <td>...</td>\n      <td>...</td>\n    </tr>\n    <tr>\n      <th>0.981920</th>\n      <td>3552.379139</td>\n      <td>59.601838</td>\n      <td>12.625610</td>\n      <td>0.418034</td>\n      <td>0.999999</td>\n      <td>0.602858</td>\n      <td>0.693420</td>\n    </tr>\n    <tr>\n      <th>0.985543</th>\n      <td>3552.415837</td>\n      <td>59.602146</td>\n      <td>12.625566</td>\n      <td>0.418023</td>\n      <td>0.999999</td>\n      <td>0.602838</td>\n      <td>0.693425</td>\n    </tr>\n    <tr>\n      <th>0.989166</th>\n      <td>3552.449119</td>\n      <td>59.602425</td>\n      <td>12.625525</td>\n      <td>0.418018</td>\n      <td>0.999999</td>\n      <td>0.602838</td>\n      <td>0.693416</td>\n    </tr>\n    <tr>\n      <th>0.992790</th>\n      <td>3552.620576</td>\n      <td>59.603864</td>\n      <td>12.625315</td>\n      <td>0.417976</td>\n      <td>0.999999</td>\n      <td>0.602781</td>\n      <td>0.693412</td>\n    </tr>\n    <tr>\n      <th>0.996413</th>\n      <td>3552.559411</td>\n      <td>59.603351</td>\n      <td>12.625390</td>\n      <td>0.417990</td>\n      <td>0.999999</td>\n      <td>0.602799</td>\n      <td>0.693416</td>\n    </tr>\n  </tbody>\n</table>\n<p>275 rows × 7 columns</p>\n</div>"
     },
     "execution_count": 29,
     "metadata": {},
     "output_type": "execute_result"
    }
   ],
   "source": [
    "error_values = learner.SPIR_test(path_corrupted, apply_filter=True, min_count=2, replacement=True)\n",
    "error_values"
   ],
   "metadata": {
    "collapsed": false
   }
  },
  {
   "cell_type": "code",
   "execution_count": 30,
   "outputs": [
    {
     "data": {
      "text/plain": "<Figure size 640x480 with 1 Axes>",
      "image/png": "[encoded data removed]"
     },
     "metadata": {},
     "output_type": "display_data"
    }
   ],
   "source": [
    "import matplotlib.pyplot as plt\n",
    "\n",
    "import matplotlib.pyplot as plt\n",
    "\n",
    "def plot_error_values(df, column):\n",
    "    # Extract the last value of the input column\n",
    "    column_true = df[column].iloc[-1]\n",
    "\n",
    "    # Create the x and y values for the line graph\n",
    "    x_values = df.index * 100\n",
    "    y_values = (df[column] / column_true - 1) * 100\n",
    "\n",
    "    # Create the line graph\n",
    "    fig, ax = plt.subplots()\n",
    "    ax.plot(x_values, y_values)\n",
    "\n",
    "    # Set the x and y axis labels and tick formats\n",
    "    ax.set_xlabel(\"Patches Used (%)\")\n",
    "    ax.set_ylabel(f\"{column} (%)\")\n",
    "    ax.xaxis.set_major_formatter('{x:.0f}%')\n",
    "    ax.yaxis.set_major_formatter('{x:.0f}%')\n",
    "\n",
    "    # Add a horizontal dashed line at y=0\n",
    "    ax.axhline(y=0, color='grey', linestyle='--')\n",
    "\n",
    "    # Show the plot\n",
    "    plt.show()\n",
    "\n",
    "plot_error_values(error_values, \"RMSE\")\n"
   ],
   "metadata": {
    "collapsed": false
   }
  },
  {
   "cell_type": "markdown",
   "source": [],
   "metadata": {
    "collapsed": false
   }
  },
  {
   "cell_type": "markdown",
   "source": [
    "## SPIR Tests\n",
    "\n",
    "Here we are going to prove the SPIR is a reliable, robust, and quick method of estimating the error of a reconstructed photo. We will do that by measuring the error using 5 different metrics: $PSNR$, $SSIM$, and the 3 components of $SSIM$ individually. We will be doing this on three different \"tests\".\n",
    "\n",
    "Test 1 - \"Milanese\"\n",
    "A simple reconstuction test on a $200\\times 150$ pixel black and white photo of chicken \"Milanese\", where the training data is the same image. Parameters are: L=5, K=100, N=300, iters=10, patch_shape = [8,8]\n",
    "\n",
    "Test 2 - \"Tea Eggs\"\n",
    "A denoising test on a $200\\times 150$ pixel black and white photo of \"Tea Eggs\". The training data will be 4 other photos of the same size. The added noise has std = 100. The parameters are: L = 10, K = 200, N = 500, iters = 20, patch_shape = [8,8]\n",
    "\n",
    "Test 3 - \"Persimon Salad\"\n",
    "A"
   ],
   "metadata": {
    "collapsed": false
   }
  },
  {
   "cell_type": "code",
   "execution_count": 33,
   "outputs": [
    {
     "data": {
      "text/plain": "  0%|          | 0/10 [00:00<?, ?it/s]",
      "application/vnd.jupyter.widget-view+json": {
       "version_major": 2,
       "version_minor": 0,
       "model_id": "38088df18651453799aac7762d325efe"
      }
     },
     "metadata": {},
     "output_type": "display_data"
    },
    {
     "name": "stdout",
     "output_type": "stream",
     "text": [
      "Dictionary is trained\n"
     ]
    },
    {
     "data": {
      "text/plain": "  0%|          | 0/27599 [00:00<?, ?it/s]",
      "application/vnd.jupyter.widget-view+json": {
       "version_major": 2,
       "version_minor": 0,
       "model_id": "44660c54a1a145f598c84a1633c69bba"
      }
     },
     "metadata": {},
     "output_type": "display_data"
    },
    {
     "data": {
      "text/plain": "                 MSE       RMSE       PSNR      SSIM  Luminance Dist.  \\\n0.000000  424.125000  20.594295  18.926489  0.938401         0.999407   \n0.003623  145.715355  12.071262  26.495750  0.976394         0.999980   \n0.007247  128.320345  11.327857  27.047848  0.976859         0.999979   \n0.010870  130.439218  11.420999  26.976722  0.977770         0.999982   \n0.014493  122.489852  11.067513  27.249802  0.980339         0.999985   \n...              ...        ...        ...       ...              ...   \n0.981920   54.732953   7.398172  30.748315  0.990668         1.000000   \n0.985543   54.719088   7.397235  30.749415  0.990670         1.000000   \n0.989166   54.739351   7.398605  30.747807  0.990666         1.000000   \n0.992790   54.715840   7.397016  30.749673  0.990670         1.000000   \n0.996413   54.719399   7.397256  30.749390  0.990670         1.000000   \n\n          Contrast Dist.  Structural Comp.  \n0.000000        0.999895          0.939057  \n0.003623        0.999707          0.976701  \n0.007247        0.999680          0.977193  \n0.010870        0.999650          0.978130  \n0.014493        0.999720          0.980628  \n...                  ...               ...  \n0.981920        0.999428          0.991235  \n0.985543        0.999428          0.991237  \n0.989166        0.999427          0.991234  \n0.992790        0.999428          0.991238  \n0.996413        0.999427          0.991237  \n\n[276 rows x 7 columns]",
      "text/html": "<div>\n<style scoped>\n    .dataframe tbody tr th:only-of-type {\n        vertical-align: middle;\n    }\n\n    .dataframe tbody tr th {\n        vertical-align: top;\n    }\n\n    .dataframe thead th {\n        text-align: right;\n    }\n</style>\n<table border=\"1\" class=\"dataframe\">\n  <thead>\n    <tr style=\"text-align: right;\">\n      <th></th>\n      <th>MSE</th>\n      <th>RMSE</th>\n      <th>PSNR</th>\n      <th>SSIM</th>\n      <th>Luminance Dist.</th>\n      <th>Contrast Dist.</th>\n      <th>Structural Comp.</th>\n    </tr>\n  </thead>\n  <tbody>\n    <tr>\n      <th>0.000000</th>\n      <td>424.125000</td>\n      <td>20.594295</td>\n      <td>18.926489</td>\n      <td>0.938401</td>\n      <td>0.999407</td>\n      <td>0.999895</td>\n      <td>0.939057</td>\n    </tr>\n    <tr>\n      <th>0.003623</th>\n      <td>145.715355</td>\n      <td>12.071262</td>\n      <td>26.495750</td>\n      <td>0.976394</td>\n      <td>0.999980</td>\n      <td>0.999707</td>\n      <td>0.976701</td>\n    </tr>\n    <tr>\n      <th>0.007247</th>\n      <td>128.320345</td>\n      <td>11.327857</td>\n      <td>27.047848</td>\n      <td>0.976859</td>\n      <td>0.999979</td>\n      <td>0.999680</td>\n      <td>0.977193</td>\n    </tr>\n    <tr>\n      <th>0.010870</th>\n      <td>130.439218</td>\n      <td>11.420999</td>\n      <td>26.976722</td>\n      <td>0.977770</td>\n      <td>0.999982</td>\n      <td>0.999650</td>\n      <td>0.978130</td>\n    </tr>\n    <tr>\n      <th>0.014493</th>\n      <td>122.489852</td>\n      <td>11.067513</td>\n      <td>27.249802</td>\n      <td>0.980339</td>\n      <td>0.999985</td>\n      <td>0.999720</td>\n      <td>0.980628</td>\n    </tr>\n    <tr>\n      <th>...</th>\n      <td>...</td>\n      <td>...</td>\n      <td>...</td>\n      <td>...</td>\n      <td>...</td>\n      <td>...</td>\n      <td>...</td>\n    </tr>\n    <tr>\n      <th>0.981920</th>\n      <td>54.732953</td>\n      <td>7.398172</td>\n      <td>30.748315</td>\n      <td>0.990668</td>\n      <td>1.000000</td>\n      <td>0.999428</td>\n      <td>0.991235</td>\n    </tr>\n    <tr>\n      <th>0.985543</th>\n      <td>54.719088</td>\n      <td>7.397235</td>\n      <td>30.749415</td>\n      <td>0.990670</td>\n      <td>1.000000</td>\n      <td>0.999428</td>\n      <td>0.991237</td>\n    </tr>\n    <tr>\n      <th>0.989166</th>\n      <td>54.739351</td>\n      <td>7.398605</td>\n      <td>30.747807</td>\n      <td>0.990666</td>\n      <td>1.000000</td>\n      <td>0.999427</td>\n      <td>0.991234</td>\n    </tr>\n    <tr>\n      <th>0.992790</th>\n      <td>54.715840</td>\n      <td>7.397016</td>\n      <td>30.749673</td>\n      <td>0.990670</td>\n      <td>1.000000</td>\n      <td>0.999428</td>\n      <td>0.991238</td>\n    </tr>\n    <tr>\n      <th>0.996413</th>\n      <td>54.719399</td>\n      <td>7.397256</td>\n      <td>30.749390</td>\n      <td>0.990670</td>\n      <td>1.000000</td>\n      <td>0.999427</td>\n      <td>0.991237</td>\n    </tr>\n  </tbody>\n</table>\n<p>276 rows × 7 columns</p>\n</div>"
     },
     "execution_count": 33,
     "metadata": {},
     "output_type": "execute_result"
    }
   ],
   "source": [
    "### Test 1 - \"Milanese\"\n",
    "\n",
    "# Get Training and Testing data\n",
    "path = 'Compressed Images/milanese.jpg'\n",
    "paths = [path]\n",
    "\n",
    "# Set parameters\n",
    "L = 5\n",
    "K = 100\n",
    "N = 300\n",
    "iters = 10\n",
    "patch_shape = np.array([8,8])\n",
    "\n",
    "# Initialize Sampler\n",
    "sam_milanese = Sampler(paths = paths, patch_shape = patch_shape, num_samples = N)\n",
    "sam_milanese.add_filter(None)\n",
    "\n",
    "# Initialize Learner\n",
    "learner_milanese = DictionaryLearner(L=L, K=K, sampler=sam_milanese, algo = 'OMP')\n",
    "learner_milanese.update_step(use_orig=True)\n",
    "\n",
    "# Train Dictionary\n",
    "D_milanese = learner_milanese.sparse_dictionary_learning(iters=iters, output=True)\n",
    "print(\"Dictionary is trained\")\n",
    "\n",
    "# Begin Stochastic Partial Image Reconstruction\n",
    "errors_milanese = learner_milanese.SPIR_test(path, apply_filter=False, min_count=1, replacement=False)\n",
    "\n",
    "# Display Results\n",
    "errors_milanese"
   ],
   "metadata": {
    "collapsed": false
   }
  },
  {
   "cell_type": "code",
   "execution_count": null,
   "outputs": [
    {
     "data": {
      "text/plain": "  0%|          | 0/20 [00:00<?, ?it/s]",
      "application/vnd.jupyter.widget-view+json": {
       "version_major": 2,
       "version_minor": 0,
       "model_id": "f49951a85e244b7b835996b56be3757f"
      }
     },
     "metadata": {},
     "output_type": "display_data"
    },
    {
     "name": "stdout",
     "output_type": "stream",
     "text": [
      "Dictionary is trained\n"
     ]
    },
    {
     "data": {
      "text/plain": "  0%|          | 0/27599 [00:00<?, ?it/s]",
      "application/vnd.jupyter.widget-view+json": {
       "version_major": 2,
       "version_minor": 0,
       "model_id": "3f263b8eae3e474e8a5ffc83b9775114"
      }
     },
     "metadata": {},
     "output_type": "display_data"
    }
   ],
   "source": [
    "### Test 2 - \"Tea Eggs\"\n",
    "\n",
    "# Get Training and Testing data\n",
    "path = 'Compressed Images/tea_eggs_corrupted.jpg'\n",
    "paths = ['Compressed Images/cheese_board.jpg', 'Compressed Images/chicken_n_beans.jpg', 'Compressed Images/persimmon_tomato_salad.jpg', 'Compressed Images/octopus.jpg']\n",
    "\n",
    "# Set parameters\n",
    "L = 10\n",
    "K = 200\n",
    "N = 500\n",
    "iters = 20\n",
    "patch_shape = np.array([8,8])\n",
    "\n",
    "# Initialize Sampler\n",
    "sam_tea_eggs = Sampler(paths = paths, patch_shape = patch_shape, num_samples = N)\n",
    "sam_tea_eggs.add_filter(\"noise\", std = 100)\n",
    "\n",
    "# Initialize Learner\n",
    "learner_tea_eggs = DictionaryLearner(L=L, K=K, sampler=sam_tea_eggs, algo = 'OMP')\n",
    "learner_tea_eggs.update_step(use_orig=True)\n",
    "\n",
    "# Train Dictionary\n",
    "D_tea_eggs = learner_tea_eggs.sparse_dictionary_learning(iters=iters, output=True)\n",
    "print(\"Dictionary is trained\")\n",
    "\n",
    "# Begin Stochastic Partial Image Reconstruction\n",
    "errors_tea_eggs = learner_tea_eggs.SPIR_test(path, apply_filter=True, min_count=1, replacement=False)\n",
    "\n",
    "# Display Results\n",
    "errors_tea_eggs"
   ],
   "metadata": {
    "collapsed": false,
    "pycharm": {
     "is_executing": true
    }
   }
  },
  {
   "cell_type": "code",
   "execution_count": null,
   "outputs": [],
   "source": [
    "### Test 3 - \"Persimmon Salad\"\n",
    "\n",
    "# Get Training and Testing data\n",
    "path = 'Compressed Images/persimmon_tomato_salad_color.jpg'\n",
    "temp_paths = ['easter_egg_bread.jpg', 'burger.jpg', 'granita.jpg', 'pizzelle.jpg', 'pork_knuckle.jpg', 'cheese_board.jpg', 'chicken_n_beans.jpg', 'octopus.jpg', 'tea_eggs.jpg']\n",
    "paths = ['Compressed Images/' + p[:-4] + \"_color.jpg\" for p in temp_paths]\n",
    "\n",
    "# Set parameters\n",
    "L = 5\n",
    "K = 200\n",
    "N = 500\n",
    "iters = 10\n",
    "patch_shape = np.array([8,8,3])\n",
    "\n",
    "# Initialize Sampler\n",
    "sam_persimon_salad= Sampler(paths = paths, patch_shape = patch_shape, num_samples = N)\n",
    "sam_persimon_salad.add_filter(\"noise\", std = 100)\n",
    "\n",
    "# Initialize Learner\n",
    "learner_persimon_salad = DictionaryLearner(L=L, K=K, sampler=sam_persimon_salad, algo = 'OMP')\n",
    "learner_persimon_salad.update_step(use_orig=True)\n",
    "\n",
    "# Train Dictionary\n",
    "D_persimon_salad = learner_persimon_salad.sparse_dictionary_learning(iters=iters, output=True)\n",
    "print(\"Dictionary is trained\")\n",
    "\n",
    "# Begin Stochastic Partial Image Reconstruction\n",
    "errors_persimon_salad = learner_persimon_salad.SPIR_test(path, apply_filter=True, min_count=1, replacement=False)\n",
    "\n",
    "# Display Results\n",
    "errors_persimon_salad"
   ],
   "metadata": {
    "collapsed": false
   }
  },
  {
   "cell_type": "code",
   "execution_count": 37,
   "outputs": [
    {
     "data": {
      "text/plain": "<Figure size 640x480 with 1 Axes>",
      "image/png": "[encoded data removed]"
     },
     "metadata": {},
     "output_type": "display_data"
    }
   ],
   "source": [
    "plot_error_values(errors_milanese, \"SSIM\")"
   ],
   "metadata": {
    "collapsed": false
   }
  },
  {
   "cell_type": "code",
   "execution_count": null,
   "outputs": [],
   "source": [],
   "metadata": {
    "collapsed": false
   }
  },
  {
   "cell_type": "code",
   "execution_count": 31,
   "outputs": [
    {
     "data": {
      "text/plain": "  0%|          | 0/5519 [00:00<?, ?it/s]",
      "application/vnd.jupyter.widget-view+json": {
       "version_major": 2,
       "version_minor": 0,
       "model_id": "85936ebf506942bcb0d105fb20277333"
      }
     },
     "metadata": {},
     "output_type": "display_data"
    },
    {
     "name": "stderr",
     "output_type": "stream",
     "text": [
      "C:\\Users\\raino\\GitHub\\Sparse-Dictionary-Learning\\Classes.py:579: RuntimeWarning: invalid value encountered in floor_divide\n",
      "  recon_img = recon_img // count\n"
     ]
    },
    {
     "name": "stdout",
     "output_type": "stream",
     "text": [
      "Reconstruction Complete\n",
      "Error Est. = 60.32252505383432\n"
     ]
    }
   ],
   "source": [
    "(recon, error) = learner.SPIR(path=path_corrupted, percent=.2, min_count=1, apply_filter=True)\n",
    "print(f'Reconstruction Complete')\n",
    "print(f'Error Est. = {error}')\n",
    "\n",
    "cv2.imshow(\"Original Image\", img_orig)\n",
    "cv2.imshow(\"Corrupted Image\", img_corrupt)\n",
    "cv2.moveWindow(\"Corrupted Image\", img_orig.shape[1], 0)\n",
    "\n",
    "cv2.imshow('Reconstructed Image', recon)\n",
    "cv2.waitKey(0)\n",
    "cv2.destroyAllWindows()\n",
    "\n",
    "\n"
   ],
   "metadata": {
    "collapsed": false
   }
  },
  {
   "cell_type": "code",
   "execution_count": 9,
   "outputs": [
    {
     "name": "stdout",
     "output_type": "stream",
     "text": [
      "Iters = 0, Error = 52.24964272800685\n"
     ]
    }
   ],
   "source": [
    "print(f'Iters = 0, Error = {error}')\n",
    "#print(f'Iters = 1, Error = 6.0670')\n",
    "#print(f'Iters = 2, Error = 5.3670')\n",
    "#print(f'Iters = 10, Error = {error}')"
   ],
   "metadata": {
    "collapsed": false
   }
  },
  {
   "cell_type": "code",
   "execution_count": 6,
   "outputs": [],
   "source": [
    "cv2.imshow('temp image', recon)\n",
    "cv2.waitKey(0)\n",
    "cv2.destroyAllWindows()"
   ],
   "metadata": {
    "collapsed": false
   }
  },
  {
   "cell_type": "code",
   "execution_count": null,
   "outputs": [],
   "source": [
    "def new_test_process(test_name, N=300, K=100, I=5, L=4, P=8, save_dic = False, generate_graph = False, variabel = None):\n",
    "    print(f\"Test: {test_name}\")\n",
    "    print(f\"Params: N = {N}, K = {K}, I = {I}, L = {L}, P = {P}\")\n",
    "\n",
    "    patch_shape = np.array([P, P])\n",
    "\n",
    "    sam = Sampler(paths=paths, patch_shape=patch_shape, num_samples=N)\n",
    "    learner = DictionaryLearner(L=L, K=K, sampler=sam, algo='OMP')\n",
    "\n",
    "    # Start the timer\n",
    "    start_time = time.time()\n",
    "\n",
    "    D = learner.sparse_dictionary_learning(iters=I, output=True)\n",
    "\n",
    "    (recon, error) = learner.SPIR(path=path, percent=percent, min_count=min_count)\n",
    "\n",
    "    # Calculate the run time\n",
    "    run_time = time.time() - start_time\n",
    "\n",
    "    # Save the reconstruction\n",
    "    correct_path = 'Reconstructed Images/' + test_name + 'N' + str(N) + 'K' + str(K) + 'I' + str(I) + 'L' + str(L) + 'P' + str(P) + '.jpg'\n",
    "    cv2.imwrite(correct_path, recon)\n",
    "\n",
    "    # Print the results\n",
    "    print(f\"Error = {error}, Run Time = {run_time}\")\n",
    "\n",
    "    # Save the results\n",
    "    #data[(N, K, I, L, P)] = [error, run_time]\n",
    "\n",
    "    with open('Graphs/' + test_name + '_data.pkl', 'rb') as f:\n",
    "        data = pickle.load(f)\n",
    "\n",
    "    data[(N, K, I, L, P)] = [error, run_time]\n",
    "\n",
    "    with open('Graphs/' + test_name + '_data.pkl', 'wb') as f:\n",
    "        pickle.dump(data, f)\n",
    "\n",
    "    if save_dic:\n",
    "\n",
    "        with open('Graphs/' + test_name + '_dictionaries.pkl', 'rb') as f:\n",
    "            dictionaries = pickle.load(f)\n",
    "\n",
    "        dictionaries[(N, K, I, L, P)] = D\n",
    "\n",
    "        with open('Graphs/' + test_name + '_dictionaries.pkl', 'wb') as f:\n",
    "            pickle.dump(data, f)\n",
    "\n",
    "    if generate_graph:\n",
    "        xs =[x[variabel] for x in list(data.keys())]\n",
    "        es = [y[0] for y in list(data.values())]\n",
    "        ts = [y[1] for y in list(data.values())]\n",
    "\n",
    "\n",
    "        # create the figure and first axis\n",
    "        fig, ax1 = plt.subplots(figsize=(8, 6))\n",
    "\n",
    "        # create the first line and first y-axis\n",
    "        ax1.plot(xs, es, linestyle='-.', marker='s', color='blue', label='Error Est.')\n",
    "\n",
    "        X_label = ['N', 'K', 'I', 'L', 'P']\n",
    "        X_label = X_label[variabel]\n",
    "        ax1.set_xlabel(X_label + ' Value')\n",
    "\n",
    "        ax1.set_ylabel('Error Est.')\n",
    "        ax2 = ax1.twinx()\n",
    "\n",
    "        ax2.plot(xs, ts, linestyle='--', marker='^', color='green', label = 'Run Time')\n",
    "\n",
    "        # rotate and adjust second y-axis label\n",
    "        ax2.yaxis.set_label_coords(1.1, 0.5)\n",
    "        ax2.set_ylabel('Run Time', rotation=-90, labelpad=10)\n",
    "\n",
    "        ax1.set_title('Run Time and Error Est. with varying ' + X_label + ' values')\n",
    "\n",
    "        # combine legends from both axes\n",
    "        lines_1, labels_1 = ax1.get_legend_handles_labels()\n",
    "        lines_2, labels_2 = ax2.get_legend_handles_labels()\n",
    "        ax1.legend(lines_1 + lines_2, labels_1 + labels_2)\n",
    "\n",
    "        # save the graph as a PNG file\n",
    "        plt.savefig('Graphs/' + test_name + '.png')\n",
    "\n",
    "        plt.show()\n",
    "\n"
   ],
   "metadata": {
    "collapsed": false
   }
  },
  {
   "cell_type": "code",
   "execution_count": 8,
   "outputs": [],
   "source": [
    "img_orig = load_image('Compressed Images/cheese_board.jpg')\n",
    "img_recon = load_image('Reconstructed Images/cheese_boardL16.jpg')\n",
    "\n",
    "img_diff = np.abs(img_orig.astype(int) - img_recon.astype(int))\n",
    "img_diff = np.clip(img_diff, 0, 255).astype(np.uint8)\n",
    "\n",
    "cv2.imshow('Original', img_orig)\n",
    "cv2.imshow('Recon.', img_recon)\n",
    "\n",
    "cv2.imshow('difference', img_diff)\n",
    "cv2.waitKey(0)\n",
    "cv2.destroyAllWindows()"
   ],
   "metadata": {
    "collapsed": false
   }
  },
  {
   "cell_type": "code",
   "execution_count": 28,
   "outputs": [
    {
     "data": {
      "text/plain": "array([[ 57,  76,  78, ...,  27,  27,  27],\n       [ 40,  68,  80, ...,  34,  33,  34],\n       [ 26,  61,  76, ...,  39,  39,  40],\n       ...,\n       [102, 106, 107, ..., 137, 123, 125],\n       [106, 102, 107, ..., 112, 114, 116],\n       [106, 109, 122, ..., 114, 128, 114]], dtype=uint8)"
     },
     "execution_count": 28,
     "metadata": {},
     "output_type": "execute_result"
    }
   ],
   "source": [
    "img_orig"
   ],
   "metadata": {
    "collapsed": false
   }
  },
  {
   "cell_type": "code",
   "execution_count": 29,
   "outputs": [
    {
     "data": {
      "text/plain": "array([[  1,   0,  69, ...,   0,   0,   1],\n       [  0,   0,  75, ...,   1,   0,   0],\n       [  1,   0,  64, ...,   1,   2,   0],\n       ...,\n       [  1,   0,   4, ..., 125, 134,   0],\n       [  0,   3,   1, ..., 120,   0,   0],\n       [  0,   1,   0, ..., 114,   2,   0]], dtype=uint8)"
     },
     "execution_count": 29,
     "metadata": {},
     "output_type": "execute_result"
    }
   ],
   "source": [
    "img_recon"
   ],
   "metadata": {
    "collapsed": false
   }
  },
  {
   "cell_type": "code",
   "execution_count": 31,
   "outputs": [
    {
     "data": {
      "text/plain": "array([[200, 180, 247, ..., 229, 229, 230],\n       [216, 188, 251, ..., 223, 223, 222],\n       [231, 195, 244, ..., 218, 219, 216],\n       ...,\n       [155, 150, 153, ..., 244,  11, 131],\n       [150, 157, 150, ...,   8, 142, 140],\n       [150, 148, 134, ...,   0, 130, 142]], dtype=uint8)"
     },
     "execution_count": 31,
     "metadata": {},
     "output_type": "execute_result"
    }
   ],
   "source": [
    "img_recon - img_orig"
   ],
   "metadata": {
    "collapsed": false
   }
  },
  {
   "cell_type": "code",
   "execution_count": 32,
   "outputs": [
    {
     "data": {
      "text/plain": "numpy.ndarray"
     },
     "execution_count": 32,
     "metadata": {},
     "output_type": "execute_result"
    }
   ],
   "source": [
    "type(img_orig)"
   ],
   "metadata": {
    "collapsed": false
   }
  },
  {
   "cell_type": "code",
   "execution_count": 36,
   "outputs": [
    {
     "data": {
      "text/plain": "-56"
     },
     "execution_count": 36,
     "metadata": {},
     "output_type": "execute_result"
    }
   ],
   "source": [
    "int(img_recon[0,0]) - int(img_orig[0,0])"
   ],
   "metadata": {
    "collapsed": false
   }
  },
  {
   "cell_type": "code",
   "execution_count": 5,
   "outputs": [
    {
     "data": {
      "text/plain": "247"
     },
     "execution_count": 5,
     "metadata": {},
     "output_type": "execute_result"
    }
   ],
   "source": [
    "img_diff.max()"
   ],
   "metadata": {
    "collapsed": false
   }
  },
  {
   "cell_type": "code",
   "execution_count": 9,
   "outputs": [],
   "source": [
    "import pandas as pd"
   ],
   "metadata": {
    "collapsed": false
   }
  },
  {
   "cell_type": "code",
   "execution_count": 13,
   "outputs": [
    {
     "data": {
      "text/plain": "  Reconstructed Path  Original Path  Corrupted Path  Partial or Full  \\\n1                 hi            NaN             NaN              NaN   \n\n   Run Time  MSE  PSNR  SSIM  Luminance Dist.  Contrast Dist.  ...  SSIM Gain  \\\n1        10  NaN   NaN   NaN              NaN             NaN  ...        NaN   \n\n   Luminance Dist. Gain  Contrast Dist. Gain  Structural Comp. Gain  param: K  \\\n1                   NaN                  NaN                    NaN       NaN   \n\n   param: N  param: Iters  param: L  param: patch_shape  param: other  \n1       NaN           NaN       NaN                 NaN           NaN  \n\n[1 rows x 23 columns]",
      "text/html": "<div>\n<style scoped>\n    .dataframe tbody tr th:only-of-type {\n        vertical-align: middle;\n    }\n\n    .dataframe tbody tr th {\n        vertical-align: top;\n    }\n\n    .dataframe thead th {\n        text-align: right;\n    }\n</style>\n<table border=\"1\" class=\"dataframe\">\n  <thead>\n    <tr style=\"text-align: right;\">\n      <th></th>\n      <th>Reconstructed Path</th>\n      <th>Original Path</th>\n      <th>Corrupted Path</th>\n      <th>Partial or Full</th>\n      <th>Run Time</th>\n      <th>MSE</th>\n      <th>PSNR</th>\n      <th>SSIM</th>\n      <th>Luminance Dist.</th>\n      <th>Contrast Dist.</th>\n      <th>...</th>\n      <th>SSIM Gain</th>\n      <th>Luminance Dist. Gain</th>\n      <th>Contrast Dist. Gain</th>\n      <th>Structural Comp. Gain</th>\n      <th>param: K</th>\n      <th>param: N</th>\n      <th>param: Iters</th>\n      <th>param: L</th>\n      <th>param: patch_shape</th>\n      <th>param: other</th>\n    </tr>\n  </thead>\n  <tbody>\n    <tr>\n      <th>1</th>\n      <td>hi</td>\n      <td>NaN</td>\n      <td>NaN</td>\n      <td>NaN</td>\n      <td>10</td>\n      <td>NaN</td>\n      <td>NaN</td>\n      <td>NaN</td>\n      <td>NaN</td>\n      <td>NaN</td>\n      <td>...</td>\n      <td>NaN</td>\n      <td>NaN</td>\n      <td>NaN</td>\n      <td>NaN</td>\n      <td>NaN</td>\n      <td>NaN</td>\n      <td>NaN</td>\n      <td>NaN</td>\n      <td>NaN</td>\n      <td>NaN</td>\n    </tr>\n  </tbody>\n</table>\n<p>1 rows × 23 columns</p>\n</div>"
     },
     "execution_count": 13,
     "metadata": {},
     "output_type": "execute_result"
    }
   ],
   "source": [
    "df = pd.DataFrame(columns=['Reconstructed Path', 'Original Path', 'Corrupted Path', 'Partial or Full',  'Run Time', 'MSE', 'PSNR', 'SSIM', 'Luminance Dist.', 'Contrast Dist.', 'Structural Comp.', 'MSE Gain', 'PSNR Gain', 'SSIM Gain', 'Luminance Dist. Gain', 'Contrast Dist. Gain', 'Structural Comp. Gain',  'param: K', 'param: N', 'param: Iters', 'param: L', 'param: patch_shape', 'param: other'])\n",
    "df.loc[1] = {'Reconstructed Path':'hi', 'Run Time': 10}\n",
    "df"
   ],
   "metadata": {
    "collapsed": false
   }
  },
  {
   "cell_type": "code",
   "execution_count": 14,
   "outputs": [
    {
     "data": {
      "text/plain": "1"
     },
     "execution_count": 14,
     "metadata": {},
     "output_type": "execute_result"
    }
   ],
   "source": [
    "df.index.max()"
   ],
   "metadata": {
    "collapsed": false
   }
  },
  {
   "cell_type": "code",
   "execution_count": 22,
   "outputs": [
    {
     "data": {
      "text/plain": "21"
     },
     "execution_count": 22,
     "metadata": {},
     "output_type": "execute_result"
    }
   ],
   "source": [
    "a = np.array([1,4,-2,0]).astype(int)\n",
    "(a**2).sum()"
   ],
   "metadata": {
    "collapsed": false
   }
  },
  {
   "cell_type": "code",
   "execution_count": 25,
   "outputs": [
    {
     "data": {
      "text/plain": "1.0"
     },
     "execution_count": 25,
     "metadata": {},
     "output_type": "execute_result"
    }
   ],
   "source": [
    "np.log10(10)"
   ],
   "metadata": {
    "collapsed": false
   }
  },
  {
   "cell_type": "code",
   "execution_count": 35,
   "outputs": [
    {
     "data": {
      "text/plain": "numpy.float64"
     },
     "execution_count": 35,
     "metadata": {},
     "output_type": "execute_result"
    }
   ],
   "source": [
    "df = pd.read_csv('EVALUATION_METRICS.csv')\n",
    "type(df['param: Iters'][2])"
   ],
   "metadata": {
    "collapsed": false
   }
  },
  {
   "cell_type": "code",
   "execution_count": 15,
   "outputs": [
    {
     "data": {
      "text/plain": "array([[1.        , 1.5       ],\n       [1.5       , 2.33333333]])"
     },
     "execution_count": 15,
     "metadata": {},
     "output_type": "execute_result"
    }
   ],
   "source": [
    "a = np.array([1,2,3])\n",
    "b = np.array([1,2,4])\n",
    "np.cov(a, b)"
   ],
   "metadata": {
    "collapsed": false
   }
  },
  {
   "cell_type": "code",
   "execution_count": 17,
   "outputs": [
    {
     "data": {
      "text/plain": "array([1., 0., 1.])"
     },
     "execution_count": 17,
     "metadata": {},
     "output_type": "execute_result"
    }
   ],
   "source": [
    "((a - a.mean())**2)"
   ],
   "metadata": {
    "collapsed": false
   }
  },
  {
   "cell_type": "code",
   "execution_count": 19,
   "outputs": [
    {
     "data": {
      "text/plain": "0.6666666666666666"
     },
     "execution_count": 19,
     "metadata": {},
     "output_type": "execute_result"
    }
   ],
   "source": [
    "a.std()**2"
   ],
   "metadata": {
    "collapsed": false
   }
  },
  {
   "cell_type": "code",
   "execution_count": 20,
   "outputs": [
    {
     "data": {
      "text/plain": "0.6666666666666666"
     },
     "execution_count": 20,
     "metadata": {},
     "output_type": "execute_result"
    }
   ],
   "source": [
    "a.var()"
   ],
   "metadata": {
    "collapsed": false
   }
  },
  {
   "cell_type": "code",
   "execution_count": 22,
   "outputs": [
    {
     "data": {
      "text/plain": "array([[1.        , 1.5       ],\n       [1.5       , 2.33333333]])"
     },
     "execution_count": 22,
     "metadata": {},
     "output_type": "execute_result"
    }
   ],
   "source": [
    "np.cov(a, b)"
   ],
   "metadata": {
    "collapsed": false
   }
  },
  {
   "cell_type": "code",
   "execution_count": 28,
   "outputs": [
    {
     "data": {
      "text/plain": "1.0"
     },
     "execution_count": 28,
     "metadata": {},
     "output_type": "execute_result"
    }
   ],
   "source": [
    "((a - a.mean() ) * (b - b.mean()) ).sum()/3"
   ],
   "metadata": {
    "collapsed": false
   }
  },
  {
   "cell_type": "code",
   "execution_count": 31,
   "outputs": [
    {
     "data": {
      "text/plain": "array([0.33333333, 0.66666667, 1.        ])"
     },
     "execution_count": 31,
     "metadata": {},
     "output_type": "execute_result"
    }
   ],
   "source": [
    "a = a.astype(int)\n",
    "a = a / 3\n",
    "a"
   ],
   "metadata": {
    "collapsed": false
   }
  },
  {
   "cell_type": "code",
   "execution_count": 44,
   "outputs": [
    {
     "name": "stdout",
     "output_type": "stream",
     "text": [
      "8\n",
      "0\n",
      "5\n",
      "3\n",
      "2\n",
      "9\n",
      "4\n",
      "1\n",
      "6\n",
      "7\n"
     ]
    }
   ],
   "source": [
    "lis = list(range(10))\n",
    "random.shuffle(lis)\n",
    "for i in lis: print(i)"
   ],
   "metadata": {
    "collapsed": false
   }
  },
  {
   "cell_type": "code",
   "execution_count": 51,
   "outputs": [
    {
     "data": {
      "text/plain": "True"
     },
     "execution_count": 51,
     "metadata": {},
     "output_type": "execute_result"
    }
   ],
   "source": [
    "0 % 100 == 0"
   ],
   "metadata": {
    "collapsed": false
   }
  },
  {
   "cell_type": "code",
   "execution_count": 55,
   "outputs": [
    {
     "ename": "ValueError",
     "evalue": "cannot set a frame with no defined columns",
     "output_type": "error",
     "traceback": [
      "\u001B[1;31m---------------------------------------------------------------------------\u001B[0m",
      "\u001B[1;31mValueError\u001B[0m                                Traceback (most recent call last)",
      "\u001B[1;32m~\\AppData\\Local\\Temp\\ipykernel_35320\\441085543.py\u001B[0m in \u001B[0;36m<module>\u001B[1;34m\u001B[0m\n\u001B[0;32m      2\u001B[0m \u001B[0mdata\u001B[0m \u001B[1;33m=\u001B[0m \u001B[1;33m{\u001B[0m\u001B[1;33m}\u001B[0m\u001B[1;33m\u001B[0m\u001B[1;33m\u001B[0m\u001B[0m\n\u001B[0;32m      3\u001B[0m \u001B[0mdata\u001B[0m\u001B[1;33m[\u001B[0m\u001B[1;34m'hi'\u001B[0m\u001B[1;33m]\u001B[0m \u001B[1;33m=\u001B[0m \u001B[1;36m1\u001B[0m\u001B[1;33m\u001B[0m\u001B[1;33m\u001B[0m\u001B[0m\n\u001B[1;32m----> 4\u001B[1;33m \u001B[0mdf_new\u001B[0m\u001B[1;33m.\u001B[0m\u001B[0mloc\u001B[0m\u001B[1;33m[\u001B[0m\u001B[1;36m0.0\u001B[0m\u001B[1;33m]\u001B[0m \u001B[1;33m=\u001B[0m \u001B[0mdata\u001B[0m\u001B[1;33m\u001B[0m\u001B[1;33m\u001B[0m\u001B[0m\n\u001B[0m\u001B[0;32m      5\u001B[0m \u001B[1;33m\u001B[0m\u001B[0m\n\u001B[0;32m      6\u001B[0m \u001B[0mdf_new\u001B[0m\u001B[1;33m\u001B[0m\u001B[1;33m\u001B[0m\u001B[0m\n",
      "\u001B[1;32m~\\anaconda3\\lib\\site-packages\\pandas\\core\\indexing.py\u001B[0m in \u001B[0;36m__setitem__\u001B[1;34m(self, key, value)\u001B[0m\n\u001B[0;32m    714\u001B[0m \u001B[1;33m\u001B[0m\u001B[0m\n\u001B[0;32m    715\u001B[0m         \u001B[0miloc\u001B[0m \u001B[1;33m=\u001B[0m \u001B[0mself\u001B[0m \u001B[1;32mif\u001B[0m \u001B[0mself\u001B[0m\u001B[1;33m.\u001B[0m\u001B[0mname\u001B[0m \u001B[1;33m==\u001B[0m \u001B[1;34m\"iloc\"\u001B[0m \u001B[1;32melse\u001B[0m \u001B[0mself\u001B[0m\u001B[1;33m.\u001B[0m\u001B[0mobj\u001B[0m\u001B[1;33m.\u001B[0m\u001B[0miloc\u001B[0m\u001B[1;33m\u001B[0m\u001B[1;33m\u001B[0m\u001B[0m\n\u001B[1;32m--> 716\u001B[1;33m         \u001B[0miloc\u001B[0m\u001B[1;33m.\u001B[0m\u001B[0m_setitem_with_indexer\u001B[0m\u001B[1;33m(\u001B[0m\u001B[0mindexer\u001B[0m\u001B[1;33m,\u001B[0m \u001B[0mvalue\u001B[0m\u001B[1;33m,\u001B[0m \u001B[0mself\u001B[0m\u001B[1;33m.\u001B[0m\u001B[0mname\u001B[0m\u001B[1;33m)\u001B[0m\u001B[1;33m\u001B[0m\u001B[1;33m\u001B[0m\u001B[0m\n\u001B[0m\u001B[0;32m    717\u001B[0m \u001B[1;33m\u001B[0m\u001B[0m\n\u001B[0;32m    718\u001B[0m     \u001B[1;32mdef\u001B[0m \u001B[0m_validate_key\u001B[0m\u001B[1;33m(\u001B[0m\u001B[0mself\u001B[0m\u001B[1;33m,\u001B[0m \u001B[0mkey\u001B[0m\u001B[1;33m,\u001B[0m \u001B[0maxis\u001B[0m\u001B[1;33m:\u001B[0m \u001B[0mint\u001B[0m\u001B[1;33m)\u001B[0m\u001B[1;33m:\u001B[0m\u001B[1;33m\u001B[0m\u001B[1;33m\u001B[0m\u001B[0m\n",
      "\u001B[1;32m~\\anaconda3\\lib\\site-packages\\pandas\\core\\indexing.py\u001B[0m in \u001B[0;36m_setitem_with_indexer\u001B[1;34m(self, indexer, value, name)\u001B[0m\n\u001B[0;32m   1683\u001B[0m \u001B[1;33m\u001B[0m\u001B[0m\n\u001B[0;32m   1684\u001B[0m             \u001B[1;32mif\u001B[0m \u001B[0mmissing\u001B[0m\u001B[1;33m:\u001B[0m\u001B[1;33m\u001B[0m\u001B[1;33m\u001B[0m\u001B[0m\n\u001B[1;32m-> 1685\u001B[1;33m                 \u001B[0mself\u001B[0m\u001B[1;33m.\u001B[0m\u001B[0m_setitem_with_indexer_missing\u001B[0m\u001B[1;33m(\u001B[0m\u001B[0mindexer\u001B[0m\u001B[1;33m,\u001B[0m \u001B[0mvalue\u001B[0m\u001B[1;33m)\u001B[0m\u001B[1;33m\u001B[0m\u001B[1;33m\u001B[0m\u001B[0m\n\u001B[0m\u001B[0;32m   1686\u001B[0m                 \u001B[1;32mreturn\u001B[0m\u001B[1;33m\u001B[0m\u001B[1;33m\u001B[0m\u001B[0m\n\u001B[0;32m   1687\u001B[0m \u001B[1;33m\u001B[0m\u001B[0m\n",
      "\u001B[1;32m~\\anaconda3\\lib\\site-packages\\pandas\\core\\indexing.py\u001B[0m in \u001B[0;36m_setitem_with_indexer_missing\u001B[1;34m(self, indexer, value)\u001B[0m\n\u001B[0;32m   1985\u001B[0m             \u001B[1;32mif\u001B[0m \u001B[1;32mnot\u001B[0m \u001B[0mlen\u001B[0m\u001B[1;33m(\u001B[0m\u001B[0mself\u001B[0m\u001B[1;33m.\u001B[0m\u001B[0mobj\u001B[0m\u001B[1;33m.\u001B[0m\u001B[0mcolumns\u001B[0m\u001B[1;33m)\u001B[0m\u001B[1;33m:\u001B[0m\u001B[1;33m\u001B[0m\u001B[1;33m\u001B[0m\u001B[0m\n\u001B[0;32m   1986\u001B[0m                 \u001B[1;31m# no columns and scalar\u001B[0m\u001B[1;33m\u001B[0m\u001B[1;33m\u001B[0m\u001B[0m\n\u001B[1;32m-> 1987\u001B[1;33m                 \u001B[1;32mraise\u001B[0m \u001B[0mValueError\u001B[0m\u001B[1;33m(\u001B[0m\u001B[1;34m\"cannot set a frame with no defined columns\"\u001B[0m\u001B[1;33m)\u001B[0m\u001B[1;33m\u001B[0m\u001B[1;33m\u001B[0m\u001B[0m\n\u001B[0m\u001B[0;32m   1988\u001B[0m \u001B[1;33m\u001B[0m\u001B[0m\n\u001B[0;32m   1989\u001B[0m             \u001B[0mhas_dtype\u001B[0m \u001B[1;33m=\u001B[0m \u001B[0mhasattr\u001B[0m\u001B[1;33m(\u001B[0m\u001B[0mvalue\u001B[0m\u001B[1;33m,\u001B[0m \u001B[1;34m\"dtype\"\u001B[0m\u001B[1;33m)\u001B[0m\u001B[1;33m\u001B[0m\u001B[1;33m\u001B[0m\u001B[0m\n",
      "\u001B[1;31mValueError\u001B[0m: cannot set a frame with no defined columns"
     ]
    }
   ],
   "source": [
    "df_new = pd.DataFrame(columns=[])\n",
    "data = {}\n",
    "data['hi'] = 1\n",
    "df_new.loc[0.0] = data\n",
    "\n",
    "df_new"
   ],
   "metadata": {
    "collapsed": false
   }
  },
  {
   "cell_type": "code",
   "execution_count": 59,
   "outputs": [
    {
     "data": {
      "text/plain": "  0%|          | 0/27599 [00:00<?, ?it/s]",
      "application/vnd.jupyter.widget-view+json": {
       "version_major": 2,
       "version_minor": 0,
       "model_id": "056bbd1777984a958e1a8f9c9bca44f8"
      }
     },
     "metadata": {},
     "output_type": "display_data"
    },
    {
     "ename": "NameError",
     "evalue": "name 'temp_indices' is not defined",
     "output_type": "error",
     "traceback": [
      "\u001B[1;31m---------------------------------------------------------------------------\u001B[0m",
      "\u001B[1;31mNameError\u001B[0m                                 Traceback (most recent call last)",
      "\u001B[1;32m~\\AppData\\Local\\Temp\\ipykernel_35320\\2875573320.py\u001B[0m in \u001B[0;36m<module>\u001B[1;34m\u001B[0m\n\u001B[1;32m----> 1\u001B[1;33m \u001B[0merror_values\u001B[0m \u001B[1;33m=\u001B[0m \u001B[0mlearner\u001B[0m\u001B[1;33m.\u001B[0m\u001B[0mSPIR_test\u001B[0m\u001B[1;33m(\u001B[0m\u001B[0mpath_corrupted\u001B[0m\u001B[1;33m,\u001B[0m \u001B[0mapply_filter\u001B[0m\u001B[1;33m=\u001B[0m\u001B[1;32mTrue\u001B[0m\u001B[1;33m)\u001B[0m\u001B[1;33m\u001B[0m\u001B[1;33m\u001B[0m\u001B[0m\n\u001B[0m",
      "\u001B[1;32m~\\GitHub\\Sparse-Dictionary-Learning\\Classes.py\u001B[0m in \u001B[0;36mSPIR_test\u001B[1;34m(self, path, apply_filter)\u001B[0m\n\u001B[0;32m    662\u001B[0m                 \u001B[1;31m# Get the correct reconstructed image vector\u001B[0m\u001B[1;33m\u001B[0m\u001B[1;33m\u001B[0m\u001B[0m\n\u001B[0;32m    663\u001B[0m                 \u001B[0mvec_recon\u001B[0m \u001B[1;33m=\u001B[0m \u001B[0mrecon_img\u001B[0m\u001B[1;33m.\u001B[0m\u001B[0mcopy\u001B[0m\u001B[1;33m(\u001B[0m\u001B[1;33m)\u001B[0m\u001B[1;33m.\u001B[0m\u001B[0mflatten\u001B[0m\u001B[1;33m(\u001B[0m\u001B[1;33m)\u001B[0m\u001B[1;33m.\u001B[0m\u001B[0mastype\u001B[0m\u001B[1;33m(\u001B[0m\u001B[0mint\u001B[0m\u001B[1;33m)\u001B[0m\u001B[1;33m\u001B[0m\u001B[1;33m\u001B[0m\u001B[0m\n\u001B[1;32m--> 664\u001B[1;33m                 \u001B[0mvec_recon\u001B[0m \u001B[1;33m=\u001B[0m \u001B[0mvec_recon\u001B[0m\u001B[1;33m[\u001B[0m\u001B[0mtemp_indices\u001B[0m\u001B[1;33m]\u001B[0m\u001B[1;33m/\u001B[0m\u001B[0mtemp_count\u001B[0m\u001B[1;33m[\u001B[0m\u001B[0mtemp_indices\u001B[0m\u001B[1;33m]\u001B[0m\u001B[1;33m\u001B[0m\u001B[1;33m\u001B[0m\u001B[0m\n\u001B[0m\u001B[0;32m    665\u001B[0m \u001B[1;33m\u001B[0m\u001B[0m\n\u001B[0;32m    666\u001B[0m \u001B[1;33m\u001B[0m\u001B[0m\n",
      "\u001B[1;31mNameError\u001B[0m: name 'temp_indices' is not defined"
     ]
    }
   ],
   "source": [],
   "metadata": {
    "collapsed": false
   }
  },
  {
   "cell_type": "code",
   "execution_count": 17,
   "outputs": [
    {
     "data": {
      "text/plain": "0"
     },
     "execution_count": 17,
     "metadata": {},
     "output_type": "execute_result"
    }
   ],
   "source": [
    "len([])"
   ],
   "metadata": {
    "collapsed": false
   }
  },
  {
   "cell_type": "code",
   "execution_count": null,
   "outputs": [],
   "source": [],
   "metadata": {
    "collapsed": false
   }
  }
 ],
 "metadata": {
  "kernelspec": {
   "display_name": "Python 3",
   "language": "python",
   "name": "python3"
  },
  "language_info": {
   "codemirror_mode": {
    "name": "ipython",
    "version": 2
   },
   "file_extension": ".py",
   "mimetype": "text/x-python",
   "name": "python",
   "nbconvert_exporter": "python",
   "pygments_lexer": "ipython2",
   "version": "2.7.6"
  }
 },
 "nbformat": 4,
 "nbformat_minor": 0
}
