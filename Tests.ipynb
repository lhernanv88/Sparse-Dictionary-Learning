{
 "cells": [
  {
   "cell_type": "markdown",
   "source": [
    "# Sparse Dictionary Learning Tests\n",
    "\n",
    "In this notebook we will be preforming tests to show the abilities of our sparse dictionary learning algorithm."
   ],
   "metadata": {
    "collapsed": false
   }
  },
  {
   "cell_type": "code",
   "execution_count": 109,
   "outputs": [],
   "source": [
    "import numpy as np\n",
    "import random\n",
    "import cv2\n",
    "from tqdm.notebook import tqdm\n",
    "import pandas as pd\n",
    "import matplotlib.pyplot as plt\n",
    "import pickle\n",
    "import time\n",
    "\n",
    "%run Classes.py"
   ],
   "metadata": {
    "collapsed": false
   }
  },
  {
   "cell_type": "markdown",
   "source": [
    "### Evaluation Criteria\n",
    "\n",
    "We will be using MSE and the Stochastic Partial Image Reconstruction to estimate error."
   ],
   "metadata": {
    "collapsed": false
   }
  },
  {
   "cell_type": "markdown",
   "source": [
    "## Task 1: Image Compression/Reconstruction\n",
    "\n",
    "This task is to take a single image, compress it (patch by patch) with sparse coding, and then reconstruct it. We will do this in two different ways: One way is by training our dictionary on a group of sample images, the other is by training using only the single test image. The purpose of the second method is to get a \"best case\" scenario of our algorithms preformance.\n",
    "\n",
    "\n",
    "***Method A: Same Image Training***\n",
    "Here we will train our dictionary on a single image, the same image that we will be testing on. The purpose of this is to get a \"best case\" scenario of our algorithms preformance.\n",
    "\n",
    "***Method B: Multiple Image Training***\n",
    "Here we will train our dictionary on a group of images, and then test it on an unseen test image.\n"
   ],
   "metadata": {
    "collapsed": false
   }
  },
  {
   "cell_type": "code",
   "execution_count": 6,
   "outputs": [],
   "source": [
    "learner = DictionaryLearner()"
   ],
   "metadata": {
    "collapsed": false
   }
  },
  {
   "cell_type": "code",
   "execution_count": 19,
   "outputs": [
    {
     "data": {
      "text/plain": "array([153.6, 204. ])"
     },
     "execution_count": 19,
     "metadata": {},
     "output_type": "execute_result"
    }
   ],
   "source": [
    "img = cv2.imread('Original Images/cheese_board.jpg')\n",
    "img.shape[:2] / np.array([20,20])"
   ],
   "metadata": {
    "collapsed": false
   }
  },
  {
   "cell_type": "code",
   "execution_count": 10,
   "outputs": [
    {
     "data": {
      "text/plain": "array([[[ 51,  50,  52],\n        [ 52,  51,  53],\n        [ 55,  54,  56],\n        ...,\n        [ 22,  28,  39],\n        [ 20,  26,  37],\n        [ 18,  24,  35]],\n\n       [[ 57,  56,  58],\n        [ 58,  57,  59],\n        [ 59,  58,  60],\n        ...,\n        [ 18,  24,  35],\n        [ 18,  24,  35],\n        [ 19,  25,  36]],\n\n       [[ 56,  55,  57],\n        [ 56,  55,  57],\n        [ 57,  56,  58],\n        ...,\n        [ 19,  25,  36],\n        [ 20,  26,  37],\n        [ 20,  26,  37]],\n\n       ...,\n\n       [[ 96, 108, 118],\n        [103, 115, 125],\n        [103, 115, 125],\n        ...,\n        [112, 110, 122],\n        [111, 110, 120],\n        [111, 110, 120]],\n\n       [[ 93, 105, 115],\n        [104, 116, 126],\n        [105, 117, 127],\n        ...,\n        [112, 110, 122],\n        [113, 109, 120],\n        [114, 110, 121]],\n\n       [[ 90, 102, 112],\n        [104, 116, 126],\n        [107, 119, 129],\n        ...,\n        [111, 109, 121],\n        [113, 109, 120],\n        [114, 110, 121]]], dtype=uint8)"
     },
     "execution_count": 10,
     "metadata": {},
     "output_type": "execute_result"
    }
   ],
   "source": [
    "# Load the image\n",
    "img = cv2.imread('dinner.jpg', cv2.IMREAD_COLOR)\n",
    "\n",
    "# Resize the image to 400x300 pixels\n",
    "img_resized = cv2.resize(img, (200, 150), interpolation=cv2.INTER_AREA)\n",
    "\n",
    "# Convert the resized image to grayscale\n",
    "img_gray = cv2.cvtColor(img_resized, cv2.COLOR_RGB2GRAY)\n",
    "\n",
    "# Save the grayscale image as 'small_gray_dinner.png'\n",
    "cv2.imwrite('small_gray_dinner.png', img_gray )"
   ],
   "metadata": {
    "collapsed": false
   }
  },
  {
   "cell_type": "code",
   "execution_count": 20,
   "outputs": [],
   "source": [
    "paths = ['cheese_board.jpg', 'chicken_n_beans.jpg', 'octopus.jpg', 'tea_eggs.jpg', 'persimmon_tomato_salad.jpg']"
   ],
   "metadata": {
    "collapsed": false
   }
  },
  {
   "cell_type": "code",
   "execution_count": 32,
   "outputs": [
    {
     "data": {
      "text/plain": "  0%|          | 0/10 [00:00<?, ?it/s]",
      "application/vnd.jupyter.widget-view+json": {
       "version_major": 2,
       "version_minor": 0,
       "model_id": "ed8ca709652148e08dd25929eec1c48e"
      }
     },
     "metadata": {},
     "output_type": "display_data"
    },
    {
     "data": {
      "text/plain": "  0%|          | 0/5519 [00:00<?, ?it/s]",
      "application/vnd.jupyter.widget-view+json": {
       "version_major": 2,
       "version_minor": 0,
       "model_id": "002067ce5c08420c8cc354c17297d98c"
      }
     },
     "metadata": {},
     "output_type": "display_data"
    },
    {
     "name": "stderr",
     "output_type": "stream",
     "text": [
      "C:\\Users\\raino\\GitHub\\Sparse-Dictionary-Learning\\Classes.py:554: RuntimeWarning: invalid value encountered in floor_divide\n",
      "  recon_img = recon_img // count\n"
     ]
    },
    {
     "data": {
      "text/plain": "  0%|          | 0/10 [00:00<?, ?it/s]",
      "application/vnd.jupyter.widget-view+json": {
       "version_major": 2,
       "version_minor": 0,
       "model_id": "27e06b03f7824762888ac0c258e1e384"
      }
     },
     "metadata": {},
     "output_type": "display_data"
    },
    {
     "data": {
      "text/plain": "  0%|          | 0/5519 [00:00<?, ?it/s]",
      "application/vnd.jupyter.widget-view+json": {
       "version_major": 2,
       "version_minor": 0,
       "model_id": "e2394d69ba1e4240a870de3b93368009"
      }
     },
     "metadata": {},
     "output_type": "display_data"
    },
    {
     "data": {
      "text/plain": "  0%|          | 0/10 [00:00<?, ?it/s]",
      "application/vnd.jupyter.widget-view+json": {
       "version_major": 2,
       "version_minor": 0,
       "model_id": "0d8a791bebc84c3ea8c1c9f4ef9dc001"
      }
     },
     "metadata": {},
     "output_type": "display_data"
    },
    {
     "data": {
      "text/plain": "  0%|          | 0/5519 [00:00<?, ?it/s]",
      "application/vnd.jupyter.widget-view+json": {
       "version_major": 2,
       "version_minor": 0,
       "model_id": "60f37f760b5d4764b2d0e4b3803b3a20"
      }
     },
     "metadata": {},
     "output_type": "display_data"
    },
    {
     "data": {
      "text/plain": "  0%|          | 0/10 [00:00<?, ?it/s]",
      "application/vnd.jupyter.widget-view+json": {
       "version_major": 2,
       "version_minor": 0,
       "model_id": "5b493921d0b942ad9f5d6fdcc3ae734e"
      }
     },
     "metadata": {},
     "output_type": "display_data"
    },
    {
     "data": {
      "text/plain": "  0%|          | 0/5519 [00:00<?, ?it/s]",
      "application/vnd.jupyter.widget-view+json": {
       "version_major": 2,
       "version_minor": 0,
       "model_id": "bf55cb9c58294b2b8b0f90b0661a750b"
      }
     },
     "metadata": {},
     "output_type": "display_data"
    },
    {
     "data": {
      "text/plain": "  0%|          | 0/10 [00:00<?, ?it/s]",
      "application/vnd.jupyter.widget-view+json": {
       "version_major": 2,
       "version_minor": 0,
       "model_id": "029637ef8633486097483b3b2abb6138"
      }
     },
     "metadata": {},
     "output_type": "display_data"
    },
    {
     "data": {
      "text/plain": "  0%|          | 0/5519 [00:00<?, ?it/s]",
      "application/vnd.jupyter.widget-view+json": {
       "version_major": 2,
       "version_minor": 0,
       "model_id": "5be5d8bd9f48474881b9ba426a7a5a24"
      }
     },
     "metadata": {},
     "output_type": "display_data"
    }
   ],
   "source": [
    "paths = ['Compressed Images/cheese_board.jpg']\n",
    "new_path = 'Reconstructed Images/cheese_boardL'\n",
    "N = 512\n",
    "K = 256\n",
    "I = 10\n",
    "percent= .2\n",
    "min_count = 1\n",
    "patch_shape = np.array([8,8])\n",
    "\n",
    "sam = Sampler(paths = paths, patch_shape = patch_shape, num_samples = N)\n",
    "\n",
    "dictionaries = []\n",
    "Ls = [1, 2, 4, 8, 16]\n",
    "for L in Ls:\n",
    "    learner = DictionaryLearner(L=L, K=K, sampler=sam, algo = 'OMP')\n",
    "    D = learner.sparse_dictionary_learning(iters = I, output = True)\n",
    "    (recon, error) =  learner.SPIR(path = paths[0], percent=percent, min_count=min_count)\n",
    "    dictionaries.append((L, D, error))\n",
    "    cv2.imwrite(new_path + str(L) + '.jpg', recon)"
   ],
   "metadata": {
    "collapsed": false
   }
  },
  {
   "cell_type": "markdown",
   "source": [],
   "metadata": {
    "collapsed": false
   }
  },
  {
   "cell_type": "code",
   "execution_count": 35,
   "outputs": [],
   "source": [
    "\n",
    "with open('Graphs/cheese_board_dictionaries.pkl', 'wb') as f:\n",
    "    pickle.dump(dictionaries, f)\n"
   ],
   "metadata": {
    "collapsed": false
   }
  },
  {
   "cell_type": "code",
   "execution_count": 36,
   "outputs": [
    {
     "data": {
      "text/plain": "<Figure size 640x480 with 1 Axes>",
      "image/png": "[encoded data removed]"
     },
     "metadata": {},
     "output_type": "display_data"
    }
   ],
   "source": [
    "xs = Ls\n",
    "ys = [ error for L, dic, error in dictionaries]\n",
    "\n",
    "\n",
    "plt.plot(xs, ys, linestyle='--', marker='o', color='blue', label = 'Cheese Board')\n",
    "plt.xlabel('Number of Atoms')\n",
    "plt.ylabel('Error Est.')\n",
    "plt.title('Error for different number of Atoms')\n",
    "plt.legend()\n",
    "plt.savefig('Graphs/Error_Est_for_L.png')\n",
    "plt.show()\n"
   ],
   "metadata": {
    "collapsed": false
   }
  },
  {
   "cell_type": "code",
   "execution_count": 37,
   "outputs": [
    {
     "data": {
      "text/plain": "  0%|          | 0/1 [00:00<?, ?it/s]",
      "application/vnd.jupyter.widget-view+json": {
       "version_major": 2,
       "version_minor": 0,
       "model_id": "4023d5f3b74f4fe3baa923245c04994d"
      }
     },
     "metadata": {},
     "output_type": "display_data"
    },
    {
     "data": {
      "text/plain": "  0%|          | 0/5519 [00:00<?, ?it/s]",
      "application/vnd.jupyter.widget-view+json": {
       "version_major": 2,
       "version_minor": 0,
       "model_id": "80cb9cdb7b994d10ba41b0ea47dbe460"
      }
     },
     "metadata": {},
     "output_type": "display_data"
    },
    {
     "name": "stderr",
     "output_type": "stream",
     "text": [
      "C:\\Users\\raino\\GitHub\\Sparse-Dictionary-Learning\\Classes.py:554: RuntimeWarning: invalid value encountered in floor_divide\n",
      "  recon_img = recon_img // count\n"
     ]
    },
    {
     "data": {
      "text/plain": "  0%|          | 0/1 [00:00<?, ?it/s]",
      "application/vnd.jupyter.widget-view+json": {
       "version_major": 2,
       "version_minor": 0,
       "model_id": "1628bf4ed5fc4e3a97239935b573819c"
      }
     },
     "metadata": {},
     "output_type": "display_data"
    },
    {
     "data": {
      "text/plain": "  0%|          | 0/5519 [00:00<?, ?it/s]",
      "application/vnd.jupyter.widget-view+json": {
       "version_major": 2,
       "version_minor": 0,
       "model_id": "d583d4e9e231461f84f60e01a5635d5f"
      }
     },
     "metadata": {},
     "output_type": "display_data"
    },
    {
     "data": {
      "text/plain": "  0%|          | 0/1 [00:00<?, ?it/s]",
      "application/vnd.jupyter.widget-view+json": {
       "version_major": 2,
       "version_minor": 0,
       "model_id": "3e93468ff9414a4cbab0aefded19a511"
      }
     },
     "metadata": {},
     "output_type": "display_data"
    },
    {
     "data": {
      "text/plain": "  0%|          | 0/5519 [00:00<?, ?it/s]",
      "application/vnd.jupyter.widget-view+json": {
       "version_major": 2,
       "version_minor": 0,
       "model_id": "c5615cc594d8416db4952748a7577dc5"
      }
     },
     "metadata": {},
     "output_type": "display_data"
    }
   ],
   "source": [
    "paths = ['Compressed Images/chicken_n_beans.jpg']\n",
    "new_path = 'Reconstructed Images/chicken_n_beansL'\n",
    "N = 256\n",
    "K = 128\n",
    "I = 1\n",
    "percent= .2\n",
    "min_count = 1\n",
    "patch_shape = np.array([8,8])\n",
    "\n",
    "sam = Sampler(paths = paths, patch_shape = patch_shape, num_samples = N)\n",
    "\n",
    "dictionaries = []\n",
    "Ls = [5,10,20] # Depends on what I see, but probably [2, 8, 10, 16]? [1, 2, 4, 8, 16]\n",
    "for L in Ls:\n",
    "    learner = DictionaryLearner(L=L, K=K, sampler=sam, algo = 'OMP')\n",
    "    D = learner.sparse_dictionary_learning(iters = I, output = True)\n",
    "    (recon, error) =  learner.SPIR(path = paths[0], percent=percent, min_count=min_count)\n",
    "    dictionaries.append((L, D, error))\n",
    "    cv2.imwrite(new_path + str(L) + '.jpg', recon)\n",
    "\n",
    "with open('Graphs/chicken_n_beans.pkl', 'wb') as f:\n",
    "    pickle.dump(dictionaries, f)"
   ],
   "metadata": {
    "collapsed": false
   }
  },
  {
   "cell_type": "code",
   "execution_count": 38,
   "outputs": [
    {
     "data": {
      "text/plain": "<Figure size 640x480 with 1 Axes>",
      "image/png": "[encoded data removed]"
     },
     "metadata": {},
     "output_type": "display_data"
    }
   ],
   "source": [
    "xs2 = Ls\n",
    "ys2 = [ error for L, dic, error in dictionaries]\n",
    "\n",
    "\n",
    "plt.plot(xs, ys, linestyle='--', marker='o', color='blue', label = 'Cheese Board')\n",
    "plt.plot(xs2, ys2, linestyle='--', marker='s', color='green', label = \"Chicken 'n Beans\")\n",
    "plt.xlabel('Number of Atoms')\n",
    "plt.ylabel('Error Est.')\n",
    "plt.title('Error for different number of Atoms')\n",
    "plt.legend()\n",
    "plt.savefig('Graphs/Error_Est_for_L.png')\n",
    "plt.show()"
   ],
   "metadata": {
    "collapsed": false
   }
  },
  {
   "cell_type": "code",
   "execution_count": 41,
   "outputs": [
    {
     "data": {
      "text/plain": "  0%|          | 0/5 [00:00<?, ?it/s]",
      "application/vnd.jupyter.widget-view+json": {
       "version_major": 2,
       "version_minor": 0,
       "model_id": "f84f1d20ddfe4a679f552b6ec3156b70"
      }
     },
     "metadata": {},
     "output_type": "display_data"
    },
    {
     "data": {
      "text/plain": "  0%|          | 0/5519 [00:00<?, ?it/s]",
      "application/vnd.jupyter.widget-view+json": {
       "version_major": 2,
       "version_minor": 0,
       "model_id": "2e36003f21f64b0c93ba08bf4ce35c4b"
      }
     },
     "metadata": {},
     "output_type": "display_data"
    },
    {
     "name": "stderr",
     "output_type": "stream",
     "text": [
      "C:\\Users\\raino\\GitHub\\Sparse-Dictionary-Learning\\Classes.py:554: RuntimeWarning: invalid value encountered in floor_divide\n",
      "  recon_img = recon_img // count\n"
     ]
    },
    {
     "data": {
      "text/plain": "  0%|          | 0/5 [00:00<?, ?it/s]",
      "application/vnd.jupyter.widget-view+json": {
       "version_major": 2,
       "version_minor": 0,
       "model_id": "6b30123021c14cd49ce3eefc21ed927c"
      }
     },
     "metadata": {},
     "output_type": "display_data"
    },
    {
     "data": {
      "text/plain": "  0%|          | 0/5519 [00:00<?, ?it/s]",
      "application/vnd.jupyter.widget-view+json": {
       "version_major": 2,
       "version_minor": 0,
       "model_id": "ef136c45ebd5455492f98a974b50cd5e"
      }
     },
     "metadata": {},
     "output_type": "display_data"
    },
    {
     "data": {
      "text/plain": "  0%|          | 0/5 [00:00<?, ?it/s]",
      "application/vnd.jupyter.widget-view+json": {
       "version_major": 2,
       "version_minor": 0,
       "model_id": "cd7b96d3758e497993c72b29584d2130"
      }
     },
     "metadata": {},
     "output_type": "display_data"
    },
    {
     "data": {
      "text/plain": "  0%|          | 0/5519 [00:00<?, ?it/s]",
      "application/vnd.jupyter.widget-view+json": {
       "version_major": 2,
       "version_minor": 0,
       "model_id": "c44661f72087455abc83ed0c9412da0c"
      }
     },
     "metadata": {},
     "output_type": "display_data"
    }
   ],
   "source": [
    "paths = ['Compressed Images/persimmon_tomato_salad.jpg']\n",
    "new_path = 'Reconstructed Images/persimmon_tomato_saladL'\n",
    "N = 512\n",
    "K = 256\n",
    "I = 5\n",
    "percent= .2\n",
    "min_count = 1\n",
    "patch_shape = np.array([8,8])\n",
    "\n",
    "sam = Sampler(paths = paths, patch_shape = patch_shape, num_samples = N)\n",
    "\n",
    "dictionaries = []\n",
    "Ls = [5,10,16] # Depends on what I see, but probably [2, 8, 10, 16]? [1, 2, 4, 8, 16]\n",
    "for L in Ls:\n",
    "    learner = DictionaryLearner(L=L, K=K, sampler=sam, algo = 'OMP')\n",
    "    D = learner.sparse_dictionary_learning(iters = I, output = True)\n",
    "    (recon, error) =  learner.SPIR(path = paths[0], percent=percent, min_count=min_count)\n",
    "    dictionaries.append((L, D, error))\n",
    "    cv2.imwrite(new_path + str(L) + '.jpg', recon)\n",
    "\n",
    "with open('Graphs/persimmon_tomato_salad.pkl', 'wb') as f:\n",
    "    pickle.dump(dictionaries, f)"
   ],
   "metadata": {
    "collapsed": false
   }
  },
  {
   "cell_type": "code",
   "execution_count": 42,
   "outputs": [
    {
     "data": {
      "text/plain": "<Figure size 640x480 with 1 Axes>",
      "image/png": "[encoded data removed]"
     },
     "metadata": {},
     "output_type": "display_data"
    }
   ],
   "source": [
    "xs3 = Ls\n",
    "ys3 = [ error for L, dic, error in dictionaries]\n",
    "\n",
    "\n",
    "plt.plot(xs, ys, linestyle='--', marker='o', color='blue', label = 'Cheese Board')\n",
    "plt.plot(xs2, ys2, linestyle='--', marker='s', color='green', label = \"Chicken 'n Beans\")\n",
    "plt.plot(xs3, ys3, linestyle='--', marker='s', color='red', label = \"Tomato Salad\")\n",
    "plt.xlabel('Number of Atoms')\n",
    "plt.ylabel('Error Est.')\n",
    "plt.title('Error for different number of Atoms')\n",
    "plt.legend()\n",
    "plt.savefig('Graphs/Error_Est_for_L.png')\n",
    "plt.show()"
   ],
   "metadata": {
    "collapsed": false
   }
  },
  {
   "cell_type": "markdown",
   "source": [
    "### Results\n",
    "\n",
    "\n",
    "#### Cheese Board\n",
    "As a reminder, the parameters for this one were: N = 512, K = 256, I = 10\n",
    "\n",
    "| L = 1, Error = 14.21                                                                          | L = 2, Error = 8.45                                                                           | L = 4, Error = 11.58                                                                          |\n",
    "|-----------------------------------------------------------------------------------------------|-----------------------------------------------------------------------------------------------|-----------------------------------------------------------------------------------------------|\n",
    "| <img alt=\"Caption 1\" height=\"300\" src=\"Reconstructed Images/cheese_boardL1.jpg\" width=\"400\"/> | <img alt=\"Caption 2\" height=\"300\" src=\"Reconstructed Images/cheese_boardL2.jpg\" width=\"400\"/> | <img alt=\"Caption 2\" height=\"300\" src=\"Reconstructed Images/cheese_boardL4.jpg\" width=\"400\"/> |\n",
    "\n",
    "| L = 8, Error = 5.56                                                                           | L = 16, Error = 2.92                                                                           | Original                                                                                 |\n",
    "|-----------------------------------------------------------------------------------------------|------------------------------------------------------------------------------------------------|------------------------------------------------------------------------------------------|\n",
    "| <img alt=\"Caption 1\" height=\"300\" src=\"Reconstructed Images/cheese_boardL8.jpg\" width=\"400\"/> | <img alt=\"Caption 2\" height=\"300\" src=\"Reconstructed Images/cheese_boardL16.jpg\" width=\"400\"/> | <img alt=\"Caption 2\" height=\"300\" src=\"Compressed Images/cheese_board.jpg\" width=\"400\"/> |\n",
    "\n",
    "#### Chicken 'n Beans\n",
    "The parameters for this one were: N = 256, K = 128, I = 1\n",
    "\n",
    "| L = 5, Error = 7.90                                                                              | L = 10, Error = 5.49                                                                              | L = 20, Error = 2.89                                                                              |Original                                                                                 |\n",
    "|--------------------------------------------------------------------------------------------------|---------------------------------------------------------------------------------------------------|---------------------------------------------------------------------------------------------------|----|\n",
    "| <img alt=\"Caption 1\" height=\"300\" src=\"Reconstructed Images/chicken_n_beansL5.jpg\" width=\"400\"/> | <img alt=\"Caption 2\" height=\"300\" src=\"Reconstructed Images/chicken_n_beansL10.jpg\" width=\"400\"/> | <img alt=\"Caption 2\" height=\"300\" src=\"Reconstructed Images/chicken_n_beansL20.jpg\" width=\"400\"/> |<img alt=\"Caption 2\" height=\"300\" src=\"Compressed Images/chicken_n_beans.jpg\" width=\"400\"/> |\n",
    "\n",
    "#### Tomato Salad\n",
    "The parameters for this one were: N = 512, K = 256, I = 5\n",
    "\n",
    "| L = 5, Error =                                                                                          | L = 10, Error =                                                                                      | L = 16, Error =                                                                                          |Original                                                                                 |\n",
    "|---------------------------------------------------------------------------------------------------------|------------------------------------------------------------------------------------------------------|----------------------------------------------------------------------------------------------------------|----|\n",
    "| <img alt=\"Caption 1\" height=\"300\" src=\"Reconstructed Images/persimmon_tomato_saladL5.jpg\" width=\"400\"/> | <img alt=\"Caption 2\" height=\"300\" src=\"Reconstructed Images/persimmon_tomato_saladL10.jpg\" width=\"400\"/> | <img alt=\"Caption 2\" height=\"300\" src=\"Reconstructed Images/persimmon_tomato_saladL16.jpg\" width=\"400\"/> |<img alt=\"Caption 2\" height=\"300\" src=\"Compressed Images/persimmon_tomato_salad.jpg\" width=\"400\"/> |"
   ],
   "metadata": {
    "collapsed": false
   }
  },
  {
   "cell_type": "code",
   "execution_count": null,
   "outputs": [],
   "source": [],
   "metadata": {
    "collapsed": false
   }
  },
  {
   "cell_type": "markdown",
   "source": [
    "### Method B\n",
    "\n",
    "Unseen data"
   ],
   "metadata": {
    "collapsed": false
   }
  },
  {
   "cell_type": "code",
   "execution_count": 46,
   "outputs": [
    {
     "data": {
      "text/plain": "  0%|          | 0/10 [00:00<?, ?it/s]",
      "application/vnd.jupyter.widget-view+json": {
       "version_major": 2,
       "version_minor": 0,
       "model_id": "dda9738c0d4a4c0099cecb3ebcdeeda1"
      }
     },
     "metadata": {},
     "output_type": "display_data"
    },
    {
     "data": {
      "text/plain": "  0%|          | 0/5519 [00:00<?, ?it/s]",
      "application/vnd.jupyter.widget-view+json": {
       "version_major": 2,
       "version_minor": 0,
       "model_id": "50e5a64695bb4950ba01c3cf307b362b"
      }
     },
     "metadata": {},
     "output_type": "display_data"
    },
    {
     "name": "stderr",
     "output_type": "stream",
     "text": [
      "C:\\Users\\raino\\GitHub\\Sparse-Dictionary-Learning\\Classes.py:554: RuntimeWarning: invalid value encountered in floor_divide\n",
      "  recon_img = recon_img // count\n"
     ]
    },
    {
     "data": {
      "text/plain": "  0%|          | 0/10 [00:00<?, ?it/s]",
      "application/vnd.jupyter.widget-view+json": {
       "version_major": 2,
       "version_minor": 0,
       "model_id": "bd36415a0791438e9749ff4e7900afbc"
      }
     },
     "metadata": {},
     "output_type": "display_data"
    },
    {
     "data": {
      "text/plain": "  0%|          | 0/5519 [00:00<?, ?it/s]",
      "application/vnd.jupyter.widget-view+json": {
       "version_major": 2,
       "version_minor": 0,
       "model_id": "a036538b91df40d187b8facacd890c6c"
      }
     },
     "metadata": {},
     "output_type": "display_data"
    },
    {
     "data": {
      "text/plain": "  0%|          | 0/10 [00:00<?, ?it/s]",
      "application/vnd.jupyter.widget-view+json": {
       "version_major": 2,
       "version_minor": 0,
       "model_id": "6d21483acc274cb38a405126c778b268"
      }
     },
     "metadata": {},
     "output_type": "display_data"
    },
    {
     "data": {
      "text/plain": "  0%|          | 0/5519 [00:00<?, ?it/s]",
      "application/vnd.jupyter.widget-view+json": {
       "version_major": 2,
       "version_minor": 0,
       "model_id": "08019a0c38e34f62898d89720ccb32a6"
      }
     },
     "metadata": {},
     "output_type": "display_data"
    },
    {
     "data": {
      "text/plain": "  0%|          | 0/10 [00:00<?, ?it/s]",
      "application/vnd.jupyter.widget-view+json": {
       "version_major": 2,
       "version_minor": 0,
       "model_id": "06c65a0267f343e4806cc4b179c990b5"
      }
     },
     "metadata": {},
     "output_type": "display_data"
    },
    {
     "data": {
      "text/plain": "  0%|          | 0/5519 [00:00<?, ?it/s]",
      "application/vnd.jupyter.widget-view+json": {
       "version_major": 2,
       "version_minor": 0,
       "model_id": "17f8f32d54ba405981f447d93deac8f0"
      }
     },
     "metadata": {},
     "output_type": "display_data"
    },
    {
     "data": {
      "text/plain": "  0%|          | 0/10 [00:00<?, ?it/s]",
      "application/vnd.jupyter.widget-view+json": {
       "version_major": 2,
       "version_minor": 0,
       "model_id": "381f97bc80c24f25ad638347b67e1aeb"
      }
     },
     "metadata": {},
     "output_type": "display_data"
    },
    {
     "data": {
      "text/plain": "  0%|          | 0/5519 [00:00<?, ?it/s]",
      "application/vnd.jupyter.widget-view+json": {
       "version_major": 2,
       "version_minor": 0,
       "model_id": "dc0b78c61eaa42208c49b4487e133d29"
      }
     },
     "metadata": {},
     "output_type": "display_data"
    },
    {
     "data": {
      "text/plain": "  0%|          | 0/10 [00:00<?, ?it/s]",
      "application/vnd.jupyter.widget-view+json": {
       "version_major": 2,
       "version_minor": 0,
       "model_id": "8087f03ce5d8495d9c4426c6e8e9e920"
      }
     },
     "metadata": {},
     "output_type": "display_data"
    },
    {
     "data": {
      "text/plain": "  0%|          | 0/5519 [00:00<?, ?it/s]",
      "application/vnd.jupyter.widget-view+json": {
       "version_major": 2,
       "version_minor": 0,
       "model_id": "98e69417b28b4d80b9425276259de768"
      }
     },
     "metadata": {},
     "output_type": "display_data"
    }
   ],
   "source": [
    "paths = ['Compressed Images/cheese_board.jpg', 'Compressed Images/chicken_n_beans.jpg', 'Compressed Images/persimmon_tomato_salad.jpg', 'Compressed Images/tea_eggs.jpg']\n",
    "new_path = 'Reconstructed Images/octopus'\n",
    "path = 'Compressed Images/octopus.jpg'\n",
    "\n",
    "K = 128\n",
    "I = 10\n",
    "percent= .2\n",
    "min_count = 1\n",
    "patch_shape = np.array([8,8])\n",
    "\n",
    "#Ns = [186, 256, 512, 1042]\n",
    "Ns = [512, 1842]\n",
    "octopus_errors = {}\n",
    "for N in Ns:\n",
    "    octopus_errors[N] = []\n",
    "    sam = Sampler(paths = paths, patch_shape = patch_shape, num_samples = N)\n",
    "\n",
    "    dictionaries = []\n",
    "    #Ls = [1, 2, 4, 8, 16]\n",
    "    Ls = [2,4,8]\n",
    "    for L in Ls:\n",
    "        learner = DictionaryLearner(L=L, K=K, sampler=sam, algo = 'OMP')\n",
    "        D = learner.sparse_dictionary_learning(iters = I, output = True)\n",
    "        (recon, error) =  learner.SPIR(path = path, percent=percent, min_count=min_count)\n",
    "        dictionaries.append((L, N, D, error))\n",
    "        correct_path = new_path + 'N' + str(N) + 'L' + str(L) + '.jpg'\n",
    "        cv2.imwrite(correct_path, recon)\n",
    "\n",
    "        octopus_errors[N].append(error)\n",
    "\n",
    "    with open('Graphs/octopusN' + str(N) + '.pkl', 'wb') as f:\n",
    "        pickle.dump(dictionaries, f)\n",
    "\n"
   ],
   "metadata": {
    "collapsed": false
   }
  },
  {
   "cell_type": "code",
   "execution_count": 72,
   "outputs": [
    {
     "data": {
      "text/plain": "<Figure size 640x480 with 1 Axes>",
      "image/png": "[encoded data removed]"
     },
     "metadata": {},
     "output_type": "display_data"
    }
   ],
   "source": [
    "xs186 = [1,2,4,8,16]\n",
    "ys186 = octopus_errors[186]\n",
    "xs256 = [1,2]\n",
    "ys256 = octopus_errors[256]\n",
    "xs512 = [2,4,8]\n",
    "ys512 = octopus_errors[512]\n",
    "xs1842 = [2,4,8]\n",
    "ys1842 = octopus_errors[1842]\n",
    "\n",
    "plt.plot(xs186, ys186, linestyle='-', marker='s', color='blue', label = 'N = 186')\n",
    "plt.plot(xs256, ys256, linestyle='--', marker='^', color='green', label = 'N = 256')\n",
    "#plt.plot(xs512, ys512, linestyle=':', marker='d', color='red', label = 'N = 512')\n",
    "#plt.plot(xs1842, ys1842, linestyle='-.', marker='o', color='purple', label = 'N = 1842')\n",
    "\n",
    "plt.xlabel('Number of Atoms')\n",
    "plt.ylabel('Error Est.')\n",
    "plt.title('Error for different numbers of atoms')\n",
    "plt.legend()\n",
    "plt.savefig('Graphs/Octopus_Error_Est_small_N.png')\n",
    "plt.show()\n"
   ],
   "metadata": {
    "collapsed": false
   }
  },
  {
   "cell_type": "code",
   "execution_count": 86,
   "outputs": [
    {
     "data": {
      "text/plain": "<Figure size 640x480 with 1 Axes>",
      "image/png": "[encoded data removed]"
     },
     "metadata": {},
     "output_type": "display_data"
    }
   ],
   "source": [
    "xs186 = [1,2,4,8,16]\n",
    "#ys186 = octopus_errors[186]\n",
    "xs256 = [1,2]\n",
    "ys256 = octopus_errors[256]\n",
    "xs512 = [2,4,8]\n",
    "ys512 = octopus_errors[512]\n",
    "xs1842 = [2,4,8]\n",
    "ys1842 = octopus_errors[1842]\n",
    "\n",
    "plt.plot(xs186, ys186, linestyle='-', marker='s', color='blue', label = 'N = 186')\n",
    "#plt.plot(xs256, ys256, linestyle='--', marker='^', color='green', label = 'N = 256')\n",
    "plt.plot(xs512, ys512, linestyle=':', marker='d', color='red', label = 'N = 512')\n",
    "plt.plot(xs1842, ys1842, linestyle='-.', marker='o', color='purple', label = 'N = 1842')\n",
    "\n",
    "plt.xlabel('Number of Atoms')\n",
    "plt.ylabel('Error Est.')\n",
    "plt.title('Error for different numbers of atoms')\n",
    "plt.legend()\n",
    "plt.savefig('Graphs/Octopus_Error_Est.png')\n",
    "plt.show()"
   ],
   "metadata": {
    "collapsed": false
   }
  },
  {
   "cell_type": "markdown",
   "source": [
    "### Results\n",
    "\n",
    "<img alt=\"Caption 1\" height=\"600\" src=\"Graphs/Octopus_Error_Est.png\" width=\"800\"/>\n",
    "\n",
    "We can see the clear preformance difference between these two types of tasks.\n"
   ],
   "metadata": {
    "collapsed": false
   }
  },
  {
   "cell_type": "code",
   "execution_count": 63,
   "outputs": [
    {
     "data": {
      "text/plain": "{512: [13.242186606184813, 9.789715176606133, 6.906319955139147],\n 1842: [12.576150723750777, 9.640872379578324, 6.903842410450008],\n 186: [164.16533440544174,\n  163.04435253017567,\n  162.0065687403697,\n  157.18729682359347,\n  142.1749915411592],\n 256: [163.3992867001085, 163.00598316958377]}"
     },
     "execution_count": 63,
     "metadata": {},
     "output_type": "execute_result"
    }
   ],
   "source": [
    "octopus_errors"
   ],
   "metadata": {
    "collapsed": false
   }
  },
  {
   "cell_type": "code",
   "execution_count": 77,
   "outputs": [
    {
     "name": "stdout",
     "output_type": "stream",
     "text": [
      "163.04435253017567\n",
      "163.00598316958377\n",
      "161.69835487765874\n",
      "161.80806974879397\n"
     ]
    }
   ],
   "source": [
    "L = 2\n",
    "img_orig = load_image('Compressed Images/octopus.jpg')\n",
    "img_orig_flat = img_orig.copy().flatten()\n",
    "#octopus_errors[N] = []\n",
    "for N in [186, 256, 512, 1842]:\n",
    "    img = load_image('Reconstructed Images/octopusN' + str(N) + 'L' + str(L) +'.jpg')\n",
    "    img_flat = img.flatten()\n",
    "    temp_indices = np.where(img_flat>0)[0]\n",
    "    M = len(temp_indices)\n",
    "\n",
    "    error = np.linalg.norm(img_orig_flat[temp_indices] - img_flat[temp_indices])/np.sqrt(M)\n",
    "    #octopus_errors[N].append(error)\n",
    "    print(error)\n"
   ],
   "metadata": {
    "collapsed": false
   }
  },
  {
   "cell_type": "code",
   "execution_count": 80,
   "outputs": [
    {
     "data": {
      "text/plain": "29913"
     },
     "execution_count": 80,
     "metadata": {},
     "output_type": "execute_result"
    }
   ],
   "source": [
    "M"
   ],
   "metadata": {
    "collapsed": false
   }
  },
  {
   "cell_type": "code",
   "execution_count": 51,
   "outputs": [
    {
     "data": {
      "text/plain": "array([[ 64,  63,  61, ...,  54,  56,  49],\n       [ 54,  57,  59, ...,  44,  46,  59],\n       [ 51,  57,  63, ..., 130, 122,  99],\n       ...,\n       [ 15,  15,  15, ...,  81,  83,  82],\n       [ 14,  14,  13, ...,  85,  85,  88],\n       [ 14,  13,  12, ...,  85,  84,  89]], dtype=uint8)"
     },
     "execution_count": 51,
     "metadata": {},
     "output_type": "execute_result"
    }
   ],
   "source": [
    "    temp_recon = recon_img.copy().flatten()\n",
    "temp_count = count.copy().flatten()\n",
    "temp_img = img.copy().flatten()\n",
    "temp_indices = np.where(temp_count>min_count)[0]\n",
    "M = len(temp_indices)\n",
    "error = np.linalg.norm(temp_img[temp_indices] -  (temp_recon[temp_indices]/temp_count[temp_indices]))/np.sqrt(M)\n",
    "\n",
    "recon_img = recon_img // count\n",
    "recon_img = np.clip(recon_img, 0, 255).astype(np.uint8)"
   ],
   "metadata": {
    "collapsed": false
   }
  },
  {
   "cell_type": "code",
   "execution_count": 81,
   "outputs": [
    {
     "data": {
      "text/plain": "[(1,\n  186,\n  array([[-3.18506563e-02, -1.27343998e-01,  1.85000000e+02, ...,\n           3.00000000e+01,  8.55218349e-02, -1.29176059e-01],\n         [-4.30920878e-02, -1.27770510e-01,  1.87000000e+02, ...,\n           4.40000000e+01,  8.53436910e-02, -1.39900575e-01],\n         [-6.97904379e-02, -1.28144119e-01,  1.94000000e+02, ...,\n           7.00000000e+01,  8.78572005e-02, -1.38904281e-01],\n         ...,\n         [-1.79465140e-01, -1.21024486e-01,  8.80000000e+01, ...,\n           1.74000000e+02,  1.22651725e-01, -1.09193237e-01],\n         [-1.87236146e-01, -1.20723804e-01,  9.70000000e+01, ...,\n           1.75000000e+02,  1.23680926e-01, -1.12395724e-01],\n         [-1.86512259e-01, -1.20732782e-01,  5.80000000e+01, ...,\n           1.73000000e+02,  1.30885334e-01, -1.10705526e-01]]),\n  16.723953500952994),\n (2,\n  186,\n  array([[ 2.00164427e-01,  1.40000000e+02, -1.36580751e-01, ...,\n           2.20000000e+01, -1.24615965e-01,  1.91658247e-01],\n         [ 9.39372588e-02,  1.20000000e+02, -1.00240612e-01, ...,\n           3.60000000e+01, -1.26718986e-01,  1.41807335e-01],\n         [-4.88142769e-02,  7.50000000e+01, -1.45966090e-01, ...,\n           4.10000000e+01, -1.24708510e-01,  1.36879975e-01],\n         ...,\n         [ 1.03701505e-02,  8.40000000e+01, -1.39979501e-01, ...,\n           8.60000000e+01, -1.23702919e-01,  4.75746061e-02],\n         [ 2.97287762e-02,  6.90000000e+01, -1.43886430e-01, ...,\n           8.60000000e+01, -1.23762273e-01,  4.01551442e-02],\n         [ 4.09129179e-02,  1.07000000e+02, -1.45633944e-01, ...,\n           8.30000000e+01, -1.25184929e-01,  9.31265036e-02]]),\n  13.626814201391417),\n (4,\n  186,\n  array([[ 2.30000000e+01,  8.70000000e+01, -1.11127762e-01, ...,\n          -1.43356289e-01, -4.41076599e-02, -1.88951659e-01],\n         [ 2.40000000e+01,  1.11000000e+02, -6.19358208e-02, ...,\n          -8.17209491e-02, -7.10673888e-02, -1.30702829e-01],\n         [ 2.40000000e+01,  1.18000000e+02,  3.14879043e-02, ...,\n          -1.03397536e-01,  1.28685525e-02, -6.71625120e-02],\n         ...,\n         [ 5.50000000e+01,  1.33000000e+02,  2.35891479e-01, ...,\n          -1.78148188e-01, -2.87789768e-02, -1.39972895e-01],\n         [ 1.46000000e+02,  1.15000000e+02,  1.10812781e-01, ...,\n          -4.69642152e-02, -1.13977370e-01, -1.94912027e-01],\n         [ 1.35000000e+02,  9.40000000e+01,  6.37368459e-02, ...,\n           2.72894210e-02, -1.45532373e-01, -1.81581402e-01]]),\n  10.295954936777909),\n (8,\n  186,\n  array([[ 0.10260162, -0.17241655, -0.04248897, ..., -0.03184119,\n          -0.12585923,  0.00878985],\n         [-0.09457958, -0.11774314, -0.02827405, ..., -0.02466979,\n          -0.14060429, -0.14278257],\n         [ 0.01565502, -0.13222985,  0.06258698, ..., -0.01945892,\n          -0.14796895, -0.12761785],\n         ...,\n         [-0.03462943, -0.03632986,  0.12640617, ..., -0.14076125,\n          -0.06745197, -0.18340987],\n         [ 0.04597312, -0.0334562 ,  0.02297147, ..., -0.14640949,\n          -0.12696251, -0.22813565],\n         [ 0.20754814,  0.16670162, -0.27170907, ..., -0.14342804,\n          -0.15712387, -0.15574873]]),\n  7.139808136956386),\n (16,\n  186,\n  array([[ 0.1318019 , -0.14297532,  0.01903333, ..., -0.13465772,\n          -0.08950855, -0.12590822],\n         [ 0.02208802, -0.13743082, -0.04009283, ..., -0.1308869 ,\n          -0.11011294, -0.12436156],\n         [ 0.07363791, -0.13499771,  0.15007235, ..., -0.09598084,\n          -0.11983217, -0.12456477],\n         ...,\n         [-0.06856396, -0.12114784,  0.14808962, ..., -0.0571317 ,\n          -0.12532872, -0.12467985],\n         [-0.02714136, -0.12311907,  0.19272045, ..., -0.14094708,\n          -0.13748162, -0.12318583],\n         [ 0.56796061, -0.14698699,  0.16004321, ..., -0.11563702,\n          -0.171619  , -0.12352175]]),\n  3.905887134705801)]"
     },
     "execution_count": 81,
     "metadata": {},
     "output_type": "execute_result"
    }
   ],
   "source": [
    "with open('Graphs/octopusN186.pkl', 'rb') as f:\n",
    "    x = pickle.load(f)\n",
    "ys186 = [error for L, N, D, error in x]\n"
   ],
   "metadata": {
    "collapsed": false
   }
  },
  {
   "cell_type": "code",
   "execution_count": 84,
   "outputs": [],
   "source": [
    "ys186 = [error for L, N, D, error in x]"
   ],
   "metadata": {
    "collapsed": false
   }
  },
  {
   "cell_type": "code",
   "execution_count": 93,
   "outputs": [],
   "source": [
    "stuff = {}"
   ],
   "metadata": {
    "collapsed": false
   }
  },
  {
   "cell_type": "code",
   "execution_count": 105,
   "outputs": [],
   "source": [
    "attempt = 3\n",
    "\n",
    "paths = ['Compressed Images/cheese_board.jpg', 'Compressed Images/chicken_n_beans.jpg', 'Compressed Images/persimmon_tomato_salad.jpg', 'Compressed Images/octopus.jpg']\n",
    "new_path = 'Reconstructed Images/tea_eggs'\n",
    "path = 'Compressed Images/tea_eggs.jpg'\n",
    "\n",
    "N = 300\n",
    "K = 100\n",
    "I = 5\n",
    "L = 4\n",
    "P=8\n",
    "\n",
    "percent= .2\n",
    "min_count = 1\n",
    "patch_shape = np.array([8,8])\n",
    "\n",
    "\n",
    "\n",
    "def test_process(N=300, K = 100, I = 5, L = 4, P = 8):\n",
    "    print(f\"Testing: N = {N}, K = {K}, I = {I}, L = {L}, P = {P}\")\n",
    "\n",
    "    patch_shape = np.array([P, P])\n",
    "\n",
    "    sam = Sampler(paths = paths, patch_shape = patch_shape, num_samples = N)\n",
    "    learner = DictionaryLearner(L=L, K=K, sampler=sam, algo = 'OMP')\n",
    "\n",
    "    D = learner.sparse_dictionary_learning(iters = I, output = True)\n",
    "    stuff[(N,K,I,L,P)] = [D]\n",
    "\n",
    "    (recon, error) =  learner.SPIR(path = path, percent=percent, min_count=min_count)\n",
    "    stuff[(N,K,I,L,P)].append(error)\n",
    "\n",
    "    correct_path = new_path + 'N' + str(N) + 'K' + str(K) + 'I' + str(I) + 'L' + str(L) + 'P' + str(P) + '.jpg'\n",
    "    cv2.imwrite(correct_path, recon)\n",
    "\n",
    "    with open('Graphs/tea_eggs_data_attempt' + str(attempt) + '.pkl', 'wb') as f:\n",
    "        pickle.dump(stuff, f)\n",
    "    stuff[(N,K,I,L,P)] = [D]\n"
   ],
   "metadata": {
    "collapsed": false
   }
  },
  {
   "cell_type": "code",
   "execution_count": 217,
   "outputs": [],
   "source": [
    "attempt = 5\n",
    "def new_test_process(test_name, N=300, K=100, I=5, L=4, P=8, save_dic = False, generate_graph = False, variabel = None):\n",
    "    print(f\"Test: {test_name}\")\n",
    "    print(f\"Params: N = {N}, K = {K}, I = {I}, L = {L}, P = {P}\")\n",
    "\n",
    "    patch_shape = np.array([P, P])\n",
    "\n",
    "    sam = Sampler(paths=paths, patch_shape=patch_shape, num_samples=N)\n",
    "    learner = DictionaryLearner(L=L, K=K, sampler=sam, algo='OMP')\n",
    "\n",
    "    # Start the timer\n",
    "    start_time = time.time()\n",
    "\n",
    "    D = learner.sparse_dictionary_learning(iters=I, output=True)\n",
    "\n",
    "    (recon, error) = learner.SPIR(path=path, percent=percent, min_count=min_count)\n",
    "\n",
    "    # Calculate the run time\n",
    "    run_time = time.time() - start_time\n",
    "\n",
    "    # Save the reconstruction\n",
    "    correct_path = test_name + 'N' + str(N) + 'K' + str(K) + 'I' + str(I) + 'L' + str(L) + 'P' + str(P) + '.jpg'\n",
    "    cv2.imwrite(correct_path, recon)\n",
    "\n",
    "    # Print the results\n",
    "    print(f\"Error = {error}, Run Time = {run_time}\")\n",
    "\n",
    "    # Save the results\n",
    "    #data[(N, K, I, L, P)] = [error, run_time]\n",
    "\n",
    "    with open('Graphs/' + test_name + '_data.pkl', 'rb') as f:\n",
    "        data = pickle.load(f)\n",
    "\n",
    "    data[(N, K, I, L, P)] = [error, run_time]\n",
    "\n",
    "    with open('Graphs/' + test_name + '_data.pkl', 'wb') as f:\n",
    "        pickle.dump(data, f)\n",
    "\n",
    "    if save_dic:\n",
    "\n",
    "        with open('Graphs/' + test_name + '_dictionaries.pkl', 'rb') as f:\n",
    "            dictionaries = pickle.load(f)\n",
    "\n",
    "        dictionaries[(N, K, I, L, P)] = D\n",
    "\n",
    "        with open('Graphs/' + test_name + '_dictionaries.pkl', 'wb') as f:\n",
    "            pickle.dump(data, f)\n",
    "\n",
    "    if generate_graph:\n",
    "        xs =[x[variabel] for x in list(data.keys())]\n",
    "        es = [y[0] for y in list(data.values())]\n",
    "        ts = [y[1] for y in list(data.values())]\n",
    "\n",
    "\n",
    "        # create the figure and first axis\n",
    "        fig, ax1 = plt.subplots(figsize=(8, 6))\n",
    "\n",
    "        # create the first line and first y-axis\n",
    "        ax1.plot(xs, es, linestyle='-.', marker='s', color='blue', label='Error Est.')\n",
    "\n",
    "        X_label = ['N', 'K', 'I', 'L', 'P']\n",
    "        X_label = X_label[variabel]\n",
    "        ax1.set_xlabel(X_label + ' Value')\n",
    "\n",
    "        ax1.set_ylabel('Error Est.')\n",
    "        ax2 = ax1.twinx()\n",
    "\n",
    "        ax2.plot(xs, ts, linestyle='--', marker='^', color='green', label = 'Run Time')\n",
    "\n",
    "        # rotate and adjust second y-axis label\n",
    "        ax2.yaxis.set_label_coords(1.1, 0.5)\n",
    "        ax2.set_ylabel('Run Time', rotation=-90, labelpad=10)\n",
    "\n",
    "        ax1.set_title('Run Time and Error Est. with varying ' + X_label + ' values')\n",
    "\n",
    "        # combine legends from both axes\n",
    "        lines_1, labels_1 = ax1.get_legend_handles_labels()\n",
    "        lines_2, labels_2 = ax2.get_legend_handles_labels()\n",
    "        ax1.legend(lines_1 + lines_2, labels_1 + labels_2)\n",
    "\n",
    "        # save the graph as a PNG file\n",
    "        plt.savefig('Graphs/' + test_name + '.png')\n",
    "\n",
    "        plt.show()\n",
    "\n",
    "\n"
   ],
   "metadata": {
    "collapsed": false
   }
  },
  {
   "cell_type": "code",
   "execution_count": 213,
   "outputs": [
    {
     "name": "stdout",
     "output_type": "stream",
     "text": [
      "Test: test_test\n",
      "Params: N = 66, K = 65, I = 0, L = 1, P = 8\n"
     ]
    },
    {
     "data": {
      "text/plain": "0it [00:00, ?it/s]",
      "application/vnd.jupyter.widget-view+json": {
       "version_major": 2,
       "version_minor": 0,
       "model_id": "3c3eecc22b304d38be79ca644d61c98a"
      }
     },
     "metadata": {},
     "output_type": "display_data"
    },
    {
     "data": {
      "text/plain": "  0%|          | 0/5519 [00:00<?, ?it/s]",
      "application/vnd.jupyter.widget-view+json": {
       "version_major": 2,
       "version_minor": 0,
       "model_id": "35dd66d9a3c54538b2db9720945dfa73"
      }
     },
     "metadata": {},
     "output_type": "display_data"
    },
    {
     "name": "stderr",
     "output_type": "stream",
     "text": [
      "C:\\Users\\raino\\GitHub\\Sparse-Dictionary-Learning\\Classes.py:554: RuntimeWarning: invalid value encountered in floor_divide\n",
      "  recon_img = recon_img // count\n"
     ]
    },
    {
     "name": "stdout",
     "output_type": "stream",
     "text": [
      "Error = 8.538154297801935, Run Time = 8.990474700927734\n"
     ]
    },
    {
     "data": {
      "text/plain": "<Figure size 800x600 with 2 Axes>",
      "image/png": "[encoded data removed]"
     },
     "metadata": {},
     "output_type": "display_data"
    }
   ],
   "source": [
    "with open('Graphs/' + 'test_test' + '_data.pkl', 'wb') as f:\n",
    "    pickle.dump({}, f)\n",
    "\n",
    "new_test_process('test_test', N=66,K=65, I=0, L=1, P=8, generate_graph=True, variabel=3 )"
   ],
   "metadata": {
    "collapsed": false
   }
  },
  {
   "cell_type": "code",
   "execution_count": 214,
   "outputs": [
    {
     "name": "stdout",
     "output_type": "stream",
     "text": [
      "Test: octopus_test_I\n",
      "Params: N = 300, K = 100, I = 0, L = 4, P = 8\n"
     ]
    },
    {
     "data": {
      "text/plain": "0it [00:00, ?it/s]",
      "application/vnd.jupyter.widget-view+json": {
       "version_major": 2,
       "version_minor": 0,
       "model_id": "d6e3014b98b3481e9c5cb10015b71a57"
      }
     },
     "metadata": {},
     "output_type": "display_data"
    },
    {
     "data": {
      "text/plain": "  0%|          | 0/5519 [00:00<?, ?it/s]",
      "application/vnd.jupyter.widget-view+json": {
       "version_major": 2,
       "version_minor": 0,
       "model_id": "969d958064854d9bbebb34b1962917e8"
      }
     },
     "metadata": {},
     "output_type": "display_data"
    },
    {
     "name": "stdout",
     "output_type": "stream",
     "text": [
      "Error = 4.386954082352172, Run Time = 57.23937153816223\n",
      "Test: octopus_test_I\n",
      "Params: N = 300, K = 100, I = 1, L = 4, P = 8\n"
     ]
    },
    {
     "name": "stderr",
     "output_type": "stream",
     "text": [
      "C:\\Users\\raino\\GitHub\\Sparse-Dictionary-Learning\\Classes.py:554: RuntimeWarning: invalid value encountered in floor_divide\n",
      "  recon_img = recon_img // count\n"
     ]
    },
    {
     "data": {
      "text/plain": "  0%|          | 0/1 [00:00<?, ?it/s]",
      "application/vnd.jupyter.widget-view+json": {
       "version_major": 2,
       "version_minor": 0,
       "model_id": "3b71bfb51555444ba2a8195bf2601214"
      }
     },
     "metadata": {},
     "output_type": "display_data"
    },
    {
     "data": {
      "text/plain": "  0%|          | 0/5519 [00:00<?, ?it/s]",
      "application/vnd.jupyter.widget-view+json": {
       "version_major": 2,
       "version_minor": 0,
       "model_id": "748b9d069efd462ea2703faac451c33d"
      }
     },
     "metadata": {},
     "output_type": "display_data"
    },
    {
     "name": "stdout",
     "output_type": "stream",
     "text": [
      "Error = 4.256990246702133, Run Time = 59.73774218559265\n"
     ]
    },
    {
     "data": {
      "text/plain": "<Figure size 800x600 with 2 Axes>",
      "image/png": "[encoded data removed]"
     },
     "metadata": {},
     "output_type": "display_data"
    }
   ],
   "source": [
    "test_name = 'tea_egg_I'\n",
    "variable = 2\n",
    "with open('Graphs/' + test_name + '_data.pkl', 'wb') as f:\n",
    "    pickle.dump({}, f)\n",
    "\n",
    "for I in [0]:\n",
    "    new_test_process(test_name, I=I, generate_graph=False, variabel=variable)\n",
    "new_test_process(test_name, I=1, generate_graph=True, variabel=variable)"
   ],
   "metadata": {
    "collapsed": false
   }
  },
  {
   "cell_type": "code",
   "execution_count": 216,
   "outputs": [
    {
     "name": "stdout",
     "output_type": "stream",
     "text": [
      "Test: octopus_test_I\n",
      "Params: N = 300, K = 100, I = 0, L = 4, P = 8\n"
     ]
    },
    {
     "data": {
      "text/plain": "0it [00:00, ?it/s]",
      "application/vnd.jupyter.widget-view+json": {
       "version_major": 2,
       "version_minor": 0,
       "model_id": "49cef6bc40a649fa89ee75d6288dccf3"
      }
     },
     "metadata": {},
     "output_type": "display_data"
    },
    {
     "data": {
      "text/plain": "  0%|          | 0/5519 [00:00<?, ?it/s]",
      "application/vnd.jupyter.widget-view+json": {
       "version_major": 2,
       "version_minor": 0,
       "model_id": "f43d92701df14fffb8c84a516455fac0"
      }
     },
     "metadata": {},
     "output_type": "display_data"
    },
    {
     "name": "stdout",
     "output_type": "stream",
     "text": [
      "Error = 4.280054984667191, Run Time = 58.093159437179565\n",
      "Test: octopus_test_I\n",
      "Params: N = 300, K = 100, I = 1, L = 4, P = 8\n"
     ]
    },
    {
     "name": "stderr",
     "output_type": "stream",
     "text": [
      "C:\\Users\\raino\\GitHub\\Sparse-Dictionary-Learning\\Classes.py:554: RuntimeWarning: invalid value encountered in floor_divide\n",
      "  recon_img = recon_img // count\n"
     ]
    },
    {
     "data": {
      "text/plain": "  0%|          | 0/1 [00:00<?, ?it/s]",
      "application/vnd.jupyter.widget-view+json": {
       "version_major": 2,
       "version_minor": 0,
       "model_id": "e692d315d95d4de58cfd10a0ac116643"
      }
     },
     "metadata": {},
     "output_type": "display_data"
    },
    {
     "data": {
      "text/plain": "  0%|          | 0/5519 [00:00<?, ?it/s]",
      "application/vnd.jupyter.widget-view+json": {
       "version_major": 2,
       "version_minor": 0,
       "model_id": "883dc304ea884225b53db70dc38deeab"
      }
     },
     "metadata": {},
     "output_type": "display_data"
    },
    {
     "name": "stdout",
     "output_type": "stream",
     "text": [
      "Error = 4.093589712782704, Run Time = 58.95476794242859\n",
      "Test: octopus_test_I\n",
      "Params: N = 300, K = 100, I = 2, L = 4, P = 8\n"
     ]
    },
    {
     "data": {
      "text/plain": "  0%|          | 0/2 [00:00<?, ?it/s]",
      "application/vnd.jupyter.widget-view+json": {
       "version_major": 2,
       "version_minor": 0,
       "model_id": "24ab8f2acc7d4ad89872d35aa2f6cf1b"
      }
     },
     "metadata": {},
     "output_type": "display_data"
    },
    {
     "data": {
      "text/plain": "  0%|          | 0/5519 [00:00<?, ?it/s]",
      "application/vnd.jupyter.widget-view+json": {
       "version_major": 2,
       "version_minor": 0,
       "model_id": "af5052f39b2048bf8f245b39a0ed2744"
      }
     },
     "metadata": {},
     "output_type": "display_data"
    },
    {
     "name": "stdout",
     "output_type": "stream",
     "text": [
      "Error = 4.0727215931674285, Run Time = 61.90054392814636\n",
      "Test: octopus_test_I\n",
      "Params: N = 300, K = 100, I = 5, L = 4, P = 8\n"
     ]
    },
    {
     "data": {
      "text/plain": "  0%|          | 0/5 [00:00<?, ?it/s]",
      "application/vnd.jupyter.widget-view+json": {
       "version_major": 2,
       "version_minor": 0,
       "model_id": "bcfa87a6f7cc4372954bf5086c54f1bd"
      }
     },
     "metadata": {},
     "output_type": "display_data"
    },
    {
     "data": {
      "text/plain": "  0%|          | 0/5519 [00:00<?, ?it/s]",
      "application/vnd.jupyter.widget-view+json": {
       "version_major": 2,
       "version_minor": 0,
       "model_id": "9c799490e4e44804a957afb9cf7ba282"
      }
     },
     "metadata": {},
     "output_type": "display_data"
    },
    {
     "name": "stdout",
     "output_type": "stream",
     "text": [
      "Error = 4.142210544932182, Run Time = 70.78269791603088\n",
      "Test: octopus_test_I\n",
      "Params: N = 300, K = 100, I = 10, L = 4, P = 8\n"
     ]
    },
    {
     "data": {
      "text/plain": "  0%|          | 0/10 [00:00<?, ?it/s]",
      "application/vnd.jupyter.widget-view+json": {
       "version_major": 2,
       "version_minor": 0,
       "model_id": "e8662b5bfed24aa3b52868057c29ed11"
      }
     },
     "metadata": {},
     "output_type": "display_data"
    },
    {
     "data": {
      "text/plain": "  0%|          | 0/5519 [00:00<?, ?it/s]",
      "application/vnd.jupyter.widget-view+json": {
       "version_major": 2,
       "version_minor": 0,
       "model_id": "03b6e1cce88e4a8da2e14b784cf986bd"
      }
     },
     "metadata": {},
     "output_type": "display_data"
    },
    {
     "name": "stdout",
     "output_type": "stream",
     "text": [
      "Error = 4.135693885447037, Run Time = 85.29937219619751\n",
      "Test: octopus_test_I\n",
      "Params: N = 300, K = 100, I = 20, L = 4, P = 8\n"
     ]
    },
    {
     "data": {
      "text/plain": "  0%|          | 0/20 [00:00<?, ?it/s]",
      "application/vnd.jupyter.widget-view+json": {
       "version_major": 2,
       "version_minor": 0,
       "model_id": "1574112deee74f408e2af98b0bf3b2c2"
      }
     },
     "metadata": {},
     "output_type": "display_data"
    },
    {
     "data": {
      "text/plain": "  0%|          | 0/5519 [00:00<?, ?it/s]",
      "application/vnd.jupyter.widget-view+json": {
       "version_major": 2,
       "version_minor": 0,
       "model_id": "8b0cc79263734129a4f62348cb1192e0"
      }
     },
     "metadata": {},
     "output_type": "display_data"
    },
    {
     "name": "stdout",
     "output_type": "stream",
     "text": [
      "Error = 4.036417548682416, Run Time = 115.86124300956726\n"
     ]
    },
    {
     "data": {
      "text/plain": "<Figure size 800x600 with 2 Axes>",
      "image/png": "[encoded data removed]"
     },
     "metadata": {},
     "output_type": "display_data"
    },
    {
     "name": "stdout",
     "output_type": "stream",
     "text": [
      "Test: octopus_test_K\n",
      "Params: N = 300, K = 65, I = 5, L = 4, P = 8\n"
     ]
    },
    {
     "data": {
      "text/plain": "  0%|          | 0/5 [00:00<?, ?it/s]",
      "application/vnd.jupyter.widget-view+json": {
       "version_major": 2,
       "version_minor": 0,
       "model_id": "b6ac4e66e6cc4d6a9d3c10dfa5414b27"
      }
     },
     "metadata": {},
     "output_type": "display_data"
    },
    {
     "data": {
      "text/plain": "  0%|          | 0/5519 [00:00<?, ?it/s]",
      "application/vnd.jupyter.widget-view+json": {
       "version_major": 2,
       "version_minor": 0,
       "model_id": "ccdec01e5fce413c9802fe84ee9ca08f"
      }
     },
     "metadata": {},
     "output_type": "display_data"
    },
    {
     "name": "stdout",
     "output_type": "stream",
     "text": [
      "Error = 4.1531176185113905, Run Time = 48.026305198669434\n",
      "Test: octopus_test_K\n",
      "Params: N = 300, K = 100, I = 5, L = 4, P = 8\n"
     ]
    },
    {
     "data": {
      "text/plain": "  0%|          | 0/5 [00:00<?, ?it/s]",
      "application/vnd.jupyter.widget-view+json": {
       "version_major": 2,
       "version_minor": 0,
       "model_id": "09c540ee68f949d699e6709c34012803"
      }
     },
     "metadata": {},
     "output_type": "display_data"
    },
    {
     "data": {
      "text/plain": "  0%|          | 0/5519 [00:00<?, ?it/s]",
      "application/vnd.jupyter.widget-view+json": {
       "version_major": 2,
       "version_minor": 0,
       "model_id": "bce8c473e4a04dc9b15fe379cfe6a2b9"
      }
     },
     "metadata": {},
     "output_type": "display_data"
    },
    {
     "ename": "KeyboardInterrupt",
     "evalue": "",
     "output_type": "error",
     "traceback": [
      "\u001B[1;31m---------------------------------------------------------------------------\u001B[0m",
      "\u001B[1;31mKeyboardInterrupt\u001B[0m                         Traceback (most recent call last)",
      "\u001B[1;32m~\\AppData\\Local\\Temp\\ipykernel_12648\\2619804460.py\u001B[0m in \u001B[0;36m<module>\u001B[1;34m\u001B[0m\n\u001B[0;32m     17\u001B[0m \u001B[1;33m\u001B[0m\u001B[0m\n\u001B[0;32m     18\u001B[0m \u001B[1;32mfor\u001B[0m \u001B[0mK\u001B[0m \u001B[1;32min\u001B[0m \u001B[1;33m[\u001B[0m\u001B[1;36m65\u001B[0m\u001B[1;33m,\u001B[0m \u001B[1;36m100\u001B[0m\u001B[1;33m,\u001B[0m \u001B[1;36m200\u001B[0m\u001B[1;33m,\u001B[0m \u001B[1;36m299\u001B[0m\u001B[1;33m]\u001B[0m\u001B[1;33m:\u001B[0m\u001B[1;33m\u001B[0m\u001B[1;33m\u001B[0m\u001B[0m\n\u001B[1;32m---> 19\u001B[1;33m     \u001B[0mnew_test_process\u001B[0m\u001B[1;33m(\u001B[0m\u001B[0mtest_name\u001B[0m\u001B[1;33m,\u001B[0m \u001B[0mK\u001B[0m\u001B[1;33m=\u001B[0m\u001B[0mK\u001B[0m\u001B[1;33m,\u001B[0m \u001B[0mgenerate_graph\u001B[0m\u001B[1;33m=\u001B[0m\u001B[1;32mFalse\u001B[0m\u001B[1;33m,\u001B[0m \u001B[0mvariabel\u001B[0m\u001B[1;33m=\u001B[0m\u001B[0mvariable\u001B[0m\u001B[1;33m)\u001B[0m\u001B[1;33m\u001B[0m\u001B[1;33m\u001B[0m\u001B[0m\n\u001B[0m\u001B[0;32m     20\u001B[0m \u001B[0mnew_test_process\u001B[0m\u001B[1;33m(\u001B[0m\u001B[0mtest_name\u001B[0m\u001B[1;33m,\u001B[0m \u001B[0mK\u001B[0m\u001B[1;33m=\u001B[0m\u001B[1;36m299\u001B[0m\u001B[1;33m,\u001B[0m \u001B[0mgenerate_graph\u001B[0m\u001B[1;33m=\u001B[0m\u001B[1;32mTrue\u001B[0m\u001B[1;33m,\u001B[0m \u001B[0mvariabel\u001B[0m\u001B[1;33m=\u001B[0m\u001B[0mvariable\u001B[0m\u001B[1;33m)\u001B[0m\u001B[1;33m\u001B[0m\u001B[1;33m\u001B[0m\u001B[0m\n\u001B[0;32m     21\u001B[0m \u001B[1;33m\u001B[0m\u001B[0m\n",
      "\u001B[1;32m~\\AppData\\Local\\Temp\\ipykernel_12648\\2115460997.py\u001B[0m in \u001B[0;36mnew_test_process\u001B[1;34m(test_name, N, K, I, L, P, save_dic, generate_graph, variabel)\u001B[0m\n\u001B[0;32m     14\u001B[0m     \u001B[0mD\u001B[0m \u001B[1;33m=\u001B[0m \u001B[0mlearner\u001B[0m\u001B[1;33m.\u001B[0m\u001B[0msparse_dictionary_learning\u001B[0m\u001B[1;33m(\u001B[0m\u001B[0miters\u001B[0m\u001B[1;33m=\u001B[0m\u001B[0mI\u001B[0m\u001B[1;33m,\u001B[0m \u001B[0moutput\u001B[0m\u001B[1;33m=\u001B[0m\u001B[1;32mTrue\u001B[0m\u001B[1;33m)\u001B[0m\u001B[1;33m\u001B[0m\u001B[1;33m\u001B[0m\u001B[0m\n\u001B[0;32m     15\u001B[0m \u001B[1;33m\u001B[0m\u001B[0m\n\u001B[1;32m---> 16\u001B[1;33m     \u001B[1;33m(\u001B[0m\u001B[0mrecon\u001B[0m\u001B[1;33m,\u001B[0m \u001B[0merror\u001B[0m\u001B[1;33m)\u001B[0m \u001B[1;33m=\u001B[0m \u001B[0mlearner\u001B[0m\u001B[1;33m.\u001B[0m\u001B[0mSPIR\u001B[0m\u001B[1;33m(\u001B[0m\u001B[0mpath\u001B[0m\u001B[1;33m=\u001B[0m\u001B[0mpath\u001B[0m\u001B[1;33m,\u001B[0m \u001B[0mpercent\u001B[0m\u001B[1;33m=\u001B[0m\u001B[0mpercent\u001B[0m\u001B[1;33m,\u001B[0m \u001B[0mmin_count\u001B[0m\u001B[1;33m=\u001B[0m\u001B[0mmin_count\u001B[0m\u001B[1;33m)\u001B[0m\u001B[1;33m\u001B[0m\u001B[1;33m\u001B[0m\u001B[0m\n\u001B[0m\u001B[0;32m     17\u001B[0m \u001B[1;33m\u001B[0m\u001B[0m\n\u001B[0;32m     18\u001B[0m     \u001B[1;31m# Calculate the run time\u001B[0m\u001B[1;33m\u001B[0m\u001B[1;33m\u001B[0m\u001B[0m\n",
      "\u001B[1;32m~\\GitHub\\Sparse-Dictionary-Learning\\Classes.py\u001B[0m in \u001B[0;36mSPIR\u001B[1;34m(self, path, percent, min_count)\u001B[0m\n\u001B[0;32m    534\u001B[0m \u001B[1;33m\u001B[0m\u001B[0m\n\u001B[0;32m    535\u001B[0m             \u001B[1;31m# Compute the sparse coding of the patch\u001B[0m\u001B[1;33m\u001B[0m\u001B[1;33m\u001B[0m\u001B[0m\n\u001B[1;32m--> 536\u001B[1;33m             \u001B[0msparse_patch_code\u001B[0m \u001B[1;33m=\u001B[0m \u001B[0mself\u001B[0m\u001B[1;33m.\u001B[0m\u001B[0msparse_rep\u001B[0m\u001B[1;33m(\u001B[0m\u001B[0mpatch\u001B[0m\u001B[1;33m.\u001B[0m\u001B[0mflatten\u001B[0m\u001B[1;33m(\u001B[0m\u001B[1;33m)\u001B[0m\u001B[1;33m.\u001B[0m\u001B[0mreshape\u001B[0m\u001B[1;33m(\u001B[0m\u001B[1;33m-\u001B[0m\u001B[1;36m1\u001B[0m\u001B[1;33m,\u001B[0m\u001B[1;36m1\u001B[0m\u001B[1;33m)\u001B[0m\u001B[1;33m,\u001B[0m \u001B[0mD\u001B[0m\u001B[1;33m,\u001B[0m \u001B[0mL\u001B[0m\u001B[1;33m)\u001B[0m\u001B[1;33m\u001B[0m\u001B[1;33m\u001B[0m\u001B[0m\n\u001B[0m\u001B[0;32m    537\u001B[0m             \u001B[0mrecon_patch\u001B[0m \u001B[1;33m=\u001B[0m \u001B[0mnp\u001B[0m\u001B[1;33m.\u001B[0m\u001B[0mdot\u001B[0m\u001B[1;33m(\u001B[0m\u001B[0mD\u001B[0m\u001B[1;33m,\u001B[0m \u001B[0msparse_patch_code\u001B[0m\u001B[1;33m)\u001B[0m\u001B[1;33m\u001B[0m\u001B[1;33m\u001B[0m\u001B[0m\n\u001B[0;32m    538\u001B[0m             \u001B[0mrecon_patch\u001B[0m \u001B[1;33m=\u001B[0m \u001B[0mrecon_patch\u001B[0m\u001B[1;33m.\u001B[0m\u001B[0mreshape\u001B[0m\u001B[1;33m(\u001B[0m\u001B[0mpatch_shape\u001B[0m\u001B[1;33m)\u001B[0m\u001B[1;33m\u001B[0m\u001B[1;33m\u001B[0m\u001B[0m\n",
      "\u001B[1;32m~\\GitHub\\Sparse-Dictionary-Learning\\Classes.py\u001B[0m in \u001B[0;36mfind_sparse_rep_OMP\u001B[1;34m(Y, D, L)\u001B[0m\n\u001B[0;32m    249\u001B[0m \u001B[1;33m\u001B[0m\u001B[0m\n\u001B[0;32m    250\u001B[0m                 \u001B[1;31m# Calculate the error between the original signal and the projection\u001B[0m\u001B[1;33m\u001B[0m\u001B[1;33m\u001B[0m\u001B[0m\n\u001B[1;32m--> 251\u001B[1;33m                 \u001B[0merror\u001B[0m \u001B[1;33m=\u001B[0m \u001B[0mnp\u001B[0m\u001B[1;33m.\u001B[0m\u001B[0mlinalg\u001B[0m\u001B[1;33m.\u001B[0m\u001B[0mnorm\u001B[0m\u001B[1;33m(\u001B[0m\u001B[0mY\u001B[0m\u001B[1;33m[\u001B[0m\u001B[1;33m:\u001B[0m\u001B[1;33m,\u001B[0m \u001B[0mj\u001B[0m\u001B[1;33m]\u001B[0m \u001B[1;33m-\u001B[0m \u001B[0mprojected\u001B[0m\u001B[1;33m)\u001B[0m\u001B[1;33m\u001B[0m\u001B[1;33m\u001B[0m\u001B[0m\n\u001B[0m\u001B[0;32m    252\u001B[0m \u001B[1;33m\u001B[0m\u001B[0m\n\u001B[0;32m    253\u001B[0m                 \u001B[1;31m# Store the position, coefficients, and error in the list\u001B[0m\u001B[1;33m\u001B[0m\u001B[1;33m\u001B[0m\u001B[0m\n",
      "\u001B[1;32m<__array_function__ internals>\u001B[0m in \u001B[0;36mnorm\u001B[1;34m(*args, **kwargs)\u001B[0m\n",
      "\u001B[1;32m~\\anaconda3\\lib\\site-packages\\numpy\\linalg\\linalg.py\u001B[0m in \u001B[0;36mnorm\u001B[1;34m(x, ord, axis, keepdims)\u001B[0m\n\u001B[0;32m   2528\u001B[0m                 \u001B[0msqnorm\u001B[0m \u001B[1;33m=\u001B[0m \u001B[0mdot\u001B[0m\u001B[1;33m(\u001B[0m\u001B[0mx\u001B[0m\u001B[1;33m.\u001B[0m\u001B[0mreal\u001B[0m\u001B[1;33m,\u001B[0m \u001B[0mx\u001B[0m\u001B[1;33m.\u001B[0m\u001B[0mreal\u001B[0m\u001B[1;33m)\u001B[0m \u001B[1;33m+\u001B[0m \u001B[0mdot\u001B[0m\u001B[1;33m(\u001B[0m\u001B[0mx\u001B[0m\u001B[1;33m.\u001B[0m\u001B[0mimag\u001B[0m\u001B[1;33m,\u001B[0m \u001B[0mx\u001B[0m\u001B[1;33m.\u001B[0m\u001B[0mimag\u001B[0m\u001B[1;33m)\u001B[0m\u001B[1;33m\u001B[0m\u001B[1;33m\u001B[0m\u001B[0m\n\u001B[0;32m   2529\u001B[0m             \u001B[1;32melse\u001B[0m\u001B[1;33m:\u001B[0m\u001B[1;33m\u001B[0m\u001B[1;33m\u001B[0m\u001B[0m\n\u001B[1;32m-> 2530\u001B[1;33m                 \u001B[0msqnorm\u001B[0m \u001B[1;33m=\u001B[0m \u001B[0mdot\u001B[0m\u001B[1;33m(\u001B[0m\u001B[0mx\u001B[0m\u001B[1;33m,\u001B[0m \u001B[0mx\u001B[0m\u001B[1;33m)\u001B[0m\u001B[1;33m\u001B[0m\u001B[1;33m\u001B[0m\u001B[0m\n\u001B[0m\u001B[0;32m   2531\u001B[0m             \u001B[0mret\u001B[0m \u001B[1;33m=\u001B[0m \u001B[0msqrt\u001B[0m\u001B[1;33m(\u001B[0m\u001B[0msqnorm\u001B[0m\u001B[1;33m)\u001B[0m\u001B[1;33m\u001B[0m\u001B[1;33m\u001B[0m\u001B[0m\n\u001B[0;32m   2532\u001B[0m             \u001B[1;32mif\u001B[0m \u001B[0mkeepdims\u001B[0m\u001B[1;33m:\u001B[0m\u001B[1;33m\u001B[0m\u001B[1;33m\u001B[0m\u001B[0m\n",
      "\u001B[1;32m<__array_function__ internals>\u001B[0m in \u001B[0;36mdot\u001B[1;34m(*args, **kwargs)\u001B[0m\n",
      "\u001B[1;31mKeyboardInterrupt\u001B[0m: "
     ]
    }
   ],
   "source": [
    "variables = ['N', 'K', 'I', 'L', 'P']\n",
    "\n",
    "test_name = 'tea_egg_test_I'\n",
    "variable = 2\n",
    "with open('Graphs/' + test_name + '_data.pkl', 'wb') as f:\n",
    "    pickle.dump({}, f)\n",
    "\n",
    "for I in [0,1,2,5,10]:\n",
    "    new_test_process(test_name, I=I, generate_graph=False, variabel=variable)\n",
    "new_test_process(test_name, I=20, generate_graph=True, variabel=variable)\n",
    "\n",
    "test_name = 'tea_egg_test_K'\n",
    "variable = 1\n",
    "\n",
    "with open('Graphs/' + test_name + '_data.pkl', 'wb') as f:\n",
    "    pickle.dump({}, f)\n",
    "\n",
    "for K in [65, 100, 200, 299]:\n",
    "    new_test_process(test_name, K=K, generate_graph=False, variabel=variable)\n",
    "new_test_process(test_name, K=299, generate_graph=True, variabel=variable)\n",
    "\n",
    "test_name = 'tea_egg_test_P'\n",
    "variable = 4\n",
    "\n",
    "with open('Graphs/' + test_name + '_data.pkl', 'wb') as f:\n",
    "    pickle.dump({}, f)\n",
    "\n",
    "for P in [4,6, 8, 10]:\n",
    "    new_test_process(test_name, P=P, generate_graph=False, variabel=variable)\n",
    "new_test_process(test_name, P = 12, generate_graph=True, variabel=variable)\n",
    "\n",
    "test_name = 'tea_egg_test_N'\n",
    "variable = 0\n",
    "\n",
    "with open('Graphs/' + test_name + '_data.pkl', 'wb') as f:\n",
    "    pickle.dump({}, f)\n",
    "\n",
    "for N in [101, 300]:\n",
    "    new_test_process(test_name, N=N, generate_graph=False, variabel=variable)\n",
    "new_test_process(test_name, N = 900, generate_graph=True, variabel=variable)\n",
    "\n",
    "\n",
    "test_name = 'tea_egg_test_L'\n",
    "variable = 3\n",
    "\n",
    "with open('Graphs/' + test_name + '_data.pkl', 'wb') as f:\n",
    "    pickle.dump({}, f)\n",
    "\n",
    "for L in [1,2,4]:\n",
    "    new_test_process(test_name, L=L, generate_graph=False, variabel=variable)\n",
    "new_test_process(test_name, L = 8, generate_graph=True, variabel=variable)"
   ],
   "metadata": {
    "collapsed": false
   }
  },
  {
   "cell_type": "code",
   "execution_count": 178,
   "outputs": [
    {
     "data": {
      "text/plain": "<Figure size 640x480 with 2 Axes>",
      "image/png": "[encoded data removed]"
     },
     "metadata": {},
     "output_type": "display_data"
    }
   ],
   "source": [
    "import matplotlib.pyplot as plt\n",
    "\n",
    "# define x and y values for the two lines\n",
    "xs = [1, 2, 3, 4, 5]\n",
    "ys1 = [2, 4, 6, 8, 10]\n",
    "ys2 = [100, 200, 350, 400, 500]\n",
    "\n",
    "# create the figure and first axis\n",
    "fig, ax1 = plt.subplots()\n",
    "\n",
    "# create the first line and first y-axis\n",
    "ax1.plot(xs, ys1, label='Line 1')\n",
    "ax1.set_xlabel('X')\n",
    "ax1.set_ylabel('Y1')\n",
    "\n",
    "# create the second axis and second line\n",
    "ax2 = ax1.twinx()\n",
    "ax2.plot(xs, ys2, label='Line 2', color='r')\n",
    "ax2.set_ylabel('Y2')\n",
    "\n",
    "# add a title and legend to the graph\n",
    "ax1.set_title('Two Lines with Same X-Axis but Different Y-Axis')\n",
    "#ax1.legend(loc='upper left')\n",
    "#ax2.legend(loc='upper left')\n",
    "# save the graph as a PNG file\n",
    "#plt.savefig('line_graph.png')\n",
    "\n",
    "# display the graph\n",
    "plt.show()\n"
   ],
   "metadata": {
    "collapsed": false
   }
  },
  {
   "cell_type": "code",
   "execution_count": 180,
   "outputs": [
    {
     "data": {
      "text/plain": "<Figure size 640x480 with 2 Axes>",
      "image/png": "[encoded data removed]"
     },
     "metadata": {},
     "output_type": "display_data"
    }
   ],
   "source": [
    "import matplotlib.pyplot as plt\n",
    "\n",
    "# define x and y values for the two lines\n",
    "xs = [1, 2, 3, 4, 5]\n",
    "ys1 = [2, 4, 6, 8, 10]\n",
    "ys2 = [100, 200, 350, 400, 500]\n",
    "\n",
    "# create the figure and first axis\n",
    "fig, ax1 = plt.subplots()\n",
    "\n",
    "# create the first line and first y-axis\n",
    "line1 = ax1.plot(xs, ys1, label='Line 1')\n",
    "ax1.set_xlabel('X')\n",
    "ax1.set_ylabel('Y1')\n",
    "\n",
    "# create the second axis and second line\n",
    "ax2 = ax1.twinx()\n",
    "line2 = ax2.plot(xs, ys2, label='Line 2', color='r')\n",
    "ax2.set_ylabel('Y2')\n",
    "\n",
    "# combine the lines and labels from both axes\n",
    "lines = line1 + line2\n",
    "labels = [line.get_label() for line in lines]\n",
    "\n",
    "# add a title and legend to the graph\n",
    "ax1.set_title('Two Lines with Same X-Axis but Different Y-Axis')\n",
    "ax1.legend(lines, labels, loc='upper left')\n",
    "\n",
    "# save the graph as a PNG file\n",
    "#plt.savefig('line_graph.png')\n",
    "\n",
    "# display the graph\n",
    "plt.show()\n"
   ],
   "metadata": {
    "collapsed": false
   }
  },
  {
   "cell_type": "code",
   "execution_count": 104,
   "outputs": [
    {
     "data": {
      "text/plain": "0it [00:00, ?it/s]",
      "application/vnd.jupyter.widget-view+json": {
       "version_major": 2,
       "version_minor": 0,
       "model_id": "14f958dd423945bf8bd9ef36261d053f"
      }
     },
     "metadata": {},
     "output_type": "display_data"
    },
    {
     "data": {
      "text/plain": "  0%|          | 0/5519 [00:00<?, ?it/s]",
      "application/vnd.jupyter.widget-view+json": {
       "version_major": 2,
       "version_minor": 0,
       "model_id": "182f792559eb4227a9b84b486eba1934"
      }
     },
     "metadata": {},
     "output_type": "display_data"
    },
    {
     "name": "stderr",
     "output_type": "stream",
     "text": [
      "C:\\Users\\raino\\GitHub\\Sparse-Dictionary-Learning\\Classes.py:554: RuntimeWarning: invalid value encountered in floor_divide\n",
      "  recon_img = recon_img // count\n"
     ]
    },
    {
     "data": {
      "text/plain": "  0%|          | 0/1 [00:00<?, ?it/s]",
      "application/vnd.jupyter.widget-view+json": {
       "version_major": 2,
       "version_minor": 0,
       "model_id": "160a454887384ff9a11827df007771e1"
      }
     },
     "metadata": {},
     "output_type": "display_data"
    },
    {
     "data": {
      "text/plain": "  0%|          | 0/5519 [00:00<?, ?it/s]",
      "application/vnd.jupyter.widget-view+json": {
       "version_major": 2,
       "version_minor": 0,
       "model_id": "7d33e5caa2ad45a6b749793778c8a723"
      }
     },
     "metadata": {},
     "output_type": "display_data"
    },
    {
     "data": {
      "text/plain": "  0%|          | 0/2 [00:00<?, ?it/s]",
      "application/vnd.jupyter.widget-view+json": {
       "version_major": 2,
       "version_minor": 0,
       "model_id": "3c92a9ab373744f3a52b92f360b2ced5"
      }
     },
     "metadata": {},
     "output_type": "display_data"
    },
    {
     "data": {
      "text/plain": "  0%|          | 0/5519 [00:00<?, ?it/s]",
      "application/vnd.jupyter.widget-view+json": {
       "version_major": 2,
       "version_minor": 0,
       "model_id": "bd50f600128d49d1b2d7ce250a6a2f93"
      }
     },
     "metadata": {},
     "output_type": "display_data"
    },
    {
     "data": {
      "text/plain": "  0%|          | 0/5 [00:00<?, ?it/s]",
      "application/vnd.jupyter.widget-view+json": {
       "version_major": 2,
       "version_minor": 0,
       "model_id": "beee6878d6634564b31d7c65c654f8c8"
      }
     },
     "metadata": {},
     "output_type": "display_data"
    },
    {
     "data": {
      "text/plain": "  0%|          | 0/5519 [00:00<?, ?it/s]",
      "application/vnd.jupyter.widget-view+json": {
       "version_major": 2,
       "version_minor": 0,
       "model_id": "7260f30200404679829eb445fa7535a5"
      }
     },
     "metadata": {},
     "output_type": "display_data"
    },
    {
     "data": {
      "text/plain": "  0%|          | 0/10 [00:00<?, ?it/s]",
      "application/vnd.jupyter.widget-view+json": {
       "version_major": 2,
       "version_minor": 0,
       "model_id": "13666df4ce834162bd8124cb8476e505"
      }
     },
     "metadata": {},
     "output_type": "display_data"
    },
    {
     "data": {
      "text/plain": "  0%|          | 0/5519 [00:00<?, ?it/s]",
      "application/vnd.jupyter.widget-view+json": {
       "version_major": 2,
       "version_minor": 0,
       "model_id": "bcdb085666cc4e7c9f8301948d63db96"
      }
     },
     "metadata": {},
     "output_type": "display_data"
    },
    {
     "data": {
      "text/plain": "  0%|          | 0/20 [00:00<?, ?it/s]",
      "application/vnd.jupyter.widget-view+json": {
       "version_major": 2,
       "version_minor": 0,
       "model_id": "8abd33c0c3bf4e2c9140b1257142f801"
      }
     },
     "metadata": {},
     "output_type": "display_data"
    },
    {
     "data": {
      "text/plain": "  0%|          | 0/5519 [00:00<?, ?it/s]",
      "application/vnd.jupyter.widget-view+json": {
       "version_major": 2,
       "version_minor": 0,
       "model_id": "926b91749a2c4d379bb059602543988d"
      }
     },
     "metadata": {},
     "output_type": "display_data"
    },
    {
     "data": {
      "text/plain": "  0%|          | 0/5 [00:00<?, ?it/s]",
      "application/vnd.jupyter.widget-view+json": {
       "version_major": 2,
       "version_minor": 0,
       "model_id": "9bd6beabc7454f958d3e92544eaae8a1"
      }
     },
     "metadata": {},
     "output_type": "display_data"
    },
    {
     "data": {
      "text/plain": "  0%|          | 0/5519 [00:00<?, ?it/s]",
      "application/vnd.jupyter.widget-view+json": {
       "version_major": 2,
       "version_minor": 0,
       "model_id": "e91bf56786664478833bee31f522e156"
      }
     },
     "metadata": {},
     "output_type": "display_data"
    },
    {
     "data": {
      "text/plain": "  0%|          | 0/5 [00:00<?, ?it/s]",
      "application/vnd.jupyter.widget-view+json": {
       "version_major": 2,
       "version_minor": 0,
       "model_id": "7edabf851ba34ea295cdd5677abaf1ba"
      }
     },
     "metadata": {},
     "output_type": "display_data"
    },
    {
     "data": {
      "text/plain": "  0%|          | 0/5519 [00:00<?, ?it/s]",
      "application/vnd.jupyter.widget-view+json": {
       "version_major": 2,
       "version_minor": 0,
       "model_id": "c4de4a3110c346129f41916132ae7dac"
      }
     },
     "metadata": {},
     "output_type": "display_data"
    },
    {
     "data": {
      "text/plain": "  0%|          | 0/5 [00:00<?, ?it/s]",
      "application/vnd.jupyter.widget-view+json": {
       "version_major": 2,
       "version_minor": 0,
       "model_id": "a00b31c5b9cb4922ac77a5efc1ca83e6"
      }
     },
     "metadata": {},
     "output_type": "display_data"
    },
    {
     "data": {
      "text/plain": "  0%|          | 0/5519 [00:00<?, ?it/s]",
      "application/vnd.jupyter.widget-view+json": {
       "version_major": 2,
       "version_minor": 0,
       "model_id": "facca0abd7bf4b81a490a3ef88a36c5f"
      }
     },
     "metadata": {},
     "output_type": "display_data"
    },
    {
     "data": {
      "text/plain": "  0%|          | 0/5 [00:00<?, ?it/s]",
      "application/vnd.jupyter.widget-view+json": {
       "version_major": 2,
       "version_minor": 0,
       "model_id": "f0bdf23c7ad44b71951dc71261386c7c"
      }
     },
     "metadata": {},
     "output_type": "display_data"
    },
    {
     "data": {
      "text/plain": "  0%|          | 0/5519 [00:00<?, ?it/s]",
      "application/vnd.jupyter.widget-view+json": {
       "version_major": 2,
       "version_minor": 0,
       "model_id": "d582cfeef2444427b897039daf20035f"
      }
     },
     "metadata": {},
     "output_type": "display_data"
    },
    {
     "data": {
      "text/plain": "  0%|          | 0/5 [00:00<?, ?it/s]",
      "application/vnd.jupyter.widget-view+json": {
       "version_major": 2,
       "version_minor": 0,
       "model_id": "e44bbc74b65b4e3fa1bd5cd9148f75dd"
      }
     },
     "metadata": {},
     "output_type": "display_data"
    },
    {
     "data": {
      "text/plain": "  0%|          | 0/5791 [00:00<?, ?it/s]",
      "application/vnd.jupyter.widget-view+json": {
       "version_major": 2,
       "version_minor": 0,
       "model_id": "3be04e69c4cd4ef3b5885676d0f8a28a"
      }
     },
     "metadata": {},
     "output_type": "display_data"
    },
    {
     "data": {
      "text/plain": "  0%|          | 0/5 [00:00<?, ?it/s]",
      "application/vnd.jupyter.widget-view+json": {
       "version_major": 2,
       "version_minor": 0,
       "model_id": "c4f12d4e9f834ebc8d7dbecda66769a0"
      }
     },
     "metadata": {},
     "output_type": "display_data"
    },
    {
     "data": {
      "text/plain": "  0%|          | 0/5655 [00:00<?, ?it/s]",
      "application/vnd.jupyter.widget-view+json": {
       "version_major": 2,
       "version_minor": 0,
       "model_id": "33e6680ead7a48398d3c748679ea2606"
      }
     },
     "metadata": {},
     "output_type": "display_data"
    },
    {
     "data": {
      "text/plain": "  0%|          | 0/5 [00:00<?, ?it/s]",
      "application/vnd.jupyter.widget-view+json": {
       "version_major": 2,
       "version_minor": 0,
       "model_id": "13c1baf2e9ee4f4eba597a15bc562eb8"
      }
     },
     "metadata": {},
     "output_type": "display_data"
    },
    {
     "data": {
      "text/plain": "  0%|          | 0/5519 [00:00<?, ?it/s]",
      "application/vnd.jupyter.widget-view+json": {
       "version_major": 2,
       "version_minor": 0,
       "model_id": "44460c5b7c7b4b0e88231ecfb56efcbe"
      }
     },
     "metadata": {},
     "output_type": "display_data"
    },
    {
     "data": {
      "text/plain": "  0%|          | 0/5 [00:00<?, ?it/s]",
      "application/vnd.jupyter.widget-view+json": {
       "version_major": 2,
       "version_minor": 0,
       "model_id": "5fc5ab4dd5224584a6129878a3551968"
      }
     },
     "metadata": {},
     "output_type": "display_data"
    },
    {
     "data": {
      "text/plain": "  0%|          | 0/5386 [00:00<?, ?it/s]",
      "application/vnd.jupyter.widget-view+json": {
       "version_major": 2,
       "version_minor": 0,
       "model_id": "b3a6da7df8144a688cccc0e242c658bb"
      }
     },
     "metadata": {},
     "output_type": "display_data"
    },
    {
     "data": {
      "text/plain": "  0%|          | 0/5 [00:00<?, ?it/s]",
      "application/vnd.jupyter.widget-view+json": {
       "version_major": 2,
       "version_minor": 0,
       "model_id": "8a942450a0cd48f78d5baae44e7a37e1"
      }
     },
     "metadata": {},
     "output_type": "display_data"
    },
    {
     "data": {
      "text/plain": "  0%|          | 0/5254 [00:00<?, ?it/s]",
      "application/vnd.jupyter.widget-view+json": {
       "version_major": 2,
       "version_minor": 0,
       "model_id": "085ef43842744c1dbf728ef2bfe2dc9d"
      }
     },
     "metadata": {},
     "output_type": "display_data"
    }
   ],
   "source": [
    "for I in [0,1,2,5,10,20]:\n",
    "    test_process(I=I)\n",
    "\n",
    "for K in [65, 100, 200, 299]:\n",
    "    test_process(K=K)\n",
    "\n",
    "for P in [4,6, 8, 10, 12]:\n",
    "    test_process(P=P)"
   ],
   "metadata": {
    "collapsed": false
   }
  },
  {
   "cell_type": "code",
   "execution_count": 110,
   "outputs": [
    {
     "name": "stdout",
     "output_type": "stream",
     "text": [
      "Testing: N = 101, K = 100, I = 5, L = 4, P = 8\n"
     ]
    },
    {
     "data": {
      "text/plain": "  0%|          | 0/5 [00:00<?, ?it/s]",
      "application/vnd.jupyter.widget-view+json": {
       "version_major": 2,
       "version_minor": 0,
       "model_id": "da815869e6a342c09db0a72fb39e7c85"
      }
     },
     "metadata": {},
     "output_type": "display_data"
    },
    {
     "data": {
      "text/plain": "  0%|          | 0/5519 [00:00<?, ?it/s]",
      "application/vnd.jupyter.widget-view+json": {
       "version_major": 2,
       "version_minor": 0,
       "model_id": "883442b8661f4e94b69656b768b79e9a"
      }
     },
     "metadata": {},
     "output_type": "display_data"
    },
    {
     "name": "stdout",
     "output_type": "stream",
     "text": [
      "Testing: N = 300, K = 100, I = 5, L = 4, P = 8\n"
     ]
    },
    {
     "name": "stderr",
     "output_type": "stream",
     "text": [
      "C:\\Users\\raino\\GitHub\\Sparse-Dictionary-Learning\\Classes.py:554: RuntimeWarning: invalid value encountered in floor_divide\n",
      "  recon_img = recon_img // count\n"
     ]
    },
    {
     "data": {
      "text/plain": "  0%|          | 0/5 [00:00<?, ?it/s]",
      "application/vnd.jupyter.widget-view+json": {
       "version_major": 2,
       "version_minor": 0,
       "model_id": "907b3edb3a3d419cac1b8ba7b6f47fcf"
      }
     },
     "metadata": {},
     "output_type": "display_data"
    },
    {
     "data": {
      "text/plain": "  0%|          | 0/5519 [00:00<?, ?it/s]",
      "application/vnd.jupyter.widget-view+json": {
       "version_major": 2,
       "version_minor": 0,
       "model_id": "b43e7e54dd60461382a02cf4c54dbdbd"
      }
     },
     "metadata": {},
     "output_type": "display_data"
    },
    {
     "name": "stdout",
     "output_type": "stream",
     "text": [
      "Testing: N = 900, K = 100, I = 5, L = 4, P = 8\n"
     ]
    },
    {
     "data": {
      "text/plain": "  0%|          | 0/5 [00:00<?, ?it/s]",
      "application/vnd.jupyter.widget-view+json": {
       "version_major": 2,
       "version_minor": 0,
       "model_id": "a3ef507350244bd19157e9dcdcfe28f4"
      }
     },
     "metadata": {},
     "output_type": "display_data"
    },
    {
     "data": {
      "text/plain": "  0%|          | 0/5519 [00:00<?, ?it/s]",
      "application/vnd.jupyter.widget-view+json": {
       "version_major": 2,
       "version_minor": 0,
       "model_id": "5acf6e89edcc4ec5bf63cc8e6f87c5e3"
      }
     },
     "metadata": {},
     "output_type": "display_data"
    },
    {
     "name": "stdout",
     "output_type": "stream",
     "text": [
      "Testing: N = 300, K = 100, I = 5, L = 1, P = 8\n"
     ]
    },
    {
     "data": {
      "text/plain": "  0%|          | 0/5 [00:00<?, ?it/s]",
      "application/vnd.jupyter.widget-view+json": {
       "version_major": 2,
       "version_minor": 0,
       "model_id": "50078e1c481b4cc8baae7038c0b79168"
      }
     },
     "metadata": {},
     "output_type": "display_data"
    },
    {
     "data": {
      "text/plain": "  0%|          | 0/5519 [00:00<?, ?it/s]",
      "application/vnd.jupyter.widget-view+json": {
       "version_major": 2,
       "version_minor": 0,
       "model_id": "fbca5c41ef1e4a5e88eeba49239da51c"
      }
     },
     "metadata": {},
     "output_type": "display_data"
    },
    {
     "name": "stdout",
     "output_type": "stream",
     "text": [
      "Testing: N = 300, K = 100, I = 5, L = 2, P = 8\n"
     ]
    },
    {
     "data": {
      "text/plain": "  0%|          | 0/5 [00:00<?, ?it/s]",
      "application/vnd.jupyter.widget-view+json": {
       "version_major": 2,
       "version_minor": 0,
       "model_id": "18e53fb7bbab40f8829de08fd0a9298c"
      }
     },
     "metadata": {},
     "output_type": "display_data"
    },
    {
     "data": {
      "text/plain": "  0%|          | 0/5519 [00:00<?, ?it/s]",
      "application/vnd.jupyter.widget-view+json": {
       "version_major": 2,
       "version_minor": 0,
       "model_id": "562e8c7b5993470fb3f40e41e800b8cd"
      }
     },
     "metadata": {},
     "output_type": "display_data"
    },
    {
     "name": "stdout",
     "output_type": "stream",
     "text": [
      "Testing: N = 300, K = 100, I = 5, L = 4, P = 8\n"
     ]
    },
    {
     "data": {
      "text/plain": "  0%|          | 0/5 [00:00<?, ?it/s]",
      "application/vnd.jupyter.widget-view+json": {
       "version_major": 2,
       "version_minor": 0,
       "model_id": "0ace4ff24687475caa4a6f02c5924a6f"
      }
     },
     "metadata": {},
     "output_type": "display_data"
    },
    {
     "data": {
      "text/plain": "  0%|          | 0/5519 [00:00<?, ?it/s]",
      "application/vnd.jupyter.widget-view+json": {
       "version_major": 2,
       "version_minor": 0,
       "model_id": "32f8f848531748399330e10eecff0261"
      }
     },
     "metadata": {},
     "output_type": "display_data"
    },
    {
     "name": "stdout",
     "output_type": "stream",
     "text": [
      "Testing: N = 300, K = 100, I = 5, L = 8, P = 8\n"
     ]
    },
    {
     "data": {
      "text/plain": "  0%|          | 0/5 [00:00<?, ?it/s]",
      "application/vnd.jupyter.widget-view+json": {
       "version_major": 2,
       "version_minor": 0,
       "model_id": "a5dc4f24905e4634b4d272202b68909a"
      }
     },
     "metadata": {},
     "output_type": "display_data"
    },
    {
     "data": {
      "text/plain": "  0%|          | 0/5519 [00:00<?, ?it/s]",
      "application/vnd.jupyter.widget-view+json": {
       "version_major": 2,
       "version_minor": 0,
       "model_id": "ced48734382243b3a3a9c880fc4ea4db"
      }
     },
     "metadata": {},
     "output_type": "display_data"
    }
   ],
   "source": [
    "for N in [101, 300, 900]:\n",
    "    test_process(N=N)\n",
    "\n",
    "for L in [1,2,4,8]:\n",
    "    test_process(L=L)"
   ],
   "metadata": {
    "collapsed": false
   }
  },
  {
   "cell_type": "code",
   "execution_count": 111,
   "outputs": [],
   "source": [
    "ts1 = [52, 2+18*60+17, 5+17*60+16, 13+51, 27+1*60+49, 55+12*60+43]\n",
    "ts2 = [8+11*60+48, 13+53, 29+2*60+45, 42 + 3*60+11 ]\n",
    "ts3 = [13+3*60+24, 13+50, 13+1*60+10, 19 + 1*60+46, 23+1*60+33]"
   ],
   "metadata": {
    "collapsed": false
   }
  },
  {
   "cell_type": "code",
   "execution_count": null,
   "outputs": [],
   "source": [],
   "metadata": {
    "collapsed": false
   }
  },
  {
   "cell_type": "code",
   "execution_count": 114,
   "outputs": [
    {
     "data": {
      "text/plain": "dict_keys([(66, 65, 0, 1, 8), (66, 65, 1, 1, 8)])"
     },
     "execution_count": 114,
     "metadata": {},
     "output_type": "execute_result"
    }
   ],
   "source": [
    "with open('Graphs/tea_eggs_data_attempt1.pkl', 'rb') as f:\n",
    "    x = pickle.load(f)\n",
    "x.keys()"
   ],
   "metadata": {
    "collapsed": false
   }
  },
  {
   "cell_type": "code",
   "execution_count": 115,
   "outputs": [
    {
     "data": {
      "text/plain": "dict_keys([(66, 65, 0, 1, 8), (66, 65, 1, 1, 8), (300, 100, 0, 4, 8), (300, 100, 1, 4, 8), (300, 100, 2, 4, 8), (300, 100, 5, 4, 8), (300, 100, 10, 4, 8), (300, 100, 20, 4, 8), (300, 65, 5, 4, 8), (300, 200, 5, 4, 8), (300, 299, 5, 4, 8), (300, 100, 5, 4, 4), (300, 100, 5, 4, 6), (300, 100, 5, 4, 10), (300, 100, 5, 4, 12)])"
     },
     "execution_count": 115,
     "metadata": {},
     "output_type": "execute_result"
    }
   ],
   "source": [
    "with open('Graphs/tea_eggs_data_attempt2.pkl', 'rb') as f:\n",
    "    x = pickle.load(f)\n",
    "x.keys()"
   ],
   "metadata": {
    "collapsed": false
   }
  },
  {
   "cell_type": "code",
   "execution_count": 150,
   "outputs": [
    {
     "ename": "IndexError",
     "evalue": "list index out of range",
     "output_type": "error",
     "traceback": [
      "\u001B[1;31m---------------------------------------------------------------------------\u001B[0m",
      "\u001B[1;31mIndexError\u001B[0m                                Traceback (most recent call last)",
      "\u001B[1;32m~\\AppData\\Local\\Temp\\ipykernel_12648\\526355907.py\u001B[0m in \u001B[0;36m<module>\u001B[1;34m\u001B[0m\n\u001B[0;32m      1\u001B[0m \u001B[1;32mwith\u001B[0m \u001B[0mopen\u001B[0m\u001B[1;33m(\u001B[0m\u001B[1;34m'Graphs/tea_eggs_data_attempt4.pkl'\u001B[0m\u001B[1;33m,\u001B[0m \u001B[1;34m'rb'\u001B[0m\u001B[1;33m)\u001B[0m \u001B[1;32mas\u001B[0m \u001B[0mf\u001B[0m\u001B[1;33m:\u001B[0m\u001B[1;33m\u001B[0m\u001B[1;33m\u001B[0m\u001B[0m\n\u001B[0;32m      2\u001B[0m     \u001B[0mx\u001B[0m \u001B[1;33m=\u001B[0m \u001B[0mpickle\u001B[0m\u001B[1;33m.\u001B[0m\u001B[0mload\u001B[0m\u001B[1;33m(\u001B[0m\u001B[0mf\u001B[0m\u001B[1;33m)\u001B[0m\u001B[1;33m\u001B[0m\u001B[1;33m\u001B[0m\u001B[0m\n\u001B[1;32m----> 3\u001B[1;33m \u001B[1;33m[\u001B[0m\u001B[1;33m(\u001B[0m\u001B[0mkey\u001B[0m\u001B[1;33m,\u001B[0m \u001B[0mval\u001B[0m\u001B[1;33m[\u001B[0m\u001B[1;36m1\u001B[0m\u001B[1;33m]\u001B[0m\u001B[1;33m[\u001B[0m\u001B[1;36m1\u001B[0m\u001B[1;33m]\u001B[0m\u001B[1;33m,\u001B[0m \u001B[0mval\u001B[0m\u001B[1;33m[\u001B[0m\u001B[1;36m1\u001B[0m\u001B[1;33m]\u001B[0m\u001B[1;33m[\u001B[0m\u001B[1;36m2\u001B[0m\u001B[1;33m]\u001B[0m\u001B[1;33m)\u001B[0m \u001B[1;32mfor\u001B[0m \u001B[0mkey\u001B[0m\u001B[1;33m,\u001B[0m \u001B[0mval\u001B[0m \u001B[1;32min\u001B[0m \u001B[0mlist\u001B[0m\u001B[1;33m(\u001B[0m\u001B[0mx\u001B[0m\u001B[1;33m.\u001B[0m\u001B[0mitems\u001B[0m\u001B[1;33m(\u001B[0m\u001B[1;33m)\u001B[0m\u001B[1;33m)\u001B[0m\u001B[1;33m[\u001B[0m\u001B[1;36m3\u001B[0m\u001B[1;33m:\u001B[0m\u001B[1;33m]\u001B[0m\u001B[1;33m]\u001B[0m\u001B[1;33m\u001B[0m\u001B[1;33m\u001B[0m\u001B[0m\n\u001B[0m",
      "\u001B[1;32m~\\AppData\\Local\\Temp\\ipykernel_12648\\526355907.py\u001B[0m in \u001B[0;36m<listcomp>\u001B[1;34m(.0)\u001B[0m\n\u001B[0;32m      1\u001B[0m \u001B[1;32mwith\u001B[0m \u001B[0mopen\u001B[0m\u001B[1;33m(\u001B[0m\u001B[1;34m'Graphs/tea_eggs_data_attempt4.pkl'\u001B[0m\u001B[1;33m,\u001B[0m \u001B[1;34m'rb'\u001B[0m\u001B[1;33m)\u001B[0m \u001B[1;32mas\u001B[0m \u001B[0mf\u001B[0m\u001B[1;33m:\u001B[0m\u001B[1;33m\u001B[0m\u001B[1;33m\u001B[0m\u001B[0m\n\u001B[0;32m      2\u001B[0m     \u001B[0mx\u001B[0m \u001B[1;33m=\u001B[0m \u001B[0mpickle\u001B[0m\u001B[1;33m.\u001B[0m\u001B[0mload\u001B[0m\u001B[1;33m(\u001B[0m\u001B[0mf\u001B[0m\u001B[1;33m)\u001B[0m\u001B[1;33m\u001B[0m\u001B[1;33m\u001B[0m\u001B[0m\n\u001B[1;32m----> 3\u001B[1;33m \u001B[1;33m[\u001B[0m\u001B[1;33m(\u001B[0m\u001B[0mkey\u001B[0m\u001B[1;33m,\u001B[0m \u001B[0mval\u001B[0m\u001B[1;33m[\u001B[0m\u001B[1;36m1\u001B[0m\u001B[1;33m]\u001B[0m\u001B[1;33m[\u001B[0m\u001B[1;36m1\u001B[0m\u001B[1;33m]\u001B[0m\u001B[1;33m,\u001B[0m \u001B[0mval\u001B[0m\u001B[1;33m[\u001B[0m\u001B[1;36m1\u001B[0m\u001B[1;33m]\u001B[0m\u001B[1;33m[\u001B[0m\u001B[1;36m2\u001B[0m\u001B[1;33m]\u001B[0m\u001B[1;33m)\u001B[0m \u001B[1;32mfor\u001B[0m \u001B[0mkey\u001B[0m\u001B[1;33m,\u001B[0m \u001B[0mval\u001B[0m \u001B[1;32min\u001B[0m \u001B[0mlist\u001B[0m\u001B[1;33m(\u001B[0m\u001B[0mx\u001B[0m\u001B[1;33m.\u001B[0m\u001B[0mitems\u001B[0m\u001B[1;33m(\u001B[0m\u001B[1;33m)\u001B[0m\u001B[1;33m)\u001B[0m\u001B[1;33m[\u001B[0m\u001B[1;36m3\u001B[0m\u001B[1;33m:\u001B[0m\u001B[1;33m]\u001B[0m\u001B[1;33m]\u001B[0m\u001B[1;33m\u001B[0m\u001B[1;33m\u001B[0m\u001B[0m\n\u001B[0m",
      "\u001B[1;31mIndexError\u001B[0m: list index out of range"
     ]
    }
   ],
   "source": [
    "with open('Graphs/tea_eggs_data_attempt4.pkl', 'rb') as f:\n",
    "    x = pickle.load(f)\n",
    "[(key, val[1][1], val[1][2]) for key, val in list(x.items())[3:]]"
   ],
   "metadata": {
    "collapsed": false
   }
  },
  {
   "cell_type": "code",
   "execution_count": 154,
   "outputs": [
    {
     "data": {
      "text/plain": "dict_keys([(66, 65, 0, 1, 8), (66, 65, 1, 1, 8), (300, 100, 0, 4, 8), (300, 100, 1, 4, 8), (300, 100, 2, 4, 8), (300, 100, 5, 4, 8), (300, 100, 10, 4, 8), (300, 100, 20, 4, 8), (300, 65, 5, 4, 8), (300, 200, 5, 4, 8), (300, 299, 5, 4, 8), (300, 100, 5, 4, 4), (300, 100, 5, 4, 6), (300, 100, 5, 4, 10), (300, 100, 5, 4, 12)])"
     },
     "execution_count": 154,
     "metadata": {},
     "output_type": "execute_result"
    }
   ],
   "source": [
    "with open('Graphs/tea_eggs_data_attempt2.pkl', 'rb') as f:\n",
    "    x = pickle.load(f)\n",
    "x.keys()"
   ],
   "metadata": {
    "collapsed": false
   }
  },
  {
   "cell_type": "code",
   "execution_count": 169,
   "outputs": [
    {
     "data": {
      "text/plain": "array([[0.15663014, 0.10891326, 0.06782937, ..., 0.13906705, 0.12377225,\n        0.19277678],\n       [0.16433326, 0.09171643, 0.06156819, ..., 0.13414432, 0.12302663,\n        0.1981317 ],\n       [0.15021087, 0.11894475, 0.07409054, ..., 0.13168296, 0.12302663,\n        0.19679297],\n       ...,\n       [0.12068224, 0.2565194 , 0.18679164, ..., 0.11199205, 0.12451787,\n        0.00803237],\n       [0.11811453, 0.26941702, 0.18679164, ..., 0.11445341, 0.12377225,\n        0.00937109],\n       [0.11554683, 0.26655088, 0.18574811, ..., 0.11445341, 0.12377225,\n        0.01070982]])"
     },
     "execution_count": 169,
     "metadata": {},
     "output_type": "execute_result"
    }
   ],
   "source": [
    "list(x.values())[0][0]"
   ],
   "metadata": {
    "collapsed": false
   }
  },
  {
   "cell_type": "code",
   "execution_count": 171,
   "outputs": [
    {
     "data": {
      "text/plain": "<Figure size 640x480 with 1 Axes>",
      "image/png": "[encoded data removed]"
     },
     "metadata": {},
     "output_type": "display_data"
    },
    {
     "data": {
      "text/plain": "  0%|          | 0/5 [00:00<?, ?it/s]",
      "application/vnd.jupyter.widget-view+json": {
       "version_major": 2,
       "version_minor": 0,
       "model_id": "e11e0532fd2d4fafac38a08bfbd80e27"
      }
     },
     "metadata": {},
     "output_type": "display_data"
    },
    {
     "data": {
      "text/plain": "<Figure size 640x480 with 1 Axes>",
      "image/png": "[encoded data removed]"
     },
     "metadata": {},
     "output_type": "display_data"
    }
   ],
   "source": [
    "import matplotlib.pyplot as plt\n",
    "import time\n",
    "\n",
    "# create the first graph\n",
    "x = [1, 2, 3, 4, 5]\n",
    "y = [2, 4, 6, 8, 10]\n",
    "plt.plot(x, y)\n",
    "plt.title('First Graph')\n",
    "plt.show()\n",
    "\n",
    "# wait for 5 seconds\n",
    "for i in tqdm(range(5)):\n",
    "    time.sleep(1)\n",
    "\n",
    "\n",
    "# create the second graph\n",
    "x = [1, 3, 5, 7, 9]\n",
    "y = [1, 4, 9, 16, 25]\n",
    "plt.plot(x, y)\n",
    "plt.title('Second Graph')\n",
    "plt.show()\n"
   ],
   "metadata": {
    "collapsed": false
   }
  },
  {
   "cell_type": "code",
   "execution_count": 153,
   "outputs": [
    {
     "ename": "IndexError",
     "evalue": "list index out of range",
     "output_type": "error",
     "traceback": [
      "\u001B[1;31m---------------------------------------------------------------------------\u001B[0m",
      "\u001B[1;31mIndexError\u001B[0m                                Traceback (most recent call last)",
      "\u001B[1;32m~\\AppData\\Local\\Temp\\ipykernel_12648\\682714652.py\u001B[0m in \u001B[0;36m<module>\u001B[1;34m\u001B[0m\n\u001B[0;32m     12\u001B[0m     \u001B[1;32mif\u001B[0m \u001B[0mkey\u001B[0m\u001B[1;33m[\u001B[0m\u001B[1;36m0\u001B[0m\u001B[1;33m:\u001B[0m\u001B[1;36m2\u001B[0m\u001B[1;33m]\u001B[0m \u001B[1;33m==\u001B[0m \u001B[1;33m(\u001B[0m\u001B[1;36m300\u001B[0m\u001B[1;33m,\u001B[0m \u001B[1;36m100\u001B[0m\u001B[1;33m)\u001B[0m \u001B[1;32mand\u001B[0m \u001B[0mkey\u001B[0m\u001B[1;33m[\u001B[0m\u001B[1;36m3\u001B[0m\u001B[1;33m:\u001B[0m\u001B[1;33m]\u001B[0m \u001B[1;33m==\u001B[0m \u001B[1;33m(\u001B[0m\u001B[1;36m4\u001B[0m\u001B[1;33m,\u001B[0m \u001B[1;36m8\u001B[0m\u001B[1;33m)\u001B[0m\u001B[1;33m:\u001B[0m\u001B[1;33m\u001B[0m\u001B[1;33m\u001B[0m\u001B[0m\n\u001B[0;32m     13\u001B[0m         \u001B[0mx_values\u001B[0m\u001B[1;33m.\u001B[0m\u001B[0mappend\u001B[0m\u001B[1;33m(\u001B[0m\u001B[0mkey\u001B[0m\u001B[1;33m[\u001B[0m\u001B[1;36m2\u001B[0m\u001B[1;33m]\u001B[0m\u001B[1;33m)\u001B[0m\u001B[1;33m\u001B[0m\u001B[1;33m\u001B[0m\u001B[0m\n\u001B[1;32m---> 14\u001B[1;33m         \u001B[0my_values\u001B[0m\u001B[1;33m.\u001B[0m\u001B[0mappend\u001B[0m\u001B[1;33m(\u001B[0m\u001B[0mvalue\u001B[0m\u001B[1;33m[\u001B[0m\u001B[1;36m1\u001B[0m\u001B[1;33m]\u001B[0m\u001B[1;33m)\u001B[0m\u001B[1;33m\u001B[0m\u001B[1;33m\u001B[0m\u001B[0m\n\u001B[0m\u001B[0;32m     15\u001B[0m \u001B[1;33m\u001B[0m\u001B[0m\n\u001B[0;32m     16\u001B[0m \u001B[1;31m# Plot the data\u001B[0m\u001B[1;33m\u001B[0m\u001B[1;33m\u001B[0m\u001B[0m\n",
      "\u001B[1;31mIndexError\u001B[0m: list index out of range"
     ]
    }
   ],
   "source": [
    "import matplotlib.pyplot as plt\n",
    "\n",
    "# Sample dictionary with keys dict_keys([...])\n",
    "with open('Graphs/tea_eggs_data_attempt2.pkl', 'rb') as f:\n",
    "    x = pickle.load(f)\n",
    "data = x\n",
    "\n",
    "# Extract the desired values from the dictionary\n",
    "x_values = []\n",
    "y_values = []\n",
    "for key, value in data.items():\n",
    "    if key[0:2] == (300, 100) and key[3:] == (4, 8):\n",
    "        x_values.append(key[2])\n",
    "        y_values.append(value[1])\n",
    "\n",
    "# Plot the data\n",
    "plt.plot(x_values, y_values, 'bo-')\n",
    "plt.xlabel('X Values')\n",
    "plt.ylabel('Y Values')\n",
    "plt.title('Plot of (300, 100, _, 4, 8) values')\n",
    "plt.show()"
   ],
   "metadata": {
    "collapsed": false
   }
  },
  {
   "cell_type": "code",
   "execution_count": null,
   "outputs": [],
   "source": [
    "\n",
    "\n",
    "#Ns = [186, 256, 512, 1042]\n",
    "Ns = [512, 1842]\n",
    "octopus_errors = {}\n",
    "for N in Ns:\n",
    "    octopus_errors[N] = []\n",
    "    sam = Sampler(paths = paths, patch_shape = patch_shape, num_samples = N)\n",
    "\n",
    "    dictionaries = []\n",
    "    #Ls = [1, 2, 4, 8, 16]\n",
    "    Ls = [2,4,8]\n",
    "    for L in Ls:\n",
    "        learner = DictionaryLearner(L=L, K=K, sampler=sam, algo = 'OMP')\n",
    "        D = learner.sparse_dictionary_learning(iters = I, output = True)\n",
    "        (recon, error) =  learner.SPIR(path = path, percent=percent, min_count=min_count)\n",
    "        dictionaries.append((L, N, D, error))\n",
    "        correct_path = new_path + 'N' + str(N) + 'L' + str(L) + '.jpg'\n",
    "        cv2.imwrite(correct_path, recon)\n",
    "\n",
    "        octopus_errors[N].append(error)\n",
    "\n",
    "    with open('Graphs/octopusN' + str(N) + '.pkl', 'wb') as f:\n",
    "        pickle.dump(dictionaries, f)\n"
   ],
   "metadata": {
    "collapsed": false
   }
  },
  {
   "cell_type": "code",
   "execution_count": 87,
   "outputs": [],
   "source": [
    "dic = {}\n"
   ],
   "metadata": {
    "collapsed": false
   }
  },
  {
   "cell_type": "code",
   "execution_count": 88,
   "outputs": [],
   "source": [
    "dic[(1,2,4)] = []"
   ],
   "metadata": {
    "collapsed": false
   }
  },
  {
   "cell_type": "code",
   "execution_count": 89,
   "outputs": [
    {
     "data": {
      "text/plain": "{(1, 2, 4): []}"
     },
     "execution_count": 89,
     "metadata": {},
     "output_type": "execute_result"
    }
   ],
   "source": [
    "dic"
   ],
   "metadata": {
    "collapsed": false
   }
  },
  {
   "cell_type": "code",
   "execution_count": null,
   "outputs": [],
   "source": [],
   "metadata": {
    "collapsed": false
   }
  }
 ],
 "metadata": {
  "kernelspec": {
   "display_name": "Python 3",
   "language": "python",
   "name": "python3"
  },
  "language_info": {
   "codemirror_mode": {
    "name": "ipython",
    "version": 2
   },
   "file_extension": ".py",
   "mimetype": "text/x-python",
   "name": "python",
   "nbconvert_exporter": "python",
   "pygments_lexer": "ipython2",
   "version": "2.7.6"
  }
 },
 "nbformat": 4,
 "nbformat_minor": 0
}
