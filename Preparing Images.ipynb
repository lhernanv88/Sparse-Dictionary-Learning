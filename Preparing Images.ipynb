{
 "cells": [
  {
   "cell_type": "markdown",
   "source": [],
   "metadata": {
    "collapsed": false
   }
  },
  {
   "cell_type": "code",
   "execution_count": 2,
   "outputs": [],
   "source": [
    "import cv2"
   ],
   "metadata": {
    "collapsed": false
   }
  },
  {
   "cell_type": "code",
   "execution_count": 1,
   "outputs": [],
   "source": [
    "\n",
    "old_dir = 'Original Images/'\n",
    "new_dir = 'Compressed Images/'\n",
    "paths = ['cheese_board.jpg', 'chicken_n_beans.jpg', 'octopus.jpg', 'tea_eggs.jpg', 'persimmon_tomato_salad.jpg']\n",
    "for path in paths:\n",
    "    img = cv2.imread(old_dir + path, cv2.IMREAD_COLOR)\n",
    "\n",
    "    # Resize the image to 400x300 pixels\n",
    "    img_resized = cv2.resize(img, (200, 150), interpolation=cv2.INTER_AREA)\n",
    "\n",
    "    # Convert the resized image to grayscale\n",
    "    img_gray = cv2.cvtColor(img_resized, cv2.COLOR_RGB2GRAY)\n",
    "\n",
    "    # Save the grayscale image as 'small_gray_dinner.png'\n",
    "    cv2.imwrite(new_dir + path, img_gray)"
   ],
   "metadata": {
    "collapsed": false
   }
  },
  {
   "cell_type": "code",
   "execution_count": 3,
   "outputs": [],
   "source": [
    "old_dir = 'Original Images/'\n",
    "new_dir = 'Compressed Images/'\n",
    "paths = ['easter_egg_bread.jpg', 'burger.jpg', 'granita.jpg', 'pizzelle.jpg', 'pork_knuckle.jpg']\n",
    "for path in paths:\n",
    "    img = cv2.imread(old_dir + path, cv2.IMREAD_COLOR)\n",
    "\n",
    "    # Resize the image to 200x150 pixels\n",
    "    img_resized = cv2.resize(img, (200, 150), interpolation=cv2.INTER_AREA)\n",
    "\n",
    "    # Convert the resized image to grayscale\n",
    "    img_gray = cv2.cvtColor(img_resized, cv2.COLOR_RGB2GRAY)\n",
    "\n",
    "    # Save the grayscale image as 'small_gray_dinner.png'\n",
    "    cv2.imwrite(new_dir + path, img_gray)"
   ],
   "metadata": {
    "collapsed": false
   }
  },
  {
   "cell_type": "code",
   "execution_count": 8,
   "outputs": [],
   "source": [
    "import pandas as pd\n",
    "\n",
    "df = pd.DataFrame(columns=['Reconstructed Path', 'Original Path', 'Corrupted Path', 'Partial or Full',  'Run Time', 'Run Time (learning)', 'Run Time (reconstruction)', 'RMSE', 'PSNR', 'SSIM', 'Luminance Dist.', 'Contrast Dist.', 'Structural Comp.', 'RMSE Gain', 'PSNR Gain', 'SSIM Gain', 'Luminance Dist. Gain', 'Contrast Dist. Gain', 'Structural Comp. Gain',  'param: K', 'param: N', 'param: Iters', 'param: L', 4 'param: other'])\n",
    "df.loc[0] = {}\n",
    "df.to_csv('EVALUATION_METRICS.csv')"
   ],
   "metadata": {
    "collapsed": false
   }
  },
  {
   "cell_type": "code",
   "execution_count": null,
   "outputs": [],
   "source": [],
   "metadata": {
    "collapsed": false
   }
  }
 ],
 "metadata": {
  "kernelspec": {
   "display_name": "Python 3",
   "language": "python",
   "name": "python3"
  },
  "language_info": {
   "codemirror_mode": {
    "name": "ipython",
    "version": 2
   },
   "file_extension": ".py",
   "mimetype": "text/x-python",
   "name": "python",
   "nbconvert_exporter": "python",
   "pygments_lexer": "ipython2",
   "version": "2.7.6"
  }
 },
 "nbformat": 4,
 "nbformat_minor": 0
}
