{
 "cells": [
  {
   "cell_type": "code",
   "execution_count": null,
   "metadata": {
    "collapsed": true
   },
   "outputs": [],
   "source": []
  },
  {
   "cell_type": "code",
   "execution_count": 30,
   "outputs": [],
   "source": [
    "def get_ith_patch(large_shape, patch_shape, i):\n",
    "    # How many patches can we fit in this large array?\n",
    "    patch_index_shape = np.array(large_shape) - np.array(patch_shape) + 1\n",
    "\n",
    "    # What are the coordinates of the starting pixel of the ith patch?\n",
    "    patch_index = np.unravel_index(i, patch_index_shape)\n",
    "\n",
    "    # Get the indices for the pixels in the ith patch\n",
    "    patch_indices = tuple(slice(start, start + size) for start, size in zip(patch_index, patch_shape))\n",
    "\n",
    "    return patch_indices\n",
    "\n",
    "def get_num_patches(large_shape, patch_shape):\n",
    "    patch_index_shape = np.array(large_shape) - np.array(patch_shape) + 1\n",
    "    return patch_index_shape.prod()\n"
   ],
   "metadata": {
    "collapsed": false
   }
  },
  {
   "cell_type": "code",
   "execution_count": 0,
   "outputs": [],
   "source": [
    "class Sampler:\n",
    "\n",
    "    def __init__(self):\n",
    "        #self.seed = 1 # A random seed which will be updated after every use. It is there to ensure reproducibility\n",
    "        self.paths = [] # A list of the paths where original images/signals are stored\n",
    "\n",
    "    def add_path(self, path):\n",
    "        self.paths.append(path)\n",
    "\n",
    "    def set_paths(self, paths):\n",
    "        self.paths = paths"
   ],
   "metadata": {
    "collapsed": false
   }
  },
  {
   "cell_type": "code",
   "execution_count": 63,
   "outputs": [],
   "source": [
    "\n",
    "#def signal_to_vec(self, signal):\n",
    "\n",
    "#def vec_to_signal(self, vec):\n",
    "\n",
    "def sample(self, N):\n",
    "\n",
    "    # Divide the number of samples requested evenly amongst each original full image\n",
    "    j = 0\n",
    "    r = N % len(self.paths)\n",
    "    d = self.patch_shape.prod()\n",
    "    Y = np.zeros([d, N], dtype=np.uint8)\n",
    "\n",
    "    for i, path in enumerate(self.paths):\n",
    "        img = cv2.imread(path)\n",
    "        large_shape = img.shape\n",
    "\n",
    "        for _ in range(N // len(self.paths)):\n",
    "\n",
    "            num_patches = get_num_patches(large_shape, self.patch_shape)\n",
    "            patch = get_ith_patch(large_shape, self.patch_shape, random.randint(0, num_patches))\n",
    "            Y[:, j] = img[patch].flatten().ravel()\n",
    "            j+=1\n",
    "        if i<r:\n",
    "            num_patches = get_num_patches(large_shape, self.patch_shape)\n",
    "            patch = get_ith_patch(large_shape, self.patch_shape, random.randint(0, num_patches))\n",
    "            Y[:, j] = img[patch]\n",
    "            j+=1\n",
    "\n",
    "    return Y\n",
    "\n",
    "def sample_noise(self, N, add_noise=False, noise_std=10):\n",
    "    \"\"\"\n",
    "    Randomly sample patches from images in self.paths, with the option to add Gaussian noise.\n",
    "    Args:\n",
    "        N: int, number of patches to sample\n",
    "        add_noise: bool, whether to add Gaussian noise to the patches\n",
    "        noise_std: float, standard deviation of the Gaussian noise\n",
    "    Returns:\n",
    "        Y: np.array, of shape (d, N), where d is the product of the patch dimensions, containing the sampled patches\n",
    "    \"\"\"\n",
    "\n",
    "    # Get the product of the patch dimensions\n",
    "    d = self.patch_shape.prod()\n",
    "\n",
    "    # Initialize an array to hold the sampled patches\n",
    "    Y = np.zeros([d, N], dtype=np.uint8)\n",
    "\n",
    "    def get_sample(img, add_noise):\n",
    "        \"\"\"\n",
    "        Helper function to get a single patch sample from an image.\n",
    "        Args:\n",
    "            img: np.array, representing an image\n",
    "            add_noise: bool, whether to add Gaussian noise to the patch\n",
    "        Returns:\n",
    "            sample: np.array, of shape (d,), representing the sampled patch\n",
    "        \"\"\"\n",
    "\n",
    "        # Get a random patch from the image\n",
    "        patch = get_ith_patch(large_shape, self.patch_shape, random.randint(0, num_patches))\n",
    "        sample = img[patch].flatten()\n",
    "\n",
    "        # Add Gaussian noise to the patch, if specified\n",
    "        if add_noise:\n",
    "            noise = np.zeros_like(sample)\n",
    "            cv2.randn(noise, 0, noise_std)\n",
    "            sample = np.clip(sample + noise, 0, 255).astype(np.uint8)\n",
    "\n",
    "        return sample\n",
    "\n",
    "    # Divide the number of samples requested evenly amongst each original full image\n",
    "    j = 0\n",
    "    r = N % len(self.paths)\n",
    "\n",
    "    for i, path in enumerate(self.paths):\n",
    "        # Read in the image and get its shape\n",
    "        img = cv2.imread(path)\n",
    "        large_shape = img.shape\n",
    "\n",
    "        # Get the number of patches that can be extracted from the image\n",
    "        num_patches = get_num_patches(large_shape, self.patch_shape)\n",
    "\n",
    "        # Sample patches from the image\n",
    "        for _ in range(N // len(self.paths)):\n",
    "            sample = get_sample(img, add_noise)\n",
    "            Y[:, j] = sample\n",
    "            j += 1\n",
    "\n",
    "        # If there are any remaining samples, sample them from the current image\n",
    "        if i < r:\n",
    "            sample = get_sample(img, add_noise)\n",
    "            Y[:, j] = sample\n",
    "            j += 1\n",
    "\n",
    "    return Y\n",
    "\n",
    "\n",
    "Sampler.sample = sample\n",
    "Sampler.sample_noise = sample_noise\n",
    "\n",
    "\n",
    "#def add_noise(self, signal):\n",
    "\n",
    "#def drop_pixels(self, signal):\n",
    "\n",
    "\n"
   ],
   "metadata": {
    "collapsed": false
   }
  },
  {
   "cell_type": "code",
   "execution_count": 91,
   "outputs": [],
   "source": [
    "sam = Sampler()\n",
    "sam.add_path('dinner.jpg')\n",
    "sam.patch_shape = np.array([1000,1000,3])\n",
    "Y = sam.sample_noise(3, add_noise=True, noise_std=1000)\n",
    "cv2.imshow('test', Y[:,0].reshape(sam.patch_shape))\n",
    "cv2.waitKey(0)\n",
    "cv2.destroyAllWindows()"
   ],
   "metadata": {
    "collapsed": false
   }
  },
  {
   "cell_type": "code",
   "execution_count": 47,
   "outputs": [
    {
     "data": {
      "text/plain": "192"
     },
     "execution_count": 47,
     "metadata": {},
     "output_type": "execute_result"
    }
   ],
   "source": [
    "sam.patch_shape.prod()"
   ],
   "metadata": {
    "collapsed": false
   }
  },
  {
   "cell_type": "code",
   "execution_count": 8,
   "outputs": [
    {
     "data": {
      "text/plain": "6"
     },
     "execution_count": 8,
     "metadata": {},
     "output_type": "execute_result"
    }
   ],
   "source": [
    "import numpy as np\n",
    "\n",
    "np.array([1,2,3]).prod()"
   ],
   "metadata": {
    "collapsed": false
   }
  },
  {
   "cell_type": "code",
   "execution_count": 18,
   "outputs": [
    {
     "data": {
      "text/plain": "7"
     },
     "execution_count": 18,
     "metadata": {},
     "output_type": "execute_result"
    }
   ],
   "source": [
    "import random\n",
    "random.randint(0,10)"
   ],
   "metadata": {
    "collapsed": false
   }
  },
  {
   "cell_type": "code",
   "execution_count": 19,
   "outputs": [
    {
     "data": {
      "text/plain": "2"
     },
     "execution_count": 19,
     "metadata": {},
     "output_type": "execute_result"
    }
   ],
   "source": [
    "2"
   ],
   "metadata": {
    "collapsed": false
   }
  },
  {
   "cell_type": "code",
   "execution_count": 55,
   "outputs": [
    {
     "data": {
      "text/plain": "array([[-0.05992862, -0.01217082, -0.01924014,  0.0360319 , -0.00776401,\n        -0.000524  ,  0.14573281,  0.07641563],\n       [-0.18572422,  0.14079179, -0.15667047,  0.2305574 ,  0.04327394,\n         0.03192766, -0.03948167,  0.15574063],\n       [-0.18094431,  0.03454035,  0.05829101, -0.04971573, -0.02696382,\n        -0.13489656,  0.09165429, -0.09473357],\n       [-0.07280259, -0.0614746 , -0.0841094 , -0.10062964,  0.03619999,\n        -0.07039527,  0.01951222,  0.04212763],\n       [-0.01718095, -0.02416182,  0.14357363, -0.06101194, -0.0752874 ,\n         0.05919809,  0.18025043, -0.06981907],\n       [ 0.04946283, -0.00567512, -0.03728039, -0.01652367, -0.06759748,\n        -0.02250607, -0.03298199, -0.02765604],\n       [ 0.06038713, -0.06817364,  0.05721233,  0.06235531,  0.09877378,\n         0.06874567,  0.0978708 ,  0.12555003],\n       [ 0.07603313, -0.04014293, -0.1132591 ,  0.18838865, -0.01803408,\n         0.15091138,  0.0526451 , -0.10075915]])"
     },
     "execution_count": 55,
     "metadata": {},
     "output_type": "execute_result"
    }
   ],
   "source": [
    "np.random.normal(0, 0.1, np.array([8,8]))"
   ],
   "metadata": {
    "collapsed": false
   }
  },
  {
   "cell_type": "code",
   "execution_count": 56,
   "outputs": [
    {
     "ename": "NameError",
     "evalue": "name 'img' is not defined",
     "output_type": "error",
     "traceback": [
      "\u001B[1;31m---------------------------------------------------------------------------\u001B[0m",
      "\u001B[1;31mNameError\u001B[0m                                 Traceback (most recent call last)",
      "\u001B[1;32m~\\AppData\\Local\\Temp\\ipykernel_13852\\2486947686.py\u001B[0m in \u001B[0;36m<module>\u001B[1;34m\u001B[0m\n\u001B[1;32m----> 1\u001B[1;33m \u001B[0mimg\u001B[0m\u001B[1;33m\u001B[0m\u001B[1;33m\u001B[0m\u001B[0m\n\u001B[0m",
      "\u001B[1;31mNameError\u001B[0m: name 'img' is not defined"
     ]
    }
   ],
   "source": [
    "img"
   ],
   "metadata": {
    "collapsed": false
   }
  },
  {
   "cell_type": "code",
   "execution_count": null,
   "outputs": [],
   "source": [],
   "metadata": {
    "collapsed": false
   }
  }
 ],
 "metadata": {
  "kernelspec": {
   "display_name": "Python 3",
   "language": "python",
   "name": "python3"
  },
  "language_info": {
   "codemirror_mode": {
    "name": "ipython",
    "version": 2
   },
   "file_extension": ".py",
   "mimetype": "text/x-python",
   "name": "python",
   "nbconvert_exporter": "python",
   "pygments_lexer": "ipython2",
   "version": "2.7.6"
  }
 },
 "nbformat": 4,
 "nbformat_minor": 0
}
