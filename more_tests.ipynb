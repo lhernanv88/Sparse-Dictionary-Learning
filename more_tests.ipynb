{
 "cells": [
  {
   "cell_type": "markdown",
   "source": [
    "Thursday To-Do List:\n",
    "1. Get more pictures for testing\n",
    "2. Figure out the proper evaluation metrics (signal/noise, etc...)\n",
    "3. Make a seperate method for evaluation\n",
    "4. Do statistical tests to prove SPIR is accurate\n",
    "5. Make a method/function for testing and graphing results and saving images\n",
    "6. Make a default list of parameters, make the parameters option optional, make it easier to change\n",
    "7. Show that/if replacing unused atoms gives better results\n",
    "8. Run tests on other toggles in the algorithm"
   ],
   "metadata": {
    "collapsed": false
   }
  },
  {
   "cell_type": "code",
   "execution_count": 1,
   "outputs": [],
   "source": [
    "import numpy as np\n",
    "import random\n",
    "import cv2\n",
    "from tqdm.notebook import tqdm\n",
    "import pandas as pd\n",
    "import matplotlib.pyplot as plt\n",
    "import pickle\n",
    "import time\n",
    "\n",
    "%run Classes.py"
   ],
   "metadata": {
    "collapsed": false
   }
  },
  {
   "cell_type": "code",
   "execution_count": 2,
   "outputs": [],
   "source": [
    "paths = ['Compressed Images/cheese_board.jpg', 'Compressed Images/chicken_n_beans.jpg', 'Compressed Images/persimmon_tomato_salad.jpg', 'Compressed Images/octopus.jpg']\n",
    "new_path = 'Reconstructed Images/tea_eggs'\n",
    "path_orig = 'Compressed Images/tea_eggs.jpg'\n",
    "path_corrupted = 'Compressed Images/tea_eggs_corrupted.jpg'\n",
    "\n",
    "sam = Sampler(paths = paths, patch_shape = np.array([8,8]), num_samples = 500)\n",
    "sam.add_filter('noise', std = 100)\n",
    "learner = DictionaryLearner(L=20, K=200, sampler=sam, algo = 'OMP')\n",
    "learner.update_step(use_orig=True)\n",
    "\n",
    "img_orig = load_image(path_orig)\n",
    "img_corrupt = sam.filter(img_orig)\n",
    "\n",
    "cv2.imwrite(path_corrupted, img_corrupt)\n",
    "\n",
    "cv2.imshow(\"Original Image\", img_orig)\n",
    "cv2.imshow(\"Corrupted Image\", img_corrupt)\n",
    "cv2.moveWindow(\"Corrupted Image\", img_orig.shape[1], 0)\n",
    "\n",
    "cv2.waitKey(0)\n",
    "cv2.destroyAllWindows()"
   ],
   "metadata": {
    "collapsed": false
   }
  },
  {
   "cell_type": "markdown",
   "source": [],
   "metadata": {
    "collapsed": false
   }
  },
  {
   "cell_type": "code",
   "execution_count": 3,
   "outputs": [
    {
     "data": {
      "text/plain": "  0%|          | 0/20 [00:00<?, ?it/s]",
      "application/vnd.jupyter.widget-view+json": {
       "version_major": 2,
       "version_minor": 0,
       "model_id": "c79a72a5d01a4944a22e28603ebf2f9c"
      }
     },
     "metadata": {},
     "output_type": "display_data"
    },
    {
     "name": "stdout",
     "output_type": "stream",
     "text": [
      "Dictionary Complete\n"
     ]
    }
   ],
   "source": [
    "D = learner.sparse_dictionary_learning(iters=20, output=True)\n",
    "print(\"Dictionary Complete\")"
   ],
   "metadata": {
    "collapsed": false
   }
  },
  {
   "cell_type": "code",
   "execution_count": 4,
   "outputs": [
    {
     "data": {
      "text/plain": "  0%|          | 0/5519 [00:00<?, ?it/s]",
      "application/vnd.jupyter.widget-view+json": {
       "version_major": 2,
       "version_minor": 0,
       "model_id": "7811793d13804abb99d79a733399e4da"
      }
     },
     "metadata": {},
     "output_type": "display_data"
    },
    {
     "name": "stderr",
     "output_type": "stream",
     "text": [
      "C:\\Users\\raino\\GitHub\\Sparse-Dictionary-Learning\\Classes.py:554: RuntimeWarning: invalid value encountered in floor_divide\n",
      "  recon_img = recon_img // count\n"
     ]
    },
    {
     "name": "stdout",
     "output_type": "stream",
     "text": [
      "Reconstruction Complete\n",
      "Error Est. = 39.81040120829459\n"
     ]
    }
   ],
   "source": [
    "(recon, error) = learner.SPIR(path=path_corrupted, percent=.2, min_count=1)\n",
    "print(f'Reconstruction Complete')\n",
    "print(f'Error Est. = {error}')\n",
    "\n",
    "cv2.imshow(\"Original Image\", img_orig)\n",
    "cv2.imshow(\"Corrupted Image\", img_corrupt)\n",
    "cv2.moveWindow(\"Corrupted Image\", img_orig.shape[1], 0)\n",
    "\n",
    "cv2.imshow('Reconstructed Image', recon)\n",
    "cv2.waitKey(0)\n",
    "cv2.destroyAllWindows()\n",
    "\n",
    "\n"
   ],
   "metadata": {
    "collapsed": false
   }
  },
  {
   "cell_type": "code",
   "execution_count": 38,
   "outputs": [
    {
     "name": "stdout",
     "output_type": "stream",
     "text": [
      "Iters = 0, Error = 40.237869559798675\n"
     ]
    }
   ],
   "source": [
    "print(f'Iters = 0, Error = {error}')\n",
    "#print(f'Iters = 1, Error = 6.0670')\n",
    "#print(f'Iters = 2, Error = 5.3670')\n",
    "#print(f'Iters = 10, Error = {error}')"
   ],
   "metadata": {
    "collapsed": false
   }
  },
  {
   "cell_type": "code",
   "execution_count": 6,
   "outputs": [],
   "source": [
    "cv2.imshow('temp image', recon)\n",
    "cv2.waitKey(0)\n",
    "cv2.destroyAllWindows()"
   ],
   "metadata": {
    "collapsed": false
   }
  },
  {
   "cell_type": "code",
   "execution_count": null,
   "outputs": [],
   "source": [
    "def new_test_process(test_name, N=300, K=100, I=5, L=4, P=8, save_dic = False, generate_graph = False, variabel = None):\n",
    "    print(f\"Test: {test_name}\")\n",
    "    print(f\"Params: N = {N}, K = {K}, I = {I}, L = {L}, P = {P}\")\n",
    "\n",
    "    patch_shape = np.array([P, P])\n",
    "\n",
    "    sam = Sampler(paths=paths, patch_shape=patch_shape, num_samples=N)\n",
    "    learner = DictionaryLearner(L=L, K=K, sampler=sam, algo='OMP')\n",
    "\n",
    "    # Start the timer\n",
    "    start_time = time.time()\n",
    "\n",
    "    D = learner.sparse_dictionary_learning(iters=I, output=True)\n",
    "\n",
    "    (recon, error) = learner.SPIR(path=path, percent=percent, min_count=min_count)\n",
    "\n",
    "    # Calculate the run time\n",
    "    run_time = time.time() - start_time\n",
    "\n",
    "    # Save the reconstruction\n",
    "    correct_path = 'Reconstructed Images/' + test_name + 'N' + str(N) + 'K' + str(K) + 'I' + str(I) + 'L' + str(L) + 'P' + str(P) + '.jpg'\n",
    "    cv2.imwrite(correct_path, recon)\n",
    "\n",
    "    # Print the results\n",
    "    print(f\"Error = {error}, Run Time = {run_time}\")\n",
    "\n",
    "    # Save the results\n",
    "    #data[(N, K, I, L, P)] = [error, run_time]\n",
    "\n",
    "    with open('Graphs/' + test_name + '_data.pkl', 'rb') as f:\n",
    "        data = pickle.load(f)\n",
    "\n",
    "    data[(N, K, I, L, P)] = [error, run_time]\n",
    "\n",
    "    with open('Graphs/' + test_name + '_data.pkl', 'wb') as f:\n",
    "        pickle.dump(data, f)\n",
    "\n",
    "    if save_dic:\n",
    "\n",
    "        with open('Graphs/' + test_name + '_dictionaries.pkl', 'rb') as f:\n",
    "            dictionaries = pickle.load(f)\n",
    "\n",
    "        dictionaries[(N, K, I, L, P)] = D\n",
    "\n",
    "        with open('Graphs/' + test_name + '_dictionaries.pkl', 'wb') as f:\n",
    "            pickle.dump(data, f)\n",
    "\n",
    "    if generate_graph:\n",
    "        xs =[x[variabel] for x in list(data.keys())]\n",
    "        es = [y[0] for y in list(data.values())]\n",
    "        ts = [y[1] for y in list(data.values())]\n",
    "\n",
    "\n",
    "        # create the figure and first axis\n",
    "        fig, ax1 = plt.subplots(figsize=(8, 6))\n",
    "\n",
    "        # create the first line and first y-axis\n",
    "        ax1.plot(xs, es, linestyle='-.', marker='s', color='blue', label='Error Est.')\n",
    "\n",
    "        X_label = ['N', 'K', 'I', 'L', 'P']\n",
    "        X_label = X_label[variabel]\n",
    "        ax1.set_xlabel(X_label + ' Value')\n",
    "\n",
    "        ax1.set_ylabel('Error Est.')\n",
    "        ax2 = ax1.twinx()\n",
    "\n",
    "        ax2.plot(xs, ts, linestyle='--', marker='^', color='green', label = 'Run Time')\n",
    "\n",
    "        # rotate and adjust second y-axis label\n",
    "        ax2.yaxis.set_label_coords(1.1, 0.5)\n",
    "        ax2.set_ylabel('Run Time', rotation=-90, labelpad=10)\n",
    "\n",
    "        ax1.set_title('Run Time and Error Est. with varying ' + X_label + ' values')\n",
    "\n",
    "        # combine legends from both axes\n",
    "        lines_1, labels_1 = ax1.get_legend_handles_labels()\n",
    "        lines_2, labels_2 = ax2.get_legend_handles_labels()\n",
    "        ax1.legend(lines_1 + lines_2, labels_1 + labels_2)\n",
    "\n",
    "        # save the graph as a PNG file\n",
    "        plt.savefig('Graphs/' + test_name + '.png')\n",
    "\n",
    "        plt.show()\n",
    "\n"
   ],
   "metadata": {
    "collapsed": false
   }
  }
 ],
 "metadata": {
  "kernelspec": {
   "display_name": "Python 3",
   "language": "python",
   "name": "python3"
  },
  "language_info": {
   "codemirror_mode": {
    "name": "ipython",
    "version": 2
   },
   "file_extension": ".py",
   "mimetype": "text/x-python",
   "name": "python",
   "nbconvert_exporter": "python",
   "pygments_lexer": "ipython2",
   "version": "2.7.6"
  }
 },
 "nbformat": 4,
 "nbformat_minor": 0
}
