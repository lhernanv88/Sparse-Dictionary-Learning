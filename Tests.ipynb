{
 "cells": [
  {
   "cell_type": "markdown",
   "source": [
    "# Sparse Dictionary Learning Tests\n",
    "\n",
    "In this notebook we will be preforming tests to show the abilities of our sparse dictionary learning algorithm."
   ],
   "metadata": {
    "collapsed": false
   }
  },
  {
   "cell_type": "code",
   "execution_count": 34,
   "outputs": [],
   "source": [
    "import numpy as np\n",
    "import random\n",
    "import cv2\n",
    "from tqdm.notebook import tqdm\n",
    "import pandas as pd\n",
    "import matplotlib.pyplot as plt\n",
    "import pickle\n",
    "\n",
    "%run Classes.py"
   ],
   "metadata": {
    "collapsed": false
   }
  },
  {
   "cell_type": "markdown",
   "source": [
    "### Evaluation Criteria\n",
    "\n",
    "We will be using MSE and the Stochastic Partial Image Reconstruction to estimate error."
   ],
   "metadata": {
    "collapsed": false
   }
  },
  {
   "cell_type": "markdown",
   "source": [
    "## Task 1: Image Compression/Reconstruction\n",
    "\n",
    "This task is to take a single image, compress it (patch by patch) with sparse coding, and then reconstruct it. We will do this in two different ways: One way is by training our dictionary on a group of sample images, the other is by training using only the single test image. The purpose of the second method is to get a \"best case\" scenario of our algorithms preformance.\n",
    "\n",
    "\n",
    "***Method A: Same Image Training***\n",
    "Here we will train our dictionary on a single image, the same image that we will be testing on. The purpose of this is to get a \"best case\" scenario of our algorithms preformance.\n",
    "\n",
    "***Method B: Multiple Image Training***\n",
    "Here we will train our dictionary on a group of images, and then test it on an unseen test image.\n"
   ],
   "metadata": {
    "collapsed": false
   }
  },
  {
   "cell_type": "code",
   "execution_count": 6,
   "outputs": [],
   "source": [
    "learner = DictionaryLearner()"
   ],
   "metadata": {
    "collapsed": false
   }
  },
  {
   "cell_type": "code",
   "execution_count": 19,
   "outputs": [
    {
     "data": {
      "text/plain": "array([153.6, 204. ])"
     },
     "execution_count": 19,
     "metadata": {},
     "output_type": "execute_result"
    }
   ],
   "source": [
    "img = cv2.imread('Original Images/cheese_board.jpg')\n",
    "img.shape[:2] / np.array([20,20])"
   ],
   "metadata": {
    "collapsed": false
   }
  },
  {
   "cell_type": "code",
   "execution_count": 10,
   "outputs": [
    {
     "data": {
      "text/plain": "array([[[ 51,  50,  52],\n        [ 52,  51,  53],\n        [ 55,  54,  56],\n        ...,\n        [ 22,  28,  39],\n        [ 20,  26,  37],\n        [ 18,  24,  35]],\n\n       [[ 57,  56,  58],\n        [ 58,  57,  59],\n        [ 59,  58,  60],\n        ...,\n        [ 18,  24,  35],\n        [ 18,  24,  35],\n        [ 19,  25,  36]],\n\n       [[ 56,  55,  57],\n        [ 56,  55,  57],\n        [ 57,  56,  58],\n        ...,\n        [ 19,  25,  36],\n        [ 20,  26,  37],\n        [ 20,  26,  37]],\n\n       ...,\n\n       [[ 96, 108, 118],\n        [103, 115, 125],\n        [103, 115, 125],\n        ...,\n        [112, 110, 122],\n        [111, 110, 120],\n        [111, 110, 120]],\n\n       [[ 93, 105, 115],\n        [104, 116, 126],\n        [105, 117, 127],\n        ...,\n        [112, 110, 122],\n        [113, 109, 120],\n        [114, 110, 121]],\n\n       [[ 90, 102, 112],\n        [104, 116, 126],\n        [107, 119, 129],\n        ...,\n        [111, 109, 121],\n        [113, 109, 120],\n        [114, 110, 121]]], dtype=uint8)"
     },
     "execution_count": 10,
     "metadata": {},
     "output_type": "execute_result"
    }
   ],
   "source": [
    "# Load the image\n",
    "img = cv2.imread('dinner.jpg', cv2.IMREAD_COLOR)\n",
    "\n",
    "# Resize the image to 400x300 pixels\n",
    "img_resized = cv2.resize(img, (200, 150), interpolation=cv2.INTER_AREA)\n",
    "\n",
    "# Convert the resized image to grayscale\n",
    "img_gray = cv2.cvtColor(img_resized, cv2.COLOR_RGB2GRAY)\n",
    "\n",
    "# Save the grayscale image as 'small_gray_dinner.png'\n",
    "cv2.imwrite('small_gray_dinner.png', img_gray )"
   ],
   "metadata": {
    "collapsed": false
   }
  },
  {
   "cell_type": "code",
   "execution_count": 20,
   "outputs": [],
   "source": [
    "paths = ['cheese_board.jpg', 'chicken_n_beans.jpg', 'octopus.jpg', 'tea_eggs.jpg', 'persimmon_tomato_salad.jpg']"
   ],
   "metadata": {
    "collapsed": false
   }
  },
  {
   "cell_type": "code",
   "execution_count": 32,
   "outputs": [
    {
     "data": {
      "text/plain": "  0%|          | 0/10 [00:00<?, ?it/s]",
      "application/vnd.jupyter.widget-view+json": {
       "version_major": 2,
       "version_minor": 0,
       "model_id": "ed8ca709652148e08dd25929eec1c48e"
      }
     },
     "metadata": {},
     "output_type": "display_data"
    },
    {
     "data": {
      "text/plain": "  0%|          | 0/5519 [00:00<?, ?it/s]",
      "application/vnd.jupyter.widget-view+json": {
       "version_major": 2,
       "version_minor": 0,
       "model_id": "002067ce5c08420c8cc354c17297d98c"
      }
     },
     "metadata": {},
     "output_type": "display_data"
    },
    {
     "name": "stderr",
     "output_type": "stream",
     "text": [
      "C:\\Users\\raino\\GitHub\\Sparse-Dictionary-Learning\\Classes.py:554: RuntimeWarning: invalid value encountered in floor_divide\n",
      "  recon_img = recon_img // count\n"
     ]
    },
    {
     "data": {
      "text/plain": "  0%|          | 0/10 [00:00<?, ?it/s]",
      "application/vnd.jupyter.widget-view+json": {
       "version_major": 2,
       "version_minor": 0,
       "model_id": "27e06b03f7824762888ac0c258e1e384"
      }
     },
     "metadata": {},
     "output_type": "display_data"
    },
    {
     "data": {
      "text/plain": "  0%|          | 0/5519 [00:00<?, ?it/s]",
      "application/vnd.jupyter.widget-view+json": {
       "version_major": 2,
       "version_minor": 0,
       "model_id": "e2394d69ba1e4240a870de3b93368009"
      }
     },
     "metadata": {},
     "output_type": "display_data"
    },
    {
     "data": {
      "text/plain": "  0%|          | 0/10 [00:00<?, ?it/s]",
      "application/vnd.jupyter.widget-view+json": {
       "version_major": 2,
       "version_minor": 0,
       "model_id": "0d8a791bebc84c3ea8c1c9f4ef9dc001"
      }
     },
     "metadata": {},
     "output_type": "display_data"
    },
    {
     "data": {
      "text/plain": "  0%|          | 0/5519 [00:00<?, ?it/s]",
      "application/vnd.jupyter.widget-view+json": {
       "version_major": 2,
       "version_minor": 0,
       "model_id": "60f37f760b5d4764b2d0e4b3803b3a20"
      }
     },
     "metadata": {},
     "output_type": "display_data"
    },
    {
     "data": {
      "text/plain": "  0%|          | 0/10 [00:00<?, ?it/s]",
      "application/vnd.jupyter.widget-view+json": {
       "version_major": 2,
       "version_minor": 0,
       "model_id": "5b493921d0b942ad9f5d6fdcc3ae734e"
      }
     },
     "metadata": {},
     "output_type": "display_data"
    },
    {
     "data": {
      "text/plain": "  0%|          | 0/5519 [00:00<?, ?it/s]",
      "application/vnd.jupyter.widget-view+json": {
       "version_major": 2,
       "version_minor": 0,
       "model_id": "bf55cb9c58294b2b8b0f90b0661a750b"
      }
     },
     "metadata": {},
     "output_type": "display_data"
    },
    {
     "data": {
      "text/plain": "  0%|          | 0/10 [00:00<?, ?it/s]",
      "application/vnd.jupyter.widget-view+json": {
       "version_major": 2,
       "version_minor": 0,
       "model_id": "029637ef8633486097483b3b2abb6138"
      }
     },
     "metadata": {},
     "output_type": "display_data"
    },
    {
     "data": {
      "text/plain": "  0%|          | 0/5519 [00:00<?, ?it/s]",
      "application/vnd.jupyter.widget-view+json": {
       "version_major": 2,
       "version_minor": 0,
       "model_id": "5be5d8bd9f48474881b9ba426a7a5a24"
      }
     },
     "metadata": {},
     "output_type": "display_data"
    }
   ],
   "source": [
    "paths = ['Compressed Images/cheese_board.jpg']\n",
    "new_path = 'Reconstructed Images/cheese_boardL'\n",
    "N = 512\n",
    "K = 256\n",
    "I = 10\n",
    "percent= .2\n",
    "min_count = 1\n",
    "patch_shape = np.array([8,8])\n",
    "\n",
    "sam = Sampler(paths = paths, patch_shape = patch_shape, num_samples = N)\n",
    "\n",
    "dictionaries = []\n",
    "Ls = [1, 2, 4, 8, 16]\n",
    "for L in Ls:\n",
    "    learner = DictionaryLearner(L=L, K=K, sampler=sam, algo = 'OMP')\n",
    "    D = learner.sparse_dictionary_learning(iters = I, output = True)\n",
    "    (recon, error) =  learner.SPIR(path = paths[0], percent=percent, min_count=min_count)\n",
    "    dictionaries.append((L, D, error))\n",
    "    cv2.imwrite(new_path + str(L) + '.jpg', recon)"
   ],
   "metadata": {
    "collapsed": false
   }
  },
  {
   "cell_type": "markdown",
   "source": [],
   "metadata": {
    "collapsed": false
   }
  },
  {
   "cell_type": "code",
   "execution_count": 35,
   "outputs": [],
   "source": [
    "\n",
    "with open('Graphs/cheese_board_dictionaries.pkl', 'wb') as f:\n",
    "    pickle.dump(dictionaries, f)\n"
   ],
   "metadata": {
    "collapsed": false
   }
  },
  {
   "cell_type": "code",
   "execution_count": 36,
   "outputs": [
    {
     "data": {
      "text/plain": "<Figure size 640x480 with 1 Axes>",
      "image/png": "[encoded data removed]"
     },
     "metadata": {},
     "output_type": "display_data"
    }
   ],
   "source": [
    "xs = Ls\n",
    "ys = [ error for L, dic, error in dictionaries]\n",
    "\n",
    "\n",
    "plt.plot(xs, ys, linestyle='--', marker='o', color='blue', label = 'Cheese Board')\n",
    "plt.xlabel('Number of Atoms')\n",
    "plt.ylabel('Error Est.')\n",
    "plt.title('Error for different number of Atoms')\n",
    "plt.legend()\n",
    "plt.savefig('Graphs/Error_Est_for_L.png')\n",
    "plt.show()\n"
   ],
   "metadata": {
    "collapsed": false
   }
  },
  {
   "cell_type": "code",
   "execution_count": 37,
   "outputs": [
    {
     "data": {
      "text/plain": "  0%|          | 0/1 [00:00<?, ?it/s]",
      "application/vnd.jupyter.widget-view+json": {
       "version_major": 2,
       "version_minor": 0,
       "model_id": "4023d5f3b74f4fe3baa923245c04994d"
      }
     },
     "metadata": {},
     "output_type": "display_data"
    },
    {
     "data": {
      "text/plain": "  0%|          | 0/5519 [00:00<?, ?it/s]",
      "application/vnd.jupyter.widget-view+json": {
       "version_major": 2,
       "version_minor": 0,
       "model_id": "80cb9cdb7b994d10ba41b0ea47dbe460"
      }
     },
     "metadata": {},
     "output_type": "display_data"
    },
    {
     "name": "stderr",
     "output_type": "stream",
     "text": [
      "C:\\Users\\raino\\GitHub\\Sparse-Dictionary-Learning\\Classes.py:554: RuntimeWarning: invalid value encountered in floor_divide\n",
      "  recon_img = recon_img // count\n"
     ]
    },
    {
     "data": {
      "text/plain": "  0%|          | 0/1 [00:00<?, ?it/s]",
      "application/vnd.jupyter.widget-view+json": {
       "version_major": 2,
       "version_minor": 0,
       "model_id": "1628bf4ed5fc4e3a97239935b573819c"
      }
     },
     "metadata": {},
     "output_type": "display_data"
    },
    {
     "data": {
      "text/plain": "  0%|          | 0/5519 [00:00<?, ?it/s]",
      "application/vnd.jupyter.widget-view+json": {
       "version_major": 2,
       "version_minor": 0,
       "model_id": "d583d4e9e231461f84f60e01a5635d5f"
      }
     },
     "metadata": {},
     "output_type": "display_data"
    },
    {
     "data": {
      "text/plain": "  0%|          | 0/1 [00:00<?, ?it/s]",
      "application/vnd.jupyter.widget-view+json": {
       "version_major": 2,
       "version_minor": 0,
       "model_id": "3e93468ff9414a4cbab0aefded19a511"
      }
     },
     "metadata": {},
     "output_type": "display_data"
    },
    {
     "data": {
      "text/plain": "  0%|          | 0/5519 [00:00<?, ?it/s]",
      "application/vnd.jupyter.widget-view+json": {
       "version_major": 2,
       "version_minor": 0,
       "model_id": "c5615cc594d8416db4952748a7577dc5"
      }
     },
     "metadata": {},
     "output_type": "display_data"
    }
   ],
   "source": [
    "paths = ['Compressed Images/chicken_n_beans.jpg']\n",
    "new_path = 'Reconstructed Images/chicken_n_beansL'\n",
    "N = 256\n",
    "K = 128\n",
    "I = 1\n",
    "percent= .2\n",
    "min_count = 1\n",
    "patch_shape = np.array([8,8])\n",
    "\n",
    "sam = Sampler(paths = paths, patch_shape = patch_shape, num_samples = N)\n",
    "\n",
    "dictionaries = []\n",
    "Ls = [5,10,20] # Depends on what I see, but probably [2, 8, 10, 16]? [1, 2, 4, 8, 16]\n",
    "for L in Ls:\n",
    "    learner = DictionaryLearner(L=L, K=K, sampler=sam, algo = 'OMP')\n",
    "    D = learner.sparse_dictionary_learning(iters = I, output = True)\n",
    "    (recon, error) =  learner.SPIR(path = paths[0], percent=percent, min_count=min_count)\n",
    "    dictionaries.append((L, D, error))\n",
    "    cv2.imwrite(new_path + str(L) + '.jpg', recon)\n",
    "\n",
    "with open('Graphs/chicken_n_beans.pkl', 'wb') as f:\n",
    "    pickle.dump(dictionaries, f)"
   ],
   "metadata": {
    "collapsed": false
   }
  },
  {
   "cell_type": "code",
   "execution_count": 38,
   "outputs": [
    {
     "data": {
      "text/plain": "<Figure size 640x480 with 1 Axes>",
      "image/png": "[encoded data removed]"
     },
     "metadata": {},
     "output_type": "display_data"
    }
   ],
   "source": [
    "xs2 = Ls\n",
    "ys2 = [ error for L, dic, error in dictionaries]\n",
    "\n",
    "\n",
    "plt.plot(xs, ys, linestyle='--', marker='o', color='blue', label = 'Cheese Board')\n",
    "plt.plot(xs2, ys2, linestyle='--', marker='s', color='green', label = \"Chicken 'n Beans\")\n",
    "plt.xlabel('Number of Atoms')\n",
    "plt.ylabel('Error Est.')\n",
    "plt.title('Error for different number of Atoms')\n",
    "plt.legend()\n",
    "plt.savefig('Graphs/Error_Est_for_L.png')\n",
    "plt.show()"
   ],
   "metadata": {
    "collapsed": false
   }
  },
  {
   "cell_type": "code",
   "execution_count": null,
   "outputs": [
    {
     "data": {
      "text/plain": "  0%|          | 0/5 [00:00<?, ?it/s]",
      "application/vnd.jupyter.widget-view+json": {
       "version_major": 2,
       "version_minor": 0,
       "model_id": "f84f1d20ddfe4a679f552b6ec3156b70"
      }
     },
     "metadata": {},
     "output_type": "display_data"
    },
    {
     "data": {
      "text/plain": "  0%|          | 0/5519 [00:00<?, ?it/s]",
      "application/vnd.jupyter.widget-view+json": {
       "version_major": 2,
       "version_minor": 0,
       "model_id": "2e36003f21f64b0c93ba08bf4ce35c4b"
      }
     },
     "metadata": {},
     "output_type": "display_data"
    },
    {
     "name": "stderr",
     "output_type": "stream",
     "text": [
      "C:\\Users\\raino\\GitHub\\Sparse-Dictionary-Learning\\Classes.py:554: RuntimeWarning: invalid value encountered in floor_divide\n",
      "  recon_img = recon_img // count\n"
     ]
    },
    {
     "data": {
      "text/plain": "  0%|          | 0/5 [00:00<?, ?it/s]",
      "application/vnd.jupyter.widget-view+json": {
       "version_major": 2,
       "version_minor": 0,
       "model_id": "6b30123021c14cd49ce3eefc21ed927c"
      }
     },
     "metadata": {},
     "output_type": "display_data"
    },
    {
     "data": {
      "text/plain": "  0%|          | 0/5519 [00:00<?, ?it/s]",
      "application/vnd.jupyter.widget-view+json": {
       "version_major": 2,
       "version_minor": 0,
       "model_id": "ef136c45ebd5455492f98a974b50cd5e"
      }
     },
     "metadata": {},
     "output_type": "display_data"
    }
   ],
   "source": [
    "paths = ['Compressed Images/persimmon_tomato_salad.jpg']\n",
    "new_path = 'Reconstructed Images/persimmon_tomato_saladL'\n",
    "N = 512\n",
    "K = 256\n",
    "I = 5\n",
    "percent= .2\n",
    "min_count = 1\n",
    "patch_shape = np.array([8,8])\n",
    "\n",
    "sam = Sampler(paths = paths, patch_shape = patch_shape, num_samples = N)\n",
    "\n",
    "dictionaries = []\n",
    "Ls = [5,10,16] # Depends on what I see, but probably [2, 8, 10, 16]? [1, 2, 4, 8, 16]\n",
    "for L in Ls:\n",
    "    learner = DictionaryLearner(L=L, K=K, sampler=sam, algo = 'OMP')\n",
    "    D = learner.sparse_dictionary_learning(iters = I, output = True)\n",
    "    (recon, error) =  learner.SPIR(path = paths[0], percent=percent, min_count=min_count)\n",
    "    dictionaries.append((L, D, error))\n",
    "    cv2.imwrite(new_path + str(L) + '.jpg', recon)\n",
    "\n",
    "with open('Graphs/persimmon_tomato_salad.pkl', 'wb') as f:\n",
    "    pickle.dump(dictionaries, f)"
   ],
   "metadata": {
    "collapsed": false,
    "pycharm": {
     "is_executing": true
    }
   }
  },
  {
   "cell_type": "code",
   "execution_count": null,
   "outputs": [],
   "source": [
    "xs3 = Ls\n",
    "ys3 = [ error for L, dic, error in dictionaries]\n",
    "\n",
    "\n",
    "plt.plot(xs, ys, linestyle='--', marker='o', color='blue', label = 'Cheese Board')\n",
    "plt.plot(xs2, ys2, linestyle='--', marker='s', color='green', label = \"Chicken 'n Beans\")\n",
    "plt.plot(xs3, ys3, linestyle='--', marker='s', color='red', label = \"Tomato Salad\")\n",
    "plt.xlabel('Number of Atoms')\n",
    "plt.ylabel('Error Est.')\n",
    "plt.title('Error for different number of Atoms')\n",
    "plt.legend()\n",
    "plt.savefig('Graphs/Error_Est_for_L.png')\n",
    "plt.show()"
   ],
   "metadata": {
    "collapsed": false,
    "pycharm": {
     "is_executing": true
    }
   }
  },
  {
   "cell_type": "markdown",
   "source": [
    "### Results\n",
    "\n",
    "\n",
    "#### Cheese Board\n",
    "As a reminder, the parameters for this one were: N = 512, K = 256, I = 10\n",
    "\n",
    "| L = 1, Error = 14.21                                                                          | L = 2, Error = 8.45                                                                           | L = 4, Error = 11.58                                                                          |\n",
    "|-----------------------------------------------------------------------------------------------|-----------------------------------------------------------------------------------------------|-----------------------------------------------------------------------------------------------|\n",
    "| <img alt=\"Caption 1\" height=\"300\" src=\"Reconstructed Images/cheese_boardL1.jpg\" width=\"400\"/> | <img alt=\"Caption 2\" height=\"300\" src=\"Reconstructed Images/cheese_boardL2.jpg\" width=\"400\"/> | <img alt=\"Caption 2\" height=\"300\" src=\"Reconstructed Images/cheese_boardL4.jpg\" width=\"400\"/> |\n",
    "\n",
    "| L = 8, Error = 5.56                                                                           | L = 16, Error = 2.92                                                                           | Original                                                                                 |\n",
    "|-----------------------------------------------------------------------------------------------|------------------------------------------------------------------------------------------------|------------------------------------------------------------------------------------------|\n",
    "| <img alt=\"Caption 1\" height=\"300\" src=\"Reconstructed Images/cheese_boardL8.jpg\" width=\"400\"/> | <img alt=\"Caption 2\" height=\"300\" src=\"Reconstructed Images/cheese_boardL16.jpg\" width=\"400\"/> | <img alt=\"Caption 2\" height=\"300\" src=\"Compressed Images/cheese_board.jpg\" width=\"400\"/> |\n",
    "\n",
    "#### Chicken 'n Beans\n",
    "The parameters for this one were: N = 256, K = 128, I = 1\n",
    "\n",
    "| L = 5, Error = 7.90                                                                              | L = 10, Error = 5.49                                                                              | L = 20, Error = 2.89                                                                              |Original                                                                                 |\n",
    "|--------------------------------------------------------------------------------------------------|---------------------------------------------------------------------------------------------------|---------------------------------------------------------------------------------------------------|----|\n",
    "| <img alt=\"Caption 1\" height=\"300\" src=\"Reconstructed Images/chicken_n_beansL5.jpg\" width=\"400\"/> | <img alt=\"Caption 2\" height=\"300\" src=\"Reconstructed Images/chicken_n_beansL10.jpg\" width=\"400\"/> | <img alt=\"Caption 2\" height=\"300\" src=\"Reconstructed Images/chicken_n_beansL20.jpg\" width=\"400\"/> |<img alt=\"Caption 2\" height=\"300\" src=\"Compressed Images/chicken_n_beans.jpg\" width=\"400\"/> |\n",
    "\n",
    "#### Tomato Salad\n",
    "The parameters for this one were: N = 512, K = 256, I = 5\n",
    "\n",
    "| L = 5, Error =                                                                                          | L = 10, Error =                                                                                      | L = 16, Error =                                                                                          |Original                                                                                 |\n",
    "|---------------------------------------------------------------------------------------------------------|------------------------------------------------------------------------------------------------------|----------------------------------------------------------------------------------------------------------|----|\n",
    "| <img alt=\"Caption 1\" height=\"300\" src=\"Reconstructed Images/persimmon_tomato_saladL5.jpg\" width=\"400\"/> | <img alt=\"Caption 2\" height=\"300\" src=\"Reconstructed Images/persimmon_tomato_saladL10.jpg\" width=\"400\"/> | <img alt=\"Caption 2\" height=\"300\" src=\"Reconstructed Images/persimmon_tomato_saladL16.jpg\" width=\"400\"/> |<img alt=\"Caption 2\" height=\"300\" src=\"Compressed Images/persimmon_tomato_salad.jpg\" width=\"400\"/> |"
   ],
   "metadata": {
    "collapsed": false
   }
  },
  {
   "cell_type": "code",
   "execution_count": null,
   "outputs": [],
   "source": [],
   "metadata": {
    "collapsed": false
   }
  }
 ],
 "metadata": {
  "kernelspec": {
   "display_name": "Python 3",
   "language": "python",
   "name": "python3"
  },
  "language_info": {
   "codemirror_mode": {
    "name": "ipython",
    "version": 2
   },
   "file_extension": ".py",
   "mimetype": "text/x-python",
   "name": "python",
   "nbconvert_exporter": "python",
   "pygments_lexer": "ipython2",
   "version": "2.7.6"
  }
 },
 "nbformat": 4,
 "nbformat_minor": 0
}
