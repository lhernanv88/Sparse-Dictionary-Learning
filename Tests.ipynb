{
 "cells": [
  {
   "cell_type": "markdown",
   "source": [
    "# Sparse Dictionary Learning Tests\n",
    "\n",
    "In this notebook we will be preforming tests to show the abilities of our sparse dictionary learning algorithm."
   ],
   "metadata": {
    "collapsed": false
   }
  },
  {
   "cell_type": "code",
   "execution_count": 2,
   "outputs": [],
   "source": [
    "import numpy as np\n",
    "import random\n",
    "import cv2\n",
    "from tqdm.notebook import tqdm\n",
    "import pandas as pd\n",
    "import matplotlib.pyplot as plt\n",
    "\n",
    "%run Classes.py"
   ],
   "metadata": {
    "collapsed": false
   }
  },
  {
   "cell_type": "markdown",
   "source": [
    "### Evaluation Criteria\n",
    "\n",
    "We will be using MSE and the Stochastic Partial Image Reconstruction to estimate error."
   ],
   "metadata": {
    "collapsed": false
   }
  },
  {
   "cell_type": "markdown",
   "source": [
    "## Task 1: Image Compression/Reconstruction\n",
    "\n",
    "This task is to take a single image, compress it (patch by patch) with sparse coding, and then reconstruct it. We will do this in two different ways: One way is by training our dictionary on a group of sample images, the other is by training using only the single test image. The purpose of the second method is to get a \"best case\" scenario of our algorithms preformance.\n",
    "\n",
    "\n",
    "***Method A: Same Image Training***\n",
    "Here we will train our dictionary on a single image, the same image that we will be testing on. The purpose of this is to get a \"best case\" scenario of our algorithms preformance.\n",
    "\n",
    "***Method B: Multiple Image Training***\n",
    "Here we will train our dictionary on a group of images, and then test it on an unseen test image.\n"
   ],
   "metadata": {
    "collapsed": false
   }
  },
  {
   "cell_type": "code",
   "execution_count": 6,
   "outputs": [],
   "source": [
    "learner = DictionaryLearner()"
   ],
   "metadata": {
    "collapsed": false
   }
  },
  {
   "cell_type": "code",
   "execution_count": 9,
   "outputs": [],
   "source": [
    "img = cv2.imread('Original Images/cheese_board.jpg')"
   ],
   "metadata": {
    "collapsed": false
   }
  },
  {
   "cell_type": "code",
   "execution_count": 10,
   "outputs": [
    {
     "data": {
      "text/plain": "array([[[ 51,  50,  52],\n        [ 52,  51,  53],\n        [ 55,  54,  56],\n        ...,\n        [ 22,  28,  39],\n        [ 20,  26,  37],\n        [ 18,  24,  35]],\n\n       [[ 57,  56,  58],\n        [ 58,  57,  59],\n        [ 59,  58,  60],\n        ...,\n        [ 18,  24,  35],\n        [ 18,  24,  35],\n        [ 19,  25,  36]],\n\n       [[ 56,  55,  57],\n        [ 56,  55,  57],\n        [ 57,  56,  58],\n        ...,\n        [ 19,  25,  36],\n        [ 20,  26,  37],\n        [ 20,  26,  37]],\n\n       ...,\n\n       [[ 96, 108, 118],\n        [103, 115, 125],\n        [103, 115, 125],\n        ...,\n        [112, 110, 122],\n        [111, 110, 120],\n        [111, 110, 120]],\n\n       [[ 93, 105, 115],\n        [104, 116, 126],\n        [105, 117, 127],\n        ...,\n        [112, 110, 122],\n        [113, 109, 120],\n        [114, 110, 121]],\n\n       [[ 90, 102, 112],\n        [104, 116, 126],\n        [107, 119, 129],\n        ...,\n        [111, 109, 121],\n        [113, 109, 120],\n        [114, 110, 121]]], dtype=uint8)"
     },
     "execution_count": 10,
     "metadata": {},
     "output_type": "execute_result"
    }
   ],
   "source": [
    "# Load the image\n",
    "img = cv2.imread('dinner.jpg', cv2.IMREAD_COLOR)\n",
    "\n",
    "# Resize the image to 400x300 pixels\n",
    "img_resized = cv2.resize(img, (200, 150), interpolation=cv2.INTER_AREA)\n",
    "\n",
    "# Convert the resized image to grayscale\n",
    "img_gray = cv2.cvtColor(img_resized, cv2.COLOR_RGB2GRAY)\n",
    "\n",
    "print(img_gray.shape)\n",
    "\n",
    "# Save the grayscale image as 'small_gray_dinner.png'\n",
    "cv2.imwrite('small_gray_dinner.png', img_gray )"
   ],
   "metadata": {
    "collapsed": false
   }
  },
  {
   "cell_type": "code",
   "execution_count": null,
   "outputs": [],
   "source": [
    "dir = 'Original Images/'\n",
    "paths = ['cheese_board.jpg', 'chicken_n_beans.jpg', 'octopus.jpg', 'tea_eggs.jpg', []]"
   ],
   "metadata": {
    "collapsed": false
   }
  },
  {
   "cell_type": "code",
   "execution_count": null,
   "outputs": [],
   "source": [],
   "metadata": {
    "collapsed": false
   }
  }
 ],
 "metadata": {
  "kernelspec": {
   "display_name": "Python 3",
   "language": "python",
   "name": "python3"
  },
  "language_info": {
   "codemirror_mode": {
    "name": "ipython",
    "version": 2
   },
   "file_extension": ".py",
   "mimetype": "text/x-python",
   "name": "python",
   "nbconvert_exporter": "python",
   "pygments_lexer": "ipython2",
   "version": "2.7.6"
  }
 },
 "nbformat": 4,
 "nbformat_minor": 0
}
